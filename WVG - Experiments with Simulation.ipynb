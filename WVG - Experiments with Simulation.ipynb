{
 "cells": [
  {
   "cell_type": "code",
   "execution_count": 56,
   "metadata": {
    "ExecuteTime": {
     "end_time": "2022-10-28T09:07:00.189567Z",
     "start_time": "2022-10-28T09:06:59.991030Z"
    }
   },
   "outputs": [],
   "source": [
    "import numpy as np\n",
    "import matplotlib.pyplot as plt\n",
    "from tqdm import tqdm\n",
    "\n",
    "import tikzplotlib\n",
    "\n",
    "import math"
   ]
  },
  {
   "cell_type": "markdown",
   "metadata": {},
   "source": [
    "# PV-$\\alpha$"
   ]
  },
  {
   "cell_type": "markdown",
   "metadata": {},
   "source": [
    "In this model, voters are partitioned in two groups: Voting voters $V_v$ who cast a vote from $\\{-1, +1\\}$ and delegating voters $V_d$ who delegate their vote to some member of $V_v$.\n",
    "\n",
    "### Parameters\n",
    "\n",
    "External :\n",
    "* $|V_v|$ and $|V_d|$\n",
    "\n",
    "Internal :\n",
    "* None\n",
    "\n",
    "### Discussion\n",
    "\n",
    "We assume uniformity assumption, so voters from $V_v$ vote $+1$ with probability $1/2$ and $-1$ with probability $1/2$. Voters from $V_v$ delegate to any $v \\in V_v$ with probability $1/|V_v|$.\n",
    "\n",
    "Extreme cases : \n",
    "* $|V_v| = 1$ : Dictatorship\n",
    "* $|V_d| = 0$ : Direct democracy\n"
   ]
  },
  {
   "cell_type": "markdown",
   "metadata": {},
   "source": [
    "We assume that all voters have weight 1"
   ]
  },
  {
   "cell_type": "code",
   "execution_count": 2,
   "metadata": {
    "ExecuteTime": {
     "end_time": "2022-10-26T20:04:47.422687Z",
     "start_time": "2022-10-26T20:04:47.390793Z"
    }
   },
   "outputs": [],
   "source": [
    "def create_bill_PVa(n_v, n_d):\n",
    "    '''\n",
    "    This function create a delegation partition for PV-\\alpha, \n",
    "    and return the vote of voters in V_v between 0 and 1, \n",
    "    and the delegations of voters in V_d.\n",
    "    We assume that all voters are of weight 1  and the WVG is with q = 0.5.\n",
    "    '''\n",
    "    v_v = np.random.randint(2, size=(n_v), dtype=int)\n",
    "    v_d = np.random.randint(n_v, size=(n_d), dtype=int)\n",
    "    return v_v, v_d\n",
    "\n",
    "def test_critical_PVa(n_v, n_d):\n",
    "    '''\n",
    "    This function takes as input the number of proxies and delegating voters in PV-\\alpha setting,\n",
    "    create a delegation partition, and count the number of voters in each group that are critical.\n",
    "    We assume that all voters are of weight 1 and the WVG is with q = 0.5.\n",
    "    '''\n",
    "    n = n_v + n_d\n",
    "    v_v, v_d = create_bill_PVa(n_v, n_d)\n",
    "    \n",
    "    # We compute the voting weight of every voters of V_v\n",
    "    w = np.ones(n_v)\n",
    "    for x in v_d:\n",
    "        w[x] += 1\n",
    "        \n",
    "\n",
    "    # We compute the result of the election\n",
    "    vote_for = np.dot(v_v, w)*2 - n\n",
    "    if vote_for >= 0:\n",
    "        sign = 1\n",
    "    elif vote_for < 0:\n",
    "        sign = 0\n",
    "        \n",
    "    \n",
    "    # For every voter in V_v, we see if they are critical in this situation\n",
    "    p_v = 0\n",
    "    for i in range(n_v):\n",
    "        if v_v[i] == sign:\n",
    "            copy_v = v_v.copy()\n",
    "            copy_v[i] = 1 - sign\n",
    "            vote_for_copy = np.dot(copy_v, w)*2 - n\n",
    "            if (vote_for_copy >= 0 and sign == 0) or (vote_for_copy < 0 and sign == 1):\n",
    "                p_v += 1\n",
    "    \n",
    "    # For every voter in V_d, we see if they are critical in this situation\n",
    "    p_d = 0\n",
    "    if vote_for >= -2 and vote_for < 2:\n",
    "        for x in v_d:\n",
    "            if v_v[x] == sign:\n",
    "                p_d += 1\n",
    "                \n",
    "    # Just to avoid dividing by 0\n",
    "    if n_v == 0:\n",
    "        n_v = 1\n",
    "    if n_d == 0:\n",
    "        n_d = 1\n",
    "                \n",
    "    return p_v/n_v, p_d/n_d\n",
    "\n",
    "\n",
    "def expe_PVA(n_v, n_d, n_trys):\n",
    "    '''\n",
    "    This function takes as input the number of proxies and delegating voters in PV-\\alpha setting,\n",
    "    iterates over n_trys delegations partitions and compute the overall criticality of voters in V_v and V_d.\n",
    "    We assume that all voters are of weight 1 and the WVG is with q = 0.5.\n",
    "    '''\n",
    "    p_v = np.zeros(n_trys)\n",
    "    p_d = np.zeros(n_trys)\n",
    "    \n",
    "    for i in range(n_trys):\n",
    "        p_v_i, p_d_i = test_critical_PVa(n_v, n_d)\n",
    "        p_v[i] = p_v_i\n",
    "        p_d[i] = p_d_i\n",
    "    \n",
    "    return p_v, p_d\n",
    "        \n",
    "\n",
    "        \n",
    "    \n",
    "    "
   ]
  },
  {
   "cell_type": "markdown",
   "metadata": {},
   "source": [
    "**Experiment for the paper**\n",
    "\n",
    "Here we have $100$ voters and we look at different values of $|V_v|$ from 0 to 100."
   ]
  },
  {
   "cell_type": "code",
   "execution_count": 41,
   "metadata": {
    "ExecuteTime": {
     "end_time": "2022-10-27T08:45:01.928765Z",
     "start_time": "2022-10-27T08:37:07.246021Z"
    }
   },
   "outputs": [
    {
     "name": "stderr",
     "output_type": "stream",
     "text": [
      "24it [07:54, 19.78s/it]\n"
     ]
    }
   ],
   "source": [
    "n_voters = 100\n",
    "tab_n = [1,2,3,4] + [n*5 for n in range(1, n_voters//5+1)]\n",
    "len_tab = len(tab_n)\n",
    "tab_res = np.zeros((2, len_tab))\n",
    "\n",
    "for i, n in tqdm(enumerate(tab_n)):\n",
    "    p_v, p_d = expe_PVA(n, n_voters-n, 100000)\n",
    "    tab_res[0, i] = p_v.mean()\n",
    "    tab_res[1, i] = p_d.mean()"
   ]
  },
  {
   "cell_type": "code",
   "execution_count": 4,
   "metadata": {
    "ExecuteTime": {
     "end_time": "2022-10-26T20:05:23.774401Z",
     "start_time": "2022-10-26T20:05:23.279592Z"
    }
   },
   "outputs": [
    {
     "data": {
      "text/plain": [
       "Text(0, 0.5, 'Probability of being critical')"
      ]
     },
     "execution_count": 4,
     "metadata": {},
     "output_type": "execute_result"
    },
    {
     "data": {
      "image/png": "[encoded data removed]",
      "text/plain": [
       "<Figure size 432x288 with 1 Axes>"
      ]
     },
     "metadata": {
      "needs_background": "light"
     },
     "output_type": "display_data"
    }
   ],
   "source": [
    "tab_res\n",
    "plt.plot([n for n in tab_n], tab_res[0],'o', linestyle='solid' , label = r'$\\mathcal{M}^{\\alpha}_v(W)$ for $v \\in V_v$', color=\"black\")\n",
    "plt.plot([n for n in tab_n[:-1]], tab_res[1][:-1], 'v',linestyle='dotted', label = r'$\\mathcal{M}^{\\alpha}_v(W)$ for $v \\in V_d$', color=\"black\")\n",
    "plt.legend()\n",
    "plt.xlim(1,n_voters)\n",
    "# plt.xticks(tab_n[::], tab_n[::])\n",
    "#plt.title(r'$%i$ voters'%n_voters)\n",
    "plt.xlabel(r'$|V_v|$')\n",
    "plt.ylim(0,1)\n",
    "plt.ylabel(r'Probability of being critical')"
   ]
  },
  {
   "cell_type": "markdown",
   "metadata": {},
   "source": [
    "# PV-$\\beta$"
   ]
  },
  {
   "cell_type": "markdown",
   "metadata": {},
   "source": [
    "This model is very similar, but delegating voters have the choice to vote themselves or delegate to some voter in $V_v$.\n",
    "\n",
    "### Parameters\n",
    "\n",
    "External :\n",
    "\n",
    "* $|V_v|$ and $|V_d|$\n",
    "\n",
    "Internal :\n",
    "\n",
    "* $p_d$ probability to delegate for voters in $V_d$.\n",
    "\n",
    "### Discussion\n",
    "\n",
    "Extreme case :\n",
    "\n",
    "* $p_d = 0$ : Direct democracy\n",
    "* $p_d = 1$ : PV-$\\alpha$"
   ]
  },
  {
   "cell_type": "markdown",
   "metadata": {},
   "source": [
    "We assume that all voters have weights 1"
   ]
  },
  {
   "cell_type": "code",
   "execution_count": 5,
   "metadata": {
    "ExecuteTime": {
     "end_time": "2022-10-26T20:05:23.790496Z",
     "start_time": "2022-10-26T20:05:23.776397Z"
    }
   },
   "outputs": [],
   "source": [
    "def create_bill_PVb(n_v, n_d, proba_d):\n",
    "    '''\n",
    "    This function create a delegation partition for PV-\\beta, \n",
    "    and return the vote of voters in V_v between 0 and 1, \n",
    "    For v_d it select with v_d_d if they delegate (v_d_d[i] = 0) or vote directly\n",
    "    Then we will look at v_d_1 if they vote directly, v_d_2 if they delegate.\n",
    "    We assume that all voters are of weight 1  and the WVG is with q = 0.5.\n",
    "    '''\n",
    "    v_v = np.random.randint(2, size=(n_v), dtype=int)\n",
    "    v_d_d = np.zeros(n_d, dtype=int)\n",
    "    v_d_d[::] = proba_d <= np.random.rand(n_d)\n",
    "    v_d_1 = np.random.randint(2, size=(n_d), dtype=int)\n",
    "    v_d_2 = np.random.randint(n_v, size=(n_d), dtype=int)\n",
    "    return v_v, (v_d_d, v_d_1, v_d_2)\n",
    "\n",
    "def test_critical_PVb(n_v, n_d, proba_d):\n",
    "    '''\n",
    "    This function takes as input the number of proxies and delegating voters, and the probability to delegate\n",
    "    in PV-\\beta setting, create a delegation partition, and count the number of voters in each group that are critical.\n",
    "    We assume that all voters are of weight 1 and the WVG is with q = 0.5.\n",
    "    '''\n",
    "    n = n_v + n_d\n",
    "    \n",
    "    # create a delegation partition\n",
    "    v_v, (v_d_d, v_d_1, v_d_2) = create_bill_PVb(n_v, n_d, proba_d)\n",
    "    \n",
    "    # We add two fake proxies for the delegating voters that vote directly.\n",
    "    votes = np.concatenate([v_v, [1], [0]])\n",
    "    w = np.ones(n_v+2)\n",
    "    w[-1] = 0\n",
    "    w[-2] = 0\n",
    "    \n",
    "    # We compute the weights of the proxies and the number of delegating voters that vote for and against.\n",
    "    for i in range(n_d):\n",
    "        if v_d_d[i]:\n",
    "            w[-1-v_d_1[i]] += 1\n",
    "        else:\n",
    "            w[v_d_2[i]] += 1\n",
    "        \n",
    "    # We compute the results of the rule\n",
    "    vote_for = np.dot(votes, w)*2 - n\n",
    "    if vote_for >= 0:\n",
    "        sign = 1\n",
    "    elif vote_for < 0:\n",
    "        sign = 0\n",
    "        \n",
    "    # We compute the number of voters in V_v that are critical\n",
    "    p_v = 0\n",
    "    for i in range(n_v):\n",
    "        if v_v[i] == sign:\n",
    "            copy_v = votes.copy()\n",
    "            copy_v[i] = 1 - sign\n",
    "            vote_for_copy = np.dot(copy_v, w)*2 - n\n",
    "            if (vote_for_copy >= 0 and sign == 0) or (vote_for_copy < 0 and sign == 1):\n",
    "                p_v += 1\n",
    "    \n",
    "    # We compute the number of voters in V_d that are critical\n",
    "    p_d = 0\n",
    "    if vote_for >= -2 and vote_for < 2:\n",
    "        for i in range(n_d):\n",
    "            if v_d_d[i]:\n",
    "                if v_d_1[i] == sign:\n",
    "                    p_d += 1\n",
    "            elif v_v[v_d_2[i]] == sign:\n",
    "                p_d += 1\n",
    "         \n",
    "    # To avoid dividing by 0\n",
    "    if n_v == 0:\n",
    "        n_v = 1\n",
    "    if n_d == 0:\n",
    "        n_d = 1\n",
    "                \n",
    "    return p_v/n_v, p_d/n_d\n",
    "\n",
    "\n",
    "def expe_PVb(n_v, n_d, n_trys, proba_d):\n",
    "    '''\n",
    "    This function takes as input the number of proxies and delegating voters in PV-\\alpha setting,\n",
    "    iterates over n_trys delegations partitions and compute the overall criticality of voters in V_v and V_d.\n",
    "    We assume that all voters are of weight 1 and the WVG is with q = 0.5.\n",
    "    '''\n",
    "    p_v = 0\n",
    "    p_d = 0\n",
    "    \n",
    "    for _ in range(n_trys):\n",
    "        p_v_i, p_d_i = test_critical_PVb(n_v, n_d, proba_d)\n",
    "        p_v += p_v_i\n",
    "        p_d += p_d_i\n",
    "    \n",
    "    return p_v/n_trys, p_d/n_trys\n",
    "        \n",
    "\n",
    "        \n",
    "    "
   ]
  },
  {
   "cell_type": "markdown",
   "metadata": {},
   "source": [
    "**Experiment for the paper**\n",
    "\n",
    "Here we have $100$ voters and we look at different values of $|V_v|$ from 0 to 100."
   ]
  },
  {
   "cell_type": "code",
   "execution_count": 39,
   "metadata": {
    "ExecuteTime": {
     "end_time": "2022-10-27T08:14:23.106583Z",
     "start_time": "2022-10-27T08:06:29.341517Z"
    }
   },
   "outputs": [
    {
     "name": "stderr",
     "output_type": "stream",
     "text": [
      "24it [07:53, 19.73s/it]\n"
     ]
    }
   ],
   "source": [
    "n_voters = 100\n",
    "tab_n = [1,2,3,4] + [n*5 for n in range(1, n_voters//5+1)]\n",
    "len_tab = len(tab_n)\n",
    "tab_resb = np.zeros((2, len_tab))\n",
    "\n",
    "for i, n in tqdm(enumerate(tab_n)):\n",
    "    p_v, p_d = expe_PVb(n, n_voters-n, 100000, 0.5)\n",
    "    tab_resb[0, i] = p_v\n",
    "    tab_resb[1, i] = p_d"
   ]
  },
  {
   "cell_type": "code",
   "execution_count": 44,
   "metadata": {
    "ExecuteTime": {
     "end_time": "2022-10-27T08:45:21.355074Z",
     "start_time": "2022-10-27T08:45:20.376837Z"
    }
   },
   "outputs": [
    {
     "data": {
      "image/png": "[encoded data removed]",
      "text/plain": [
       "<Figure size 432x288 with 1 Axes>"
      ]
     },
     "metadata": {
      "needs_background": "light"
     },
     "output_type": "display_data"
    }
   ],
   "source": [
    "# plt.rcParams.update({\n",
    "#     \"text.usetex\": True,\n",
    "#     \"font.family\": \"Helvetica\"\n",
    "# })\n",
    "\n",
    "tab_res\n",
    "plt.plot([n for n in tab_n], tab_res[0],'o', linestyle='solid' , label = r'$\\mathcal{M}^{\\alpha}_v(W)$ for $v \\in V_v$', color=\"black\")\n",
    "plt.plot([n for n in tab_n[:-1]], tab_res[1][:-1], 'v',linestyle='dotted', label = r'$\\mathcal{M}^{\\alpha}_v(W)$ for $v \\in V_d$', color=\"black\")\n",
    "plt.legend()\n",
    "plt.xlim(1,n_voters)\n",
    "#plt.title(r'$%i$ voters'%n_voters)\n",
    "plt.xlabel(r'$|V_v|$')\n",
    "plt.ylim(0,1)\n",
    "plt.ylabel('Probability of being critical')\n",
    "tab_resb\n",
    "plt.plot([n for n in tab_n], tab_resb[0], 's', linestyle = 'dashed', label = r'$\\mathcal{M}^{\\beta}_v(W)$ for $v \\in V_v$', color=\"black\")\n",
    "plt.plot([n for n in tab_n[:-1]], tab_resb[1][:-1], '*', linestyle = '-.' ,label = r'$\\mathcal{M}^{\\beta}_v(W)$ for $v \\in V_d$', color=\"black\")\n",
    "plt.legend()\n",
    "#plt.xlim(1,n_voters)\n",
    "#plt.title(\"%i voters\"%n_voters)\n",
    "#plt.xlabel(\"Number of voting voters\")\n",
    "#plt.ylim(0,1)\n",
    "#plt.ylabel(\"Power\")\n",
    "tikzplotlib.save(\"criticality_pv.tex\")\n",
    "plt.savefig(\"criticality_pv.png\")\n",
    "plt.show()"
   ]
  },
  {
   "cell_type": "markdown",
   "metadata": {},
   "source": [
    "**Experiment for the paper**\n",
    "\n",
    "Here we have $100$ voters and we look at different values of $|V_v| \\in [20,50]$ and $p_d$ going from $0$ to $1$. "
   ]
  },
  {
   "cell_type": "code",
   "execution_count": 53,
   "metadata": {
    "ExecuteTime": {
     "end_time": "2022-10-27T12:04:33.617127Z",
     "start_time": "2022-10-27T12:00:29.660625Z"
    }
   },
   "outputs": [
    {
     "name": "stderr",
     "output_type": "stream",
     "text": [
      "11it [04:03, 22.10s/it]\n"
     ]
    }
   ],
   "source": [
    "tab_n = np.linspace(0,1,11)\n",
    "len_tab = len(tab_n)\n",
    "tab_resc = np.zeros((2, len_tab))\n",
    "\n",
    "for i, proba_d in tqdm(enumerate(tab_n)):\n",
    "    p_v, p_d = expe_PVb(20, 80, 100000, proba_d)\n",
    "    tab_resc[0, i] = p_v\n",
    "    tab_resc[1, i] = p_d\n",
    "    \n",
    "    \n",
    "tab_resc2 = np.zeros((2, len_tab))\n",
    "\n",
    "for i, proba_d in tqdm(enumerate(tab_n)):\n",
    "    p_v, p_d = expe_PVb(50, 50, 100000, proba_d)\n",
    "    tab_resc2[0, i] = p_v\n",
    "    tab_resc2[1, i] = p_d\n"
   ]
  },
  {
   "cell_type": "code",
   "execution_count": 55,
   "metadata": {
    "ExecuteTime": {
     "end_time": "2022-10-27T12:21:18.489375Z",
     "start_time": "2022-10-27T12:21:17.337069Z"
    }
   },
   "outputs": [
    {
     "data": {
      "image/png": "[encoded data removed]",
      "text/plain": [
       "<Figure size 432x288 with 1 Axes>"
      ]
     },
     "metadata": {
      "needs_background": "light"
     },
     "output_type": "display_data"
    }
   ],
   "source": [
    "plt.plot([n for n in tab_n], tab_resc[0], 'o', ls = '-',label = r'$\\mathcal{M}^{\\beta}_v(W)$ for $v \\in V_v$ and $|V_v| = 20$', color=\"black\")\n",
    "plt.plot([n for n in tab_n], tab_resc[1], 'v', ls = '--',label = r'$\\mathcal{M}^{\\beta}_v(W)$ for $v \\in V_d$ and $|V_v| = 20$', color=\"black\")\n",
    "plt.plot([n for n in tab_n], tab_resc2[0], 's', ls = '-',label = r'$\\mathcal{M}^{\\beta}_v(W)$ for $v \\in V_v$ and $|V_v| = 50$', color=\"black\")\n",
    "plt.plot([n for n in tab_n], tab_resc2[1], '*', ls = '--',label = r'$\\mathcal{M}^{\\beta}_v(W)$ for $v \\in V_d$ and $|V_v| = 50$', color=\"black\")\n",
    "plt.legend()\n",
    "plt.xlim(0,1)\n",
    "#plt.title(\"20 voters (5 representants)\")\n",
    "plt.xlabel(r'$p_d$')\n",
    "plt.ylabel('Probability of being critical')\n",
    "tikzplotlib.save(\"criticality_pv_pd_2.tex\")\n",
    "plt.savefig(\"criticality_pv_pd_2.png\")\n",
    "plt.show()"
   ]
  },
  {
   "cell_type": "markdown",
   "metadata": {},
   "source": [
    "# LD"
   ]
  },
  {
   "cell_type": "markdown",
   "metadata": {},
   "source": [
    "In this last model, every voter can delegate to every other voter, or vote themselves. This can lead to delegation chains, or delegation cycles. The probability to delegate is $p_d$ and the probability to delegate to a particular voter is $p_d \\times \\frac{1}{|V| -1}$. The probability to answer $+1$ or $-1$ is $\\frac{1-p_d}{2}$.\n",
    "\n",
    "### Parameters\n",
    "\n",
    "External :\n",
    "\n",
    "* $|V_v|$ and $|V_d|$\n",
    "\n",
    "Internal :\n",
    "\n",
    "* p_d probability to delegate for voters in $V_d$.\n",
    "\n",
    "### Discussion\n",
    "\n",
    "Extreme case :\n",
    "\n",
    "* $p_d = 0$ : Direct democracy\n",
    "* $p_d = 1$ : Nobody vote"
   ]
  },
  {
   "cell_type": "markdown",
   "metadata": {},
   "source": [
    "We assume here that voters have different weights."
   ]
  },
  {
   "cell_type": "code",
   "execution_count": 13,
   "metadata": {
    "ExecuteTime": {
     "end_time": "2022-10-26T20:08:51.403424Z",
     "start_time": "2022-10-26T20:08:51.376460Z"
    }
   },
   "outputs": [],
   "source": [
    "def create_bill_LD(n, proba_d):\n",
    "    '''\n",
    "    This function create a delegation partition for LD,  \n",
    "    It select with v_d if voters delegate (v_d_d[i] = 0) or vote directly\n",
    "    Then we will look at v_1 if they vote directly, v_2 if they delegate and we take care of avoiding self delegations.\n",
    "    We assume that all voters are of weight 1  and the WVG is with q = 0.5.\n",
    "    '''\n",
    "    v_d = np.zeros(n, dtype=int)\n",
    "    v_d[::] = proba_d <= np.random.rand(n)\n",
    "    v_1 = np.random.randint(2, size=(n), dtype=int)\n",
    "    v_2 = np.random.randint(n, size=(n), dtype=int)\n",
    "    for i in range(n):\n",
    "        while v_2[i] == i:\n",
    "            v_2[i] = np.random.randint(n)\n",
    "                \n",
    "    return v_d, v_1, v_2"
   ]
  },
  {
   "cell_type": "code",
   "execution_count": 27,
   "metadata": {
    "ExecuteTime": {
     "end_time": "2022-10-26T20:18:05.042058Z",
     "start_time": "2022-10-26T20:18:05.022359Z"
    }
   },
   "outputs": [],
   "source": [
    "def compute_result_weighted(v_d, v_1, v_2, weights):\n",
    "    '''\n",
    "    This function takes as input a delegation instance, and weights of voters, and compute the results of the election in\n",
    "    this delegation instance\n",
    "    '''\n",
    "    n = len(v_d)\n",
    "    \n",
    "    # V is the vector of final vote (+1, -1 or 0 if the voter is abstaining)\n",
    "    v = np.zeros(n)\n",
    "    \n",
    "    # We push in q all the delegating voters\n",
    "    q = []\n",
    "        \n",
    "    for i in range(n):\n",
    "        if v_d[i]:\n",
    "            v[i] = 2*v_1[i]-1\n",
    "        else:\n",
    "            q.append(i)\n",
    "            \n",
    "            \n",
    "    # We propagate the vote of direct voters to the voters delegating to them until we've seen all the voters\n",
    "    # The idea is similar to a DFS, but in a tree.\n",
    "    abst = []\n",
    "    while q != []:\n",
    "        x = q.pop()\n",
    "        if x in abst or v[x] != 0:\n",
    "            continue\n",
    "        seen = []\n",
    "        while x not in seen and x not in abst and v[x] == 0:\n",
    "            seen.append(x)\n",
    "            x = v_2[x]\n",
    "        \n",
    "        if x in seen or x in abst:\n",
    "            for y in seen:\n",
    "                if y not in abst:\n",
    "                    abst.append(y)\n",
    "        else:\n",
    "            r = v[x]\n",
    "            for y in seen:\n",
    "                v[y] = r\n",
    "                \n",
    "    # We compute the results\n",
    "    r = v.dot(weights)\n",
    "    \n",
    "    return r >=0, v\n",
    "\n",
    "def test_critical_LD_weighted(n, proba_d, weights):\n",
    "    '''\n",
    "    This function takes as input the number of voters, the probability to delegate and the weights\n",
    "    in the LD setting, create a delegation partition, and count the number of voters in each group that are critical.\n",
    "    We assume that we are in a WVG with q = 0.5. We also assume that weights are natural number between 1 and 9.\n",
    "    '''\n",
    "    v_d, v_1, v_2 = create_bill_LD(n, proba_d)\n",
    "    res, v = compute_result_weighted(v_d, v_1, v_2, weights)\n",
    "    \n",
    "    power = np.zeros(10)\n",
    "    \n",
    "    # We look for every voter that agree with the result if the result would change if this voter changes his vote.\n",
    "    for i in range(n):\n",
    "        res2 = res\n",
    "        if v[i] != -1 and res == 1:\n",
    "            v_d_copy = v_d.copy()\n",
    "            v_d_copy[i] = 1\n",
    "            v_1_copy = v_1.copy()\n",
    "            v_1_copy[i] = 0\n",
    "            res2, _ = compute_result_weighted(v_d_copy, v_1_copy, v_2, weights)\n",
    "            \n",
    "        elif v[i] != 1 and res == 0:\n",
    "            v_d_copy = v_d.copy()\n",
    "            v_d_copy[i] = 1\n",
    "            v_1_copy = v_1.copy()\n",
    "            v_1_copy[i] = 1\n",
    "            res2, _ = compute_result_weighted(v_d_copy, v_1_copy, v_2, weights)\n",
    "        if res != res2:\n",
    "            power[weights[i]-1] += 1\n",
    "    \n",
    "    \n",
    "    return power\n",
    "            \n",
    "    \n"
   ]
  },
  {
   "cell_type": "markdown",
   "metadata": {},
   "source": [
    "**Experiment of the paper**\n",
    "\n",
    "We now conduct experiments to see the impact of the probability of delegating on the criticality of voters with differents weights ($1,2,5$) in a WVG with 50 voters of weight 1, 30 of weight 2 and 20 voters of weight 5."
   ]
  },
  {
   "cell_type": "code",
   "execution_count": 49,
   "metadata": {
    "ExecuteTime": {
     "end_time": "2022-10-27T08:54:03.187972Z",
     "start_time": "2022-10-27T08:54:03.179996Z"
    }
   },
   "outputs": [],
   "source": [
    "def expe_LD_weightedv(n, n_trys, proba_d):\n",
    "    \"\"\"\n",
    "    \n",
    "    This function takes as input the number of voters, the probability to delegate and the number of delegation\n",
    "    instances tested. We construct a WVG with 50 voters of weight 1, 30 voters of weight 2 and 20 voters of weight 5.\n",
    "    \"\"\"\n",
    "    p_v = np.zeros(10)\n",
    "    c_v = np.zeros(10)\n",
    "    \n",
    "    for _ in tqdm(range(n_trys)):\n",
    "        weights = [1]*50 + [2]*30 + [5]*20\n",
    "        res_i = test_critical_LD_weighted(n, proba_d, weights)\n",
    "        for w in weights:\n",
    "            c_v[w-1] += 1\n",
    "        for i in range(10):\n",
    "            p_v[i] += res_i[i]\n",
    "    \n",
    "    return p_v/c_v\n",
    "\n"
   ]
  },
  {
   "cell_type": "code",
   "execution_count": 50,
   "metadata": {
    "ExecuteTime": {
     "end_time": "2022-10-27T09:25:14.992528Z",
     "start_time": "2022-10-27T08:54:05.691445Z"
    }
   },
   "outputs": [
    {
     "name": "stderr",
     "output_type": "stream",
     "text": [
      "100%|██████████| 10000/10000 [00:49<00:00, 202.49it/s]\n",
      "C:\\Users\\Theo Delemazure\\env\\lib\\site-packages\\ipykernel_launcher.py:13: RuntimeWarning: invalid value encountered in true_divide\n",
      "  del sys.path[0]\n",
      "100%|██████████| 10000/10000 [00:58<00:00, 171.90it/s]\n",
      "100%|██████████| 10000/10000 [01:10<00:00, 142.85it/s]\n",
      "100%|██████████| 10000/10000 [01:14<00:00, 133.61it/s]\n",
      "100%|██████████| 10000/10000 [01:24<00:00, 118.01it/s]\n",
      "100%|██████████| 10000/10000 [01:36<00:00, 103.47it/s]\n",
      "100%|██████████| 10000/10000 [01:50<00:00, 90.42it/s]\n",
      "100%|██████████| 10000/10000 [02:26<00:00, 68.30it/s]\n",
      "100%|██████████| 10000/10000 [07:18<00:00, 22.79it/s] \n",
      "100%|██████████| 10000/10000 [12:19<00:00, 13.52it/s]  \n"
     ]
    }
   ],
   "source": [
    "tab_n = np.linspace(0,0.9,10)\n",
    "\n",
    "len_tab = len(tab_n)\n",
    "tab_res = np.zeros((3,len_tab))\n",
    "\n",
    "for i, p_d in (enumerate(tab_n)):\n",
    "    p_v = expe_LD_weightedv(100, 10000, p_d)\n",
    "    tab_res[0][i] = p_v[0]\n",
    "    tab_res[1][i] = p_v[1]\n",
    "    tab_res[2][i] = p_v[4]"
   ]
  },
  {
   "cell_type": "code",
   "execution_count": 52,
   "metadata": {
    "ExecuteTime": {
     "end_time": "2022-10-27T09:27:29.915216Z",
     "start_time": "2022-10-27T09:27:28.958981Z"
    }
   },
   "outputs": [
    {
     "data": {
      "image/png": "[encoded data removed]",
      "text/plain": [
       "<Figure size 432x288 with 1 Axes>"
      ]
     },
     "metadata": {
      "needs_background": "light"
     },
     "output_type": "display_data"
    }
   ],
   "source": [
    "tab_res\n",
    "plt.plot([n for n in tab_n], tab_res[0], '-o', label = r'$\\mathcal{M}^{LD}_v(W)$ for $v$ with $w(v)=1$', color=\"black\")\n",
    "plt.plot([n for n in tab_n], tab_res[1], '-.s', label = r'$\\mathcal{M}^{LD}_v(W)$ for $v$ with $w(v)=2$', color=\"black\")\n",
    "plt.plot([n for n in tab_n], tab_res[2], '--v', label = r'$\\mathcal{M}^{LD}_v(W)$ for $v$ with $w(v)=5$', color=\"black\")\n",
    "\n",
    "plt.legend()\n",
    "plt.xlim(0,0.9)\n",
    "plt.ylim(0,0.2)\n",
    "#plt.title(\"10 voters\")\n",
    "plt.xlabel(r'$p_d$')\n",
    "plt.ylabel('Probability of being critical')\n",
    "tikzplotlib.save(\"criticality_ld.tex\")\n",
    "plt.savefig(\"criticality_ld.png\")\n",
    "plt.show()"
   ]
  }
 ],
 "metadata": {
  "kernelspec": {
   "display_name": "Python 3",
   "language": "python",
   "name": "python3"
  },
  "language_info": {
   "codemirror_mode": {
    "name": "ipython",
    "version": 3
   },
   "file_extension": ".py",
   "mimetype": "text/x-python",
   "name": "python",
   "nbconvert_exporter": "python",
   "pygments_lexer": "ipython3",
   "version": "3.7.3"
  }
 },
 "nbformat": 4,
 "nbformat_minor": 2
}
