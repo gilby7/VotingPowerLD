{
 "cells": [
  {
   "cell_type": "code",
   "execution_count": 1,
   "metadata": {
    "ExecuteTime": {
     "end_time": "2022-10-18T12:00:03.896639Z",
     "start_time": "2022-10-18T12:00:03.890694Z"
    }
   },
   "outputs": [],
   "source": [
    "import numpy as np\n",
    "import math\n",
    "from tqdm import tqdm\n",
    "import matplotlib.pyplot as plt"
   ]
  },
  {
   "cell_type": "markdown",
   "metadata": {},
   "source": [
    "# Algorithms to find the voting power of each agent in a WVG"
   ]
  },
  {
   "cell_type": "markdown",
   "metadata": {},
   "source": [
    "## Lemma 1: computes the number of ways to of having an ordered partition"
   ]
  },
  {
   "cell_type": "markdown",
   "metadata": {},
   "source": [
    "The following code reflects the equations seen in the proof of Lemma 1 (found in the Appendix). Instead of finding any number of  partitions of a set, this just looks at 2, 3, and 4 partitions as this is all we need for our purposes."
   ]
  },
  {
   "cell_type": "code",
   "execution_count": 2,
   "metadata": {
    "ExecuteTime": {
     "end_time": "2022-10-18T12:00:04.412751Z",
     "start_time": "2022-10-18T12:00:04.371727Z"
    }
   },
   "outputs": [],
   "source": [
    "def getAll2partitions(w):\n",
    "    if len(w) == 0:\n",
    "        return np.ones((1,1), dtype=int)\n",
    "    w_sum = int(np.sum(w))\n",
    "    n = len(w)\n",
    "    \n",
    "    arr_res = np.ones((n, n+1, w_sum+1), dtype=int)*-1\n",
    "    \n",
    "    def getCell(i, n1i, w1i):\n",
    "        if n1i < 0 or w1i < 0:\n",
    "            return 0\n",
    "        if n1i == 0 and w1i == 0:\n",
    "            return 1\n",
    "        if i == n:\n",
    "            return 0\n",
    "        if arr_res[i, n1i, w1i] >= 0:\n",
    "            return arr_res[i, n1i, w1i]\n",
    "        else:\n",
    "            s = 0\n",
    "            s += getCell(i+1, n1i - 1, w1i - int(w[i]))\n",
    "            s += getCell(i+1, n1i, w1i)\n",
    "            arr_res[i, n1i, w1i] = s\n",
    "            return s\n",
    "        \n",
    "    for n1 in range(n+1):\n",
    "        for w1 in range(w_sum+1):\n",
    "            arr_res[0, n1, w1] = getCell(0, n1, w1)\n",
    "    \n",
    "    return arr_res[0]\n",
    "\n",
    "\n",
    "def getAll3partitions(w):\n",
    "    if len(w) == 0:\n",
    "        return np.ones((1,1,1,1), dtype=int)\n",
    "    w_sum = int(np.sum(w))\n",
    "    n = len(w)\n",
    "    \n",
    "    arr_res = np.ones((n, n+1, n+1, w_sum+1, w_sum+1), dtype=int)*-1\n",
    "    \n",
    "    def getCell(i, n1i, n2i, w1i, w2i):\n",
    "        if n1i < 0 or n2i < 0 or w1i < 0 or w2i < 0:\n",
    "            return 0\n",
    "        if n1i == 0 and n2i == 0 and w1i == 0 and w2i == 0:\n",
    "            return 1\n",
    "        if i == n:\n",
    "            return 0\n",
    "        if arr_res[i, n1i, n2i, w1i, w2i] >= 0:\n",
    "            return arr_res[i, n1i, n2i, w1i, w2i]\n",
    "        else:\n",
    "            s = 0\n",
    "            s += getCell(i+1, n1i - 1, n2i, w1i - w[i], w2i)\n",
    "            s += getCell(i+1, n1i, n2i - 1, w1i, w2i - w[i])\n",
    "            s += getCell(i+1, n1i, n2i, w1i, w2i)\n",
    "            arr_res[i, n1i, n2i, w1i, w2i] = s\n",
    "            return s\n",
    "        \n",
    "    for n1 in range(n+1):\n",
    "        for n2 in range(n+1-n1):\n",
    "            for w1 in range(w_sum+1):\n",
    "                for w2 in range(w_sum+1-w1):\n",
    "                    arr_res[0, n1, n2, w1, w2] = getCell(0, n1, n2, w1, w2)\n",
    "    \n",
    "    return arr_res[0]\n",
    "\n",
    "\n",
    "           \n",
    "def getAll4partitions(w):\n",
    "    w_sum = int(np.sum(w))\n",
    "    n = len(w)\n",
    "    \n",
    "    arr_res = np.ones((n, n+1, n+1, n+1, w_sum+1, w_sum+1, w_sum+1), dtype=int)*-1\n",
    "  \n",
    "    def getCell(i, n1i, n2i, n3i, w1i, w2i, w3i):\n",
    "        if n1i < 0 or n2i < 0 or n3i < 0 or w1i < 0 or w2i < 0 or w3i < 0:\n",
    "            return 0\n",
    "        if n1i == 0 and n2i == 0 and n3i == 0 and w1i == 0 and w2i == 0 and w3i == 0:\n",
    "            return 1\n",
    "        if i == n:\n",
    "            return 0\n",
    "        if arr_res[i, n1i, n2i, n3i, w1i, w2i, w3i] >= 0:\n",
    "            return arr_res[i, n1i, n2i, n3i, w1i, w2i, w3i]\n",
    "        else:\n",
    "            s = 0\n",
    "            s += getCell(i+1, n1i - 1, n2i, n3i, w1i - int(w[i]), w2i, w3i)\n",
    "            s += getCell(i+1, n1i, n2i - 1, n3i, w1i, w2i - int(w[i]), w3i)\n",
    "            s += getCell(i+1, n1i, n2i, n3i - 1, w1i, w2i, w3i - int(w[i]))\n",
    "            s += getCell(i+1, n1i, n2i, n3i, w1i, w2i, w3i)\n",
    "            arr_res[i, n1i, n2i, n3i, w1i, w2i, w3i] = s\n",
    "            return s\n",
    "        \n",
    "    for n1 in range(n+1):\n",
    "        for n2 in range(n+1-n1):\n",
    "            for n3 in range(n+1-n1-n2):\n",
    "                for w1 in range(w_sum+1):\n",
    "                    for w2 in range(w_sum+1-w1):\n",
    "                        for w3 in range(w_sum+1-w1-w2):\n",
    "                            arr_res[0, n1, n2, n3, w1, w2, w3] = getCell(0, n1, n2, n3, w1, w2, w3)\n",
    "    \n",
    "    return arr_res[0]"
   ]
  },
  {
   "cell_type": "markdown",
   "metadata": {},
   "source": [
    "## PV-$\\alpha$"
   ]
  },
  {
   "cell_type": "markdown",
   "metadata": {},
   "source": [
    "## The following code returns the voting power of each agent in a WVG when in PV-$\\alpha$."
   ]
  },
  {
   "cell_type": "code",
   "execution_count": 3,
   "metadata": {
    "ExecuteTime": {
     "end_time": "2022-10-18T12:00:05.164743Z",
     "start_time": "2022-10-18T12:00:05.157790Z"
    }
   },
   "outputs": [],
   "source": [
    "def proba_v_alpha(nv, nd, nv_p, nd_p, nd_m): # this corresponds to Equation 1 in the paper\n",
    "    nv_m = nv - 1 - nv_p\n",
    "    return ((nv_p)**(nd_p))*((nv_m)**(nd_m))/((2**(nv-1))*(nv**nd))\n",
    "\n",
    "def proba_d_alpha(nv, nd, nv_p, nd_p):# this corresponds to Equation 3 in the paper\n",
    "    nv_m = nv - nv_p\n",
    "    nd_m = nd - 1 - nd_p\n",
    "    return ((nv_p)**(nd_p))*((nv_m)**(nd_m))/((2**nv)*(nv**(nd-1)))"
   ]
  },
  {
   "cell_type": "code",
   "execution_count": 4,
   "metadata": {
    "ExecuteTime": {
     "end_time": "2022-10-18T12:00:05.443099Z",
     "start_time": "2022-10-18T12:00:05.425134Z"
    }
   },
   "outputs": [],
   "source": [
    "def getPowersPV_alpha(wd, wv, q):\n",
    "    '''\n",
    "    wd: weight vector of V_d\n",
    "    wv: weight vector of V_v\n",
    "    q: quota s.t. 0 < q < 1\n",
    "    '''\n",
    "    nd = len(wd)  #number of delegators\n",
    "    nv = len(wv) #number of delegatees\n",
    "    wds = int(np.sum(wd)) #total weights of the delegators\n",
    "    wvs = int(np.sum(wv))#total weights of the delegatees\n",
    "    ws = wds + wvs #total weights of all agents\n",
    "    \n",
    "    # For voting voters\n",
    "    power_v = {} \n",
    "    for i in range(nv): #for a delegatee i\n",
    "        w_i = wv[i] #find the voting weight of i \n",
    "        if w_i in power_v: #check that the power of the agent hasn't already been computed \n",
    "            continue\n",
    "        w_not_i = np.concatenate([wv[:i],wv[i+1:]])\n",
    "        mv = getAll2partitions(w_not_i)  #find all of the ways of splitting the delegatees without agent i (with respect to their weights) into those in favour and those against  \n",
    "        md = getAll3partitions(wd) #find all of the ways of splitting the delegators (with respect to their weights) into 3 groups: (1) those delegating to those in favour; (2) those delegating to those against; (3) delegating to i\n",
    "        \n",
    "        p_tot = 0 #starting value of total prob of being critical\n",
    "        for nd_p in range(nd+1): #for each of the possible number of delegators in favour\n",
    "            for nd_m in range(nd+1-nd_p): # #for each of the possible number of delegators against given the number of delegators in favour\n",
    "                for nv_p in range(nv): #for each of the possible number delegatees being in favour\n",
    "                    p = proba_v_alpha(nv, nd, nv_p, nd_p, nd_m) #the probability of this number of agents being split in this way\n",
    "                    for wd_p in range(wds+1): # the possible total weights of the delegators in favour\n",
    "                        for wd_m in range(wds+1-wd_p): # the possible total weights of the delegators against, given the total weights in favour\n",
    "                            for wv_p in range(wvs+1-w_i): # the possible total weights of the delegatees in favour including the weights from delegations\n",
    "                                w_p = wv_p + wd_p #weight of votes in favour \n",
    "                                wd_i = (wds - wd_p - wd_m) + w_i #weight of i and those delegating to i\n",
    "                                gamma_1 = mv[nv_p, wv_p]  #the number of ways to have a partition of delegatees (without i) given the number of delegatees in favour\n",
    "                                gamma_2 = md[nd_p, nd_m, wd_p, wd_m] # the number of ways for the delegators to be partitioned\n",
    "                                if w_p < q*ws and w_p + wd_i >= q*ws: # is i critical in this partition?\n",
    "                                    if gamma_1 > 0 and gamma_2 > 0:# the partition is possible\n",
    "                                        p_tot += gamma_1*gamma_2*p #adding to the total probability of being critical, the number of ways this partition could happen  (gamma1*gamma2) times by the probability of it happening\n",
    "                                    \n",
    "        power_v[w_i] = p_tot #returns the power of a delegatee with weight w_i \n",
    "        \n",
    "    #For delegating voters\n",
    "    power_d = {}\n",
    "    for i in range(nd): #for a delegator i\n",
    "        w_i = wd[i] #find i's weight\n",
    "        if w_i in power_d: #if the power measure has already been found for this weight, then skip\n",
    "            continue\n",
    "        w_not_i = np.concatenate([wd[:i],wd[i+1:]]) #removing i from the from the delegators weights \n",
    "        mv = getAll2partitions(wv) #find all ways of splitting the delegatees into those in favour and those against  (with respect to their weights)\n",
    "        md = getAll2partitions(w_not_i) #find all of the ways of splitting the delegators (expect the agent in question, i) into those delegating to a proxy in favour and those delegating to a proxy against\n",
    "        \n",
    "        p_tot = 0 #setting the total probability to 0\n",
    "        for nd_p in range(nd): # for all possible numbers of delegators being in favour\n",
    "            for nv_p in range(nv+1): #for all possible numbers of delegatees being in favour\n",
    "                p = proba_d_alpha(nv, nd, nv_p, nd_p)  #the probability of having a partition with this number in each group\n",
    "                for wd_p in range(wds+1-w_i): # for all possible total weight of the delegators in favour\n",
    "                    for wv_p in range(wvs+1): # for the possible total final voting weight of the delegatees in favour given that the delegations have been taken into account\n",
    "                        w_p = wv_p + wd_p #the total weight of voters in favour \n",
    "                        gamma_1 = mv[nv_p, wv_p] # the number of ways of having a partition of the delegatees given the number of those in favour and their weights\n",
    "                        gamma_2 = md[nd_p, wd_p] # the number of ways of having a partition of the delegators given the number of those in favour and their weights\n",
    "                        if w_p < q*ws and w_p + w_i >= q*ws: #if within this partition i is critical \n",
    "                            if gamma_1 > 0 and gamma_2 > 0: #if these partitions are possible\n",
    "                                p_tot += gamma_1*gamma_2*p #adding to the total probability of being critical, the number of ways this partition could happen  (gamma1*gamma2) timesed by the probability of it happening\n",
    "                                    \n",
    "        power_d[w_i] = p_tot #returns the power of a delegator with weight w_i \n",
    "        \n",
    "    return power_v, power_d #this returns first the power of the delegatees with respect to their weights, and then the same for the delegators"
   ]
  },
  {
   "cell_type": "markdown",
   "metadata": {},
   "source": [
    "## The following code returns the voting power of each agent in a WVG when in PV-$\\alpha$."
   ]
  },
  {
   "cell_type": "markdown",
   "metadata": {},
   "source": [
    "Obtaining the voting power $\\mathcal{M}^\\alpha$ of the agents in Example 2 (as seen in the appendix)"
   ]
  },
  {
   "cell_type": "code",
   "execution_count": 18,
   "metadata": {
    "ExecuteTime": {
     "end_time": "2022-10-18T12:00:06.043934Z",
     "start_time": "2022-10-18T12:00:06.027977Z"
    }
   },
   "outputs": [
    {
     "data": {
      "text/plain": [
       "({3: 0.538129350200681, 2: 0.4470863181425598, 1: 0.4080678758319365},\n",
       " {1: 0.05730833714372808, 2: 0.12132296905959457})"
      ]
     },
     "execution_count": 18,
     "metadata": {},
     "output_type": "execute_result"
    }
   ],
   "source": [
    "getPowersPV_alpha([1]*9+[2],  [3,2,1], 0.5)"
   ]
  },
  {
   "cell_type": "markdown",
   "metadata": {},
   "source": [
    "## PV-$\\beta$"
   ]
  },
  {
   "cell_type": "markdown",
   "metadata": {},
   "source": [
    "## The following code returns the voting power of each agent in a WVG when in PV-$\\beta$."
   ]
  },
  {
   "cell_type": "code",
   "execution_count": 6,
   "metadata": {
    "ExecuteTime": {
     "end_time": "2022-10-18T10:28:52.512960Z",
     "start_time": "2022-10-18T10:28:52.493823Z"
    }
   },
   "outputs": [],
   "source": [
    "def proba_v_beta(nv, nd, nv_p, nd_p, nd_m, p_d): # this corresponds to Equation 2 in the paper\n",
    "    nv_m = nv - 1 - nv_p\n",
    "    nd_i = nd - nd_p - nd_m\n",
    "    p_v = 1 - p_d\n",
    "    return (1/(2**(nv-1)))*((p_v/2+p_d*(nv_p/nv))**nd_p)*((p_v/2+p_d*(nv_m/nv))**nd_m)*((p_d/nv)**nd_i)\n",
    "\n",
    "\n",
    "def proba_d_beta(nv, nd, nv_p, nd_p, p_d):# this corresponds to Equation 4 in the paper\n",
    "    nv_m = nv - nv_p\n",
    "    nd_m = nd - 1 - nd_p\n",
    "    p_v = 1 - p_d\n",
    "    return (1/(2**nv))*((p_v/2+p_d*(nv_p/nv))**nd_p)*((p_v/2+p_d*(nv_m/nv))**nd_m)"
   ]
  },
  {
   "cell_type": "code",
   "execution_count": 7,
   "metadata": {
    "ExecuteTime": {
     "end_time": "2022-10-18T10:32:12.876466Z",
     "start_time": "2022-10-18T10:32:12.843551Z"
    }
   },
   "outputs": [],
   "source": [
    "def getPowersPV_beta(wd, wv, q, p_d):\n",
    "    '''\n",
    "    wd: weight vector of V_d\n",
    "    wv: weight vector of V_v\n",
    "    q: quota s.t. 0 < q < 1\n",
    "    p_d: probability to delegates\n",
    "    '''\n",
    "    nd = len(wd) #number of delegators\n",
    "    nv = len(wv) #number of delegatees\n",
    "    wds = int(np.sum(wd)) #total sum of weights of the delegators\n",
    "    wvs = int(np.sum(wv)) #total sum of weights of the delegatees\n",
    "    ws = wds + wvs #total sum of the agents' weights \n",
    "    \n",
    "    power_v = {}\n",
    "    #for the delegatees (voting agents)\n",
    "    for i in range(nv): # for delegatee i\n",
    "        w_i = wv[i] #find i's weight\n",
    "        if w_i in power_v: #if the power measure has already been found for a delegatee then we don't compute it again\n",
    "            continue\n",
    "        w_not_i = np.concatenate([wv[:i],wv[i+1:]]) #remove i from the weight vector of delegatees\n",
    "        mv = getAll2partitions(w_not_i) #find all 2 partitions of the delegatees not involving i: (1) those in favour; (2) those against\n",
    "        md = getAll3partitions(wd)  #find all 3 partitions of the delegators: (1) those delegating to a proxy in favour; (2) those delegating to a proxy against; (3) those delegating to i\n",
    "\n",
    "        p_tot = 0 #starting value of total prob of being critical\n",
    "        for nd_p in range(nd+1): #for each of the possible number of delegators in favour\n",
    "            for nd_m in range(nd+1-nd_p): # for each of the possible number of delegators against given the number of delegators in favour\n",
    "                for nv_p in range(nv): #for each of the possible number delegatees being in favour\n",
    "                    p = proba_v_beta(nv, nd, nv_p, nd_p, nd_m, p_d) #the probability of this partition happening without i (given that i is a delegatee)\n",
    "                    for wd_p in range(wds+1): # the possible total weights of the delegators in favour\n",
    "                        for wd_m in range(wds+1-wd_p):# the possible total weights of the delegators against, given the total weights in favour\n",
    "                            for wv_p in range(wvs+1-w_i):# the possible total weights of the delegatees in favour including the weights from delegations\n",
    "                                w_p = wv_p + wd_p #the total voting weight in favour (from both the delegators and the delegatees)\n",
    "                                wd_i = (wds - wd_p - wd_m) + w_i #the total voting weight of i and those delegating to i\n",
    "                                gamma_1 = mv[nv_p, wv_p]  #the number of ways to have a partition of delegatees (without i) given the number of delegatees in favour\n",
    "                                gamma_2 = md[nd_p, nd_m, wd_p, wd_m] # the number of ways for the delegators to be partitioned\n",
    "                                if w_p < q*ws and w_p + wd_i >= q*ws: #if within this partition i is critical\n",
    "                                    if gamma_1 > 0 and gamma_2 > 0: #if these partitions are possible\n",
    "                                        p_tot += gamma_1*gamma_2*p #adding to the total probability of being critical, the number of ways this partition could happen  (gamma1*gamma2) times by the probability of it happening\n",
    "                                        \n",
    "        power_v[w_i] = p_tot #returns the power of a delegatee with weight w_i\n",
    "        \n",
    "        \n",
    "    #for the delegators \n",
    "    power_d = {}\n",
    "    for i in range(nd): #for each delegator i\n",
    "        w_i = wd[i] #fing i's weight \n",
    "        if w_i in power_d: #if the power measure has already been found for this weight, then skip\n",
    "            continue\n",
    "        w_not_i = np.concatenate([wd[:i],wd[i+1:]]) #removing i from the from the delegators weights \n",
    "        mv = getAll2partitions(wv)#find all ways of splitting the delegatees into those in favour and those against  (with respect to their weights)\n",
    "        md = getAll2partitions(w_not_i) #find all of the ways of splitting the delegators (expect the agent in question, i) into those delegating to a proxy in favour and those delegating to a proxy against\n",
    "        \n",
    "        p_tot = 0 #starting value of total prob of being critical\n",
    "        for nd_p in range(nd): #for every possible number of delegators in favour\n",
    "            for nv_p in range(nv+1): # for every possible number of delegatees in favour\n",
    "                p = proba_d_beta(nv, nd, nv_p, nd_p, p_d) #the probability of this partition happening without i (given that i is a delegator)\n",
    "                for wd_p in range(wds+1-w_i):# #for every possible weight out of the total weights of the delegators without i\n",
    "                    for wv_p in range(wvs+1):# for every possible sum of the weight of the delegatees who are in favour\n",
    "                        w_p = wv_p + wd_p #the total weight of voters in favour \n",
    "                        gamma_1 = mv[nv_p, wv_p]  # the number of ways of having a partition of the delegatees given the number of those in favour and their weights\n",
    "                        gamma_2 = md[nd_p, wd_p] # the number of ways of having a partition of the delegators given the number of those in favour and their weights\n",
    "                        if w_p < q*ws and w_p + w_i >= q*ws:#if within this partition i is critical\n",
    "                            if gamma_1 > 0 and gamma_2 > 0: #if these partitions are possible\n",
    "                                p_tot += gamma_1*gamma_2*p #adding to the total probability of being critical, the number of ways this partition could happen  (gamma1*gamma2) times by the probability of it happening\n",
    "                       \n",
    "        power_d[w_i] = p_tot #returns the power of a delegator with weight w_i\n",
    "        \n",
    "        \n",
    "    return power_v, power_d  #this returns the first the power of the delegatees with respect to their weights, and then the same for the delegators"
   ]
  },
  {
   "cell_type": "markdown",
   "metadata": {},
   "source": [
    "Obtaining the voting power $\\mathcal{M}^\\beta$ of the agents in Example 2 when the probability of delegating is $p_d=0.5$ (as seen in Table 1)"
   ]
  },
  {
   "cell_type": "code",
   "execution_count": 19,
   "metadata": {},
   "outputs": [
    {
     "data": {
      "text/plain": [
       "({3: 0.5524033640347095, 2: 0.394627449758737, 1: 0.3027040237322487},\n",
       " {1: 0.097846723951012, 2: 0.20637675891324428})"
      ]
     },
     "execution_count": 19,
     "metadata": {},
     "output_type": "execute_result"
    }
   ],
   "source": [
    "getPowersPV_beta([1]*9+[2],  [3,2,1], 0.5, 0.5)"
   ]
  },
  {
   "cell_type": "markdown",
   "metadata": {},
   "source": [
    "Obtaining the voting power $\\mathcal{M}^\\beta$ of the agents in Example 2 when the probability of delegating is $p_d=0$ (as seen in Table 1)"
   ]
  },
  {
   "cell_type": "code",
   "execution_count": 20,
   "metadata": {},
   "outputs": [
    {
     "data": {
      "text/plain": [
       "({3: 0.51123046875, 2: 0.30615234375, 1: 0.14794921875},\n",
       " {1: 0.14794921875, 2: 0.30615234375})"
      ]
     },
     "execution_count": 20,
     "metadata": {},
     "output_type": "execute_result"
    }
   ],
   "source": [
    "getPowersPV_beta([1]*9+[2],  [3,2,1], 0.5, 0)"
   ]
  },
  {
   "cell_type": "markdown",
   "metadata": {},
   "source": [
    "# Liquid Democracy: LD"
   ]
  },
  {
   "cell_type": "markdown",
   "metadata": {},
   "source": [
    "## The following code returns the voting power of each agent in a WVG when in LD."
   ]
  },
  {
   "cell_type": "code",
   "execution_count": 13,
   "metadata": {
    "ExecuteTime": {
     "end_time": "2022-10-18T10:38:13.508702Z",
     "start_time": "2022-10-18T10:38:13.476505Z"
    }
   },
   "outputs": [],
   "source": [
    "\n",
    "def binom(n, k):\n",
    "    return math.factorial(n) // math.factorial(k) // math.factorial(n - k)\n",
    "\n",
    "def proba_ld_0(n0, n, p_d):  #the equation can be found on page 6 of the paper, just above Definition 7\n",
    "    return (p_d*(n0-1)/(n-1))**(n0)\n",
    "\n",
    "def proba_ld(n, p, p_d):  # this corresponds to Equation 5 in the paper\n",
    "    tab_p_d = np.ones(n)*-1\n",
    "    tab_p = np.ones(n)*-1\n",
    "    tab_p[0] = 1\n",
    "    tab_p_d[0] = 1\n",
    "    tab_p[1] = p\n",
    "    tab_p_d[1] = p_d/(n-1)\n",
    "    \n",
    "    def fillCell(m, pi):\n",
    "        if pi == p and tab_p[m] >= 0:\n",
    "            return tab_p[m]\n",
    "        if pi == p_d/(n-1) and tab_p_d[m] >= 0:\n",
    "            return tab_p_d[m]\n",
    "        c = 0\n",
    "#         print(m, pi)\n",
    "        for m1 in range(m): #the summation in Eq 5\n",
    "            s = binom(m-1, m1)\n",
    "            s *= fillCell(m1, p_d/(n-1))\n",
    "            s *= fillCell(m - 1 - m1, pi)\n",
    "            s *= (pi + p_d*(m - 1 - m1)/(n-1))\n",
    "            c += s\n",
    "        if pi == p:\n",
    "            tab_p[m] = c\n",
    "        else:\n",
    "            tab_p_d[m] = c\n",
    "        return c\n",
    "    \n",
    "    for i in range(2, n):\n",
    "        tab_p[i] = fillCell(i, p)\n",
    "    \n",
    "    return tab_p"
   ]
  },
  {
   "cell_type": "code",
   "execution_count": 14,
   "metadata": {
    "ExecuteTime": {
     "end_time": "2022-10-18T10:38:13.797648Z",
     "start_time": "2022-10-18T10:38:13.765728Z"
    }
   },
   "outputs": [],
   "source": [
    "def getPowersLD(w, q, p_d):\n",
    "    '''\n",
    "    w: weight vector of V\n",
    "    q: quota s.t. 0 < q < 1\n",
    "    p_d: probability to delegates\n",
    "    '''\n",
    "    n = len(w)  #number of voters\n",
    "    ws = np.sum(w) #total weights\n",
    "    p_v = 1 - p_d #probability of voting is 1- probability of delegating\n",
    "    \n",
    "    power_v = {}\n",
    "    \n",
    "    pl_pv = proba_ld(n, p_v/2, p_d)  \n",
    "    pl_pd = proba_ld(n, p_d/(n-1), p_d)\n",
    "    \n",
    "    \n",
    "    for i in range(n): # for each agent\n",
    "        w_i = w[i] #find their weight\n",
    "        if w_i in power_v: #if the power measure for this weight has already been found, then skip\n",
    "            continue\n",
    "        w_not_i = np.concatenate([w[:i],w[i+1:]])\n",
    "        mv = getAll4partitions(w_not_i) #find all 4-partitions of the agents without agent i: (1) agents voting in favour; (2) agents voting against; (3) agents caught in a cycle V^0; (4) agents delegating to i \n",
    "        \n",
    "        p_tot = 0 \n",
    "        for n_p in range(n): #for the number of possible agents in favour\n",
    "            for n_m in range(n-n_p): #for the number of possible agents against given the number of those in favour\n",
    "                for n_0 in range(n-n_p-n_m): #for the number of possible agents in a cycle given the number of those in favour and those against\n",
    "                    n_i = n-1-n_p-n_m-n_0 #number of agents delegating to i is n  minus 1 (for i), the number of agents in favour n_p (directly or indirectly), the number of agents against n_m  (directly or indirectly), and the number of agents caught in a cycle \n",
    "                    p = proba_ld_0(n_0, n, p_d)  #probability of those in V^0 being in a cycle\n",
    "                    p *= pl_pv[n_p] #probability of the n_p agents in V^+ voting for the issue (either directly or indirectly) \n",
    "                    p *= pl_pv[n_m] #probability of the n_m agents in V^- voting against the issue (either directly or indirectly) \n",
    "                    p *= pl_pd[n_i] #probability of the n_i agents in V^i delegating to i (directly or indirectly)\n",
    "                    for w_p in range(ws+1-w_i):  #for the possible total weight of the agents in favour\n",
    "                        for w_m in range(ws+1-w_i-w_p): #for the possible total weight of the agents against \n",
    "                            for w_0 in range(ws+1-w_i-w_p-w_m): #for the possible total weight of the agents in a cycle\n",
    "                                wd_i = ws - w_p - w_m - w_0 - w_i #given the values of w_p, w_m, and w_0\n",
    "                                w_i_tot = wd_i + w_i # agent i's voting weight is their own weight and that of those delegating to them\n",
    "                                gamma = mv[n_p, n_m, n_0, w_p, w_m, w_0] #get the number of 4-partitions of these weights and sizes of V^+, V^- and V^0\n",
    "                                if w_p < q*(ws-w_0) and w_p + w_i_tot >= q*(ws-w_0): #are they critical\n",
    "                                    if gamma > 0: #does such a partition exist\n",
    "                                        p_tot += gamma*p #add the number of times this partition happens times by the probability of it happening and add it to the total\n",
    "                                    \n",
    "        power_v[w_i] = p_tot # add the power measure for agents with this weight\n",
    "        \n",
    "    return power_v   #this returns the power of the agents with respect to their weights"
   ]
  },
  {
   "cell_type": "markdown",
   "metadata": {},
   "source": [
    "Obtaining the voting power $\\mathcal{M}^{ld}$ of the agents in Example 3 when the probability of delegating is $p_d=0$ (as seen in Table 2)"
   ]
  },
  {
   "cell_type": "code",
   "execution_count": 15,
   "metadata": {},
   "outputs": [
    {
     "data": {
      "text/plain": [
       "{1: 0.14794921875, 2: 0.30615234375, 3: 0.51123046875}"
      ]
     },
     "execution_count": 15,
     "metadata": {},
     "output_type": "execute_result"
    }
   ],
   "source": [
    "getPowersLD([1]*10+[2,2,3], 0.5, 0)"
   ]
  },
  {
   "cell_type": "markdown",
   "metadata": {},
   "source": [
    "Obtaining the voting power $\\mathcal{M}^{ld}$ of the agents in Example 3 when the probability of delegating is $p_d=0.5$ (as seen in Table 2)"
   ]
  },
  {
   "cell_type": "code",
   "execution_count": 16,
   "metadata": {},
   "outputs": [
    {
     "data": {
      "text/plain": [
       "{1: 0.21186154872544125, 2: 0.30825296949458547, 3: 0.4240996939852223}"
      ]
     },
     "execution_count": 16,
     "metadata": {},
     "output_type": "execute_result"
    }
   ],
   "source": [
    "getPowersLD([1]*10+[2,2,3], 0.5, 0.5)"
   ]
  },
  {
   "cell_type": "markdown",
   "metadata": {},
   "source": [
    "Obtaining the voting power $\\mathcal{M}^{ld}$ of the agents in Example 3 when the probability of delegating is $p_d=0.9$ (as seen in Table 2)"
   ]
  },
  {
   "cell_type": "code",
   "execution_count": 17,
   "metadata": {
    "ExecuteTime": {
     "end_time": "2022-10-18T10:38:18.858173Z",
     "start_time": "2022-10-18T10:38:15.168417Z"
    }
   },
   "outputs": [
    {
     "data": {
      "text/plain": [
       "{1: 0.5681575306543593, 2: 0.6380631327867972, 3: 0.6963799442492717}"
      ]
     },
     "execution_count": 17,
     "metadata": {},
     "output_type": "execute_result"
    }
   ],
   "source": [
    "getPowersLD([1]*10+[2,2,3], 0.5, 0.9)"
   ]
  },
  {
   "cell_type": "markdown",
   "metadata": {},
   "source": [
    "# Experiments"
   ]
  },
  {
   "cell_type": "markdown",
   "metadata": {},
   "source": [
    "## PV-$\\alpha$"
   ]
  },
  {
   "cell_type": "code",
   "execution_count": 43,
   "metadata": {
    "ExecuteTime": {
     "end_time": "2022-10-18T10:23:58.089942Z",
     "start_time": "2022-10-18T10:23:11.221423Z"
    }
   },
   "outputs": [
    {
     "name": "stderr",
     "output_type": "stream",
     "text": [
      "20it [00:22,  1.11s/it]\n"
     ]
    }
   ],
   "source": [
    "n_voters = 20\n",
    "tab_n = range(1, n_voters+1)\n",
    "len_tab = len(tab_n)\n",
    "tab_res = np.zeros((2, len_tab))\n",
    "\n",
    "for i, n in tqdm(enumerate(tab_n)):\n",
    "    p_v, p_d = getPowersPV_alpha([1]*(n_voters-n), [1]*(n), 0.5)\n",
    "    tab_res[0, i] = p_v[1]\n",
    "    if 1 in p_d:\n",
    "        tab_res[1, i] = p_d[1]"
   ]
  },
  {
   "cell_type": "code",
   "execution_count": 41,
   "metadata": {
    "ExecuteTime": {
     "end_time": "2022-10-18T10:24:36.124311Z",
     "start_time": "2022-10-18T10:24:35.700707Z"
    }
   },
   "outputs": [
    {
     "data": {
      "text/plain": [
       "Text(0, 0.5, 'Probability of being critical')"
      ]
     },
     "execution_count": 41,
     "metadata": {},
     "output_type": "execute_result"
    },
    {
     "data": {
      "image/png": "[encoded data removed]",
      "text/plain": [
       "<Figure size 432x288 with 1 Axes>"
      ]
     },
     "metadata": {
      "needs_background": "light"
     },
     "output_type": "display_data"
    }
   ],
   "source": [
    "tab_res\n",
    "plt.plot([n for n in tab_n], tab_res[0],'o', linestyle='solid' , label = r'$\\mathcal{M}^{\\alpha}_v(W)$ for $v \\in V_v$', color=\"black\")\n",
    "plt.plot([n for n in tab_n[:-1]], tab_res[1][:-1], 'v',linestyle='dotted', label = r'$\\mathcal{M}^{\\alpha}_v(W)$ for $v \\in V_d$', color=\"black\")\n",
    "plt.legend()\n",
    "plt.xlim(1,n_voters)\n",
    "#plt.title(r'$%i$ voters'%n_voters)\n",
    "plt.xlabel(r'$|V_v|$')\n",
    "plt.ylim(0,1)\n",
    "plt.ylabel(r'Probability of being critical')"
   ]
  },
  {
   "cell_type": "markdown",
   "metadata": {},
   "source": [
    "## PV-$\\beta$"
   ]
  },
  {
   "cell_type": "code",
   "execution_count": 44,
   "metadata": {
    "ExecuteTime": {
     "end_time": "2022-10-18T10:33:02.616767Z",
     "start_time": "2022-10-18T10:32:16.210439Z"
    }
   },
   "outputs": [
    {
     "name": "stderr",
     "output_type": "stream",
     "text": [
      "20it [00:23,  1.18s/it]\n"
     ]
    }
   ],
   "source": [
    "n_voters = 20\n",
    "tab_n = range(1, n_voters+1)\n",
    "len_tab = len(tab_n)\n",
    "tab_resb = np.zeros((2, len_tab))\n",
    "\n",
    "for i, n in tqdm(enumerate(tab_n)):\n",
    "    p_v, p_d = getPowersPV_beta([1]*(n_voters-n), [1]*(n), 0.5, 0.5)\n",
    "    tab_resb[0, i] = p_v[1]\n",
    "    if 1 in p_d:\n",
    "        tab_resb[1, i] = p_d[1]"
   ]
  },
  {
   "cell_type": "code",
   "execution_count": 46,
   "metadata": {
    "ExecuteTime": {
     "end_time": "2022-10-18T10:33:53.767828Z",
     "start_time": "2022-10-18T10:33:53.386843Z"
    }
   },
   "outputs": [
    {
     "data": {
      "image/png": "[encoded data removed]",
      "text/plain": [
       "<Figure size 432x288 with 1 Axes>"
      ]
     },
     "metadata": {
      "needs_background": "light"
     },
     "output_type": "display_data"
    }
   ],
   "source": [
    "plt.rcParams.update({\n",
    "    \"text.usetex\": True,\n",
    "    \"font.family\": \"Helvetica\"\n",
    "})\n",
    "\n",
    "tab_res\n",
    "plt.plot([n for n in tab_n], tab_res[0],'o', linestyle='solid' , label = r'$\\mathcal{M}^{\\alpha}_v(W)$ for $v \\in V_v$', color=\"black\")\n",
    "plt.plot([n for n in tab_n[:-1]], tab_res[1][:-1], 'v',linestyle='dotted', label = r'$\\mathcal{M}^{\\alpha}_v(W)$ for $v \\in V_d$', color=\"black\")\n",
    "plt.legend()\n",
    "plt.xlim(1,n_voters)\n",
    "#plt.title(r'$%i$ voters'%n_voters)\n",
    "plt.xlabel(r'$|V_v|$')\n",
    "plt.ylim(0,1)\n",
    "plt.ylabel('Probability of being critical')\n",
    "tab_resb\n",
    "plt.plot([n for n in tab_n], tab_resb[0], 's', linestyle = 'dashed', label = r'$\\mathcal{M}^{\\beta}_v(W)$ for $v \\in V_v$', color=\"black\")\n",
    "plt.plot([n for n in tab_n[:-1]], tab_resb[1][:-1], '*', linestyle = '-.' ,label = r'$\\mathcal{M}^{\\beta}_v(W)$ for $v \\in V_d$', color=\"black\")\n",
    "plt.legend()\n",
    "#plt.xlim(1,n_voters)\n",
    "#plt.title(\"%i voters\"%n_voters)\n",
    "#plt.xlabel(\"Number of voting voters\")\n",
    "#plt.ylim(0,1)\n",
    "#plt.ylabel(\"Power\")\n",
    "plt.show()"
   ]
  },
  {
   "cell_type": "code",
   "execution_count": 47,
   "metadata": {
    "ExecuteTime": {
     "end_time": "2022-10-18T10:35:44.745187Z",
     "start_time": "2022-10-18T10:35:08.502247Z"
    }
   },
   "outputs": [
    {
     "name": "stderr",
     "output_type": "stream",
     "text": [
      "11it [00:24,  2.19s/it]\n"
     ]
    }
   ],
   "source": [
    "n_voters = 20\n",
    "tab_n = np.linspace(0,1,11)\n",
    "len_tab = len(tab_n)\n",
    "tab_res = np.zeros((2, len_tab))\n",
    "\n",
    "for i, p_d in tqdm(enumerate(tab_n)):\n",
    "    p_v, p_d = getPowersPV_beta([1]*15, [1]*5, 0.5, p_d)\n",
    "    tab_res[0, i] = p_v[1]\n",
    "    if 1 in p_d:\n",
    "        tab_res[1, i] = p_d[1]"
   ]
  },
  {
   "cell_type": "code",
   "execution_count": 49,
   "metadata": {
    "ExecuteTime": {
     "end_time": "2022-10-18T10:36:07.952837Z",
     "start_time": "2022-10-18T10:36:07.548401Z"
    }
   },
   "outputs": [
    {
     "data": {
      "image/png": "[encoded data removed]",
      "text/plain": [
       "<Figure size 432x288 with 1 Axes>"
      ]
     },
     "metadata": {
      "needs_background": "light"
     },
     "output_type": "display_data"
    }
   ],
   "source": [
    "plt.rcParams.update({\n",
    "    \"text.usetex\": True,\n",
    "    \"font.family\": \"Helvetica\"\n",
    "})\n",
    "\n",
    "tab_res\n",
    "plt.plot([n for n in tab_n], tab_res[0], 'o', ls = '-',label = r'$\\mathcal{M}^{\\beta}_v(W)$ for $v \\in V_v$', color=\"black\")\n",
    "plt.plot([n for n in tab_n], tab_res[1], 's', ls = '--',label = r'$\\mathcal{M}^{\\beta}_v(W)$ for $v \\in V_d$', color=\"black\")\n",
    "plt.legend()\n",
    "plt.xlim(0,1)\n",
    "#plt.title(\"20 voters (5 representants)\")\n",
    "plt.xlabel(r'$p_d$')\n",
    "plt.ylabel('Probability of being critical')\n",
    "plt.show()"
   ]
  },
  {
   "cell_type": "markdown",
   "metadata": {},
   "source": [
    "## LD"
   ]
  },
  {
   "cell_type": "code",
   "execution_count": null,
   "metadata": {
    "ExecuteTime": {
     "end_time": "2022-10-18T10:41:12.596080Z",
     "start_time": "2022-10-18T10:40:05.483963Z"
    }
   },
   "outputs": [
    {
     "name": "stderr",
     "output_type": "stream",
     "text": [
      "\r",
      "0it [00:00, ?it/s]"
     ]
    }
   ],
   "source": [
    "n_voters = 20\n",
    "tab_n = np.linspace(0,1,11)\n",
    "len_tab = len(tab_n)\n",
    "tab_res = np.zeros((3,len_tab))\n",
    "\n",
    "for i, p_d in tqdm(enumerate(tab_n)):\n",
    "    p_v = getPowersLD([1]*10+[2]*5+[5]*5, 0.5, p_d)\n",
    "    tab_res[0][i] = p_v[1]\n",
    "    tab_res[1][i] = p_v[2]\n",
    "    tab_res[2][i] = p_v[5]"
   ]
  },
  {
   "cell_type": "code",
   "execution_count": 8,
   "metadata": {
    "ExecuteTime": {
     "end_time": "2022-10-18T10:42:14.059824Z",
     "start_time": "2022-10-18T10:42:13.696746Z"
    }
   },
   "outputs": [
    {
     "data": {
      "image/png": "[encoded data removed]",
      "text/plain": [
       "<Figure size 432x288 with 1 Axes>"
      ]
     },
     "metadata": {
      "needs_background": "light"
     },
     "output_type": "display_data"
    }
   ],
   "source": [
    "plt.rcParams.update({\n",
    "    \"text.usetex\": True,\n",
    "    \"font.family\": \"Helvetica\"\n",
    "})\n",
    "\n",
    "tab_res\n",
    "plt.plot([n for n in tab_n], tab_res[0], '-o', label = r'$\\mathcal{M}^{LD}_v(W)$ for $v$ with $w(v)=1$', color=\"black\")\n",
    "plt.plot([n for n in tab_n], tab_res[1], '-.s', label = r'$\\mathcal{M}^{LD}_v(W)$ for $v$ with $w(v)=2$', color=\"black\")\n",
    "plt.plot([n for n in tab_n], tab_res[2], '--v', label = r'$\\mathcal{M}^{LD}_v(W)$ for $v$ with $w(v)=5$', color=\"black\")\n",
    "\n",
    "plt.legend()\n",
    "plt.xlim(0,1)\n",
    "plt.ylim(0,1)\n",
    "#plt.title(\"10 voters\")\n",
    "plt.xlabel(r'$p_d$')\n",
    "plt.ylabel('Probability of being critical')\n",
    "plt.show()"
   ]
  },
  {
   "cell_type": "code",
   "execution_count": 94,
   "metadata": {
    "ExecuteTime": {
     "end_time": "2022-10-18T10:50:20.680945Z",
     "start_time": "2022-10-18T10:44:42.039024Z"
    }
   },
   "outputs": [
    {
     "name": "stderr",
     "output_type": "stream",
     "text": [
      "11it [05:38, 30.78s/it]\n"
     ]
    }
   ],
   "source": [
    "n_voters = 10\n",
    "tab_n = np.linspace(0,1,11)\n",
    "len_tab = len(tab_n)\n",
    "tab_res = np.zeros((2,len_tab))\n",
    "\n",
    "for i, p_d in tqdm(enumerate(tab_n)):\n",
    "    p_v = getPowersLD([1]*6+[2]*4, 0.5, p_d)\n",
    "    tab_res[0,i] = p_v[1]\n",
    "    tab_res[1,i] = p_v[2]"
   ]
  },
  {
   "cell_type": "code",
   "execution_count": 96,
   "metadata": {
    "ExecuteTime": {
     "end_time": "2022-10-18T10:50:29.930251Z",
     "start_time": "2022-10-18T10:50:29.587254Z"
    }
   },
   "outputs": [
    {
     "data": {
      "image/png": "[encoded data removed]",
      "text/plain": [
       "<Figure size 432x288 with 1 Axes>"
      ]
     },
     "metadata": {
      "needs_background": "light"
     },
     "output_type": "display_data"
    }
   ],
   "source": [
    "tab_res\n",
    "plt.plot([n for n in tab_n], tab_res[0], '-o', label = \"Power of w1\", color=\"g\")\n",
    "plt.plot([n for n in tab_n], tab_res[1], '-o', label = \"Power of w2\", color=\"b\")\n",
    "plt.legend()\n",
    "plt.xlim(0,1)\n",
    "plt.ylim(0,1)\n",
    "plt.title(\"10 voters (6 w1, 4 w2)\")\n",
    "plt.xlabel(\"p_d\")\n",
    "plt.ylabel(\"Power\")\n",
    "plt.show()"
   ]
  },
  {
   "cell_type": "markdown",
   "metadata": {},
   "source": []
  }
 ],
 "metadata": {
  "kernelspec": {
   "display_name": "Python 3 (ipykernel)",
   "language": "python",
   "name": "python3"
  },
  "language_info": {
   "codemirror_mode": {
    "name": "ipython",
    "version": 3
   },
   "file_extension": ".py",
   "mimetype": "text/x-python",
   "name": "python",
   "nbconvert_exporter": "python",
   "pygments_lexer": "ipython3",
   "version": "3.9.13"
  }
 },
 "nbformat": 4,
 "nbformat_minor": 2
}
