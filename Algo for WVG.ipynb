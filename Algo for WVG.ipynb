{
 "cells": [
  {
   "cell_type": "code",
   "execution_count": 1,
   "metadata": {
    "ExecuteTime": {
     "end_time": "2022-09-21T15:05:17.038498Z",
     "start_time": "2022-09-21T15:05:15.500848Z"
    }
   },
   "outputs": [],
   "source": [
    "import numpy as np\n",
    "import math"
   ]
  },
  {
   "cell_type": "markdown",
   "metadata": {},
   "source": [
    "# Lemma 1"
   ]
  },
  {
   "cell_type": "code",
   "execution_count": 2,
   "metadata": {
    "ExecuteTime": {
     "end_time": "2022-09-21T15:06:12.682177Z",
     "start_time": "2022-09-21T15:06:12.629319Z"
    }
   },
   "outputs": [],
   "source": [
    "def getAll2partitions(w):\n",
    "    w_sum = int(np.sum(w))\n",
    "    n = len(w)\n",
    "    \n",
    "    arr_res = np.ones((n, n+1, w_sum+1), dtype=int)*-1\n",
    "    \n",
    "    def getCell(i, n1i, w1i):\n",
    "        if n1i < 0 or w1i < 0:\n",
    "            return 0\n",
    "        if n1i == 0 and w1i == 0:\n",
    "            return 1\n",
    "        if i == n:\n",
    "            return 0\n",
    "        if arr_res[i, n1i, w1i] >= 0:\n",
    "            return arr_res[i, n1i, w1i]\n",
    "        else:\n",
    "            s = 0\n",
    "            s += getCell(i+1, n1i - 1, w1i - int(w[i]))\n",
    "            s += getCell(i+1, n1i, w1i)\n",
    "            arr_res[i, n1i, w1i] = s\n",
    "            return s\n",
    "        \n",
    "    for n1 in range(n+1):\n",
    "        for w1 in range(w_sum+1):\n",
    "            arr_res[0, n1, w1] = getCell(0, n1, w1)\n",
    "    \n",
    "    return arr_res[0]\n",
    "\n",
    "\n",
    "def getAll3partitions(w):\n",
    "    w_sum = int(np.sum(w))\n",
    "    n = len(w)\n",
    "    \n",
    "    arr_res = np.ones((n, n+1, n+1, w_sum+1, w_sum+1), dtype=int)*-1\n",
    "    \n",
    "    def getCell(i, n1i, n2i, w1i, w2i):\n",
    "        if n1i < 0 or n2i < 0 or w1i < 0 or w2i < 0:\n",
    "            return 0\n",
    "        if n1i == 0 and n2i == 0 and w1i == 0 and w2i == 0:\n",
    "            return 1\n",
    "        if i == n:\n",
    "            return 0\n",
    "        if arr_res[i, n1i, n2i, w1i, w2i] >= 0:\n",
    "            return arr_res[i, n1i, n2i, w1i, w2i]\n",
    "        else:\n",
    "            s = 0\n",
    "            s += getCell(i+1, n1i - 1, n2i, w1i - w[i], w2i)\n",
    "            s += getCell(i+1, n1i, n2i - 1, w1i, w2i - w[i])\n",
    "            s += getCell(i+1, n1i, n2i, w1i, w2i)\n",
    "            arr_res[i, n1i, n2i, w1i, w2i] = s\n",
    "            return s\n",
    "        \n",
    "    for n1 in range(n+1):\n",
    "        for n2 in range(n+1-n1):\n",
    "            for w1 in range(w_sum+1):\n",
    "                for w2 in range(w_sum+1-w1):\n",
    "                    arr_res[0, n1, n2, w1, w2] = getCell(0, n1, n2, w1, w2)\n",
    "    \n",
    "    return arr_res[0]\n",
    "\n",
    "\n",
    "           \n",
    "def getAll4partitions(w):\n",
    "    w_sum = int(np.sum(w))\n",
    "    n = len(w)\n",
    "    \n",
    "    arr_res = np.ones((n, n+1, n+1, n+1, w_sum+1, w_sum+1, w_sum+1), dtype=int)*-1\n",
    "  \n",
    "    def getCell(i, n1i, n2i, n3i, w1i, w2i, w3i):\n",
    "        if n1i < 0 or n2i < 0 or n3i < 0 or w1i < 0 or w2i < 0 or w3i < 0:\n",
    "            return 0\n",
    "        if n1i == 0 and n2i == 0 and n3i == 0 and w1i == 0 and w2i == 0 and w3i == 0:\n",
    "            return 1\n",
    "        if i == n:\n",
    "            return 0\n",
    "        if arr_res[i, n1i, n2i, n3i, w1i, w2i, w3i] >= 0:\n",
    "            return arr_res[i, n1i, n2i, n3i, w1i, w2i, w3i]\n",
    "        else:\n",
    "            s = 0\n",
    "            s += getCell(i+1, n1i - 1, n2i, n3i, w1i - int(w[i]), w2i, w3i)\n",
    "            s += getCell(i+1, n1i, n2i - 1, n3i, w1i, w2i - int(w[i]), w3i)\n",
    "            s += getCell(i+1, n1i, n2i, n3i - 1, w1i, w2i, w3i - int(w[i]))\n",
    "            s += getCell(i+1, n1i, n2i, n3i, w1i, w2i, w3i)\n",
    "            arr_res[i, n1i, n2i, n3i, w1i, w2i, w3i] = s\n",
    "            return s\n",
    "        \n",
    "    for n1 in range(n+1):\n",
    "        for n2 in range(n+1-n1):\n",
    "            for n3 in range(n+1-n1-n2):\n",
    "                for w1 in range(w_sum+1):\n",
    "                    for w2 in range(w_sum+1-w1):\n",
    "                        for w3 in range(w_sum+1-w1-w2):\n",
    "                            arr_res[0, n1, n2, n3, w1, w2, w3] = getCell(0, n1, n2, n3, w1, w2, w3)\n",
    "    \n",
    "    return arr_res[0]"
   ]
  },
  {
   "cell_type": "markdown",
   "metadata": {},
   "source": [
    "# PV-$\\alpha$"
   ]
  },
  {
   "cell_type": "code",
   "execution_count": 3,
   "metadata": {
    "ExecuteTime": {
     "end_time": "2022-09-21T15:06:34.479163Z",
     "start_time": "2022-09-21T15:06:34.473178Z"
    }
   },
   "outputs": [],
   "source": [
    "def proba_v_alpha(nv, nd, nv_p, nd_p, nd_m):\n",
    "    nv_m = nv - 1 - nv_p\n",
    "    return ((nv_p)**(nd_p))*((nv_m)**(nd_m))/((2**(nv-1))*(nv**nd))"
   ]
  },
  {
   "cell_type": "code",
   "execution_count": 5,
   "metadata": {
    "ExecuteTime": {
     "end_time": "2022-09-21T15:06:57.612711Z",
     "start_time": "2022-09-21T15:06:57.600744Z"
    }
   },
   "outputs": [],
   "source": [
    "def getPowersPV_alpha(wd, wv, q):\n",
    "    '''\n",
    "    wd: weight vector of V_d\n",
    "    wv: weight vector of V_v\n",
    "    q: quota s.t. 0 < q < 1\n",
    "    '''\n",
    "    nd = len(wd)\n",
    "    nv = len(wv)\n",
    "    wds = np.sum(wd)\n",
    "    wvs = np.sum(wv)\n",
    "    ws = wds + wvs\n",
    "    \n",
    "    power_v = {}\n",
    "    for i in range(nv):\n",
    "        w_i = wv[i]\n",
    "        if w_i in power_v:\n",
    "            continue\n",
    "        w_not_i = np.concatenate([wv[:i],wv[i+1:]])\n",
    "        mv = getAll2partitions(w_not_i)\n",
    "        md = getAll3partitions(wd)\n",
    "        \n",
    "        p_tot = 0\n",
    "        for nd_p in range(nd+1):\n",
    "            for nd_m in range(nd+1-nd_p):\n",
    "                for nv_p in range(nv):\n",
    "                    p = proba_v_alpha(nv, nd, nv_p, nd_p, nd_m)\n",
    "                    for wd_p in range(wds+1):\n",
    "                        for wd_m in range(wds+1-wd_p):\n",
    "                            for wv_p in range(wvs+1-w_i):\n",
    "                                w_p = wv_p + wd_p\n",
    "                                wd_i = (wds - wd_p - wd_m) + w_i\n",
    "                                gamma_1 = mv[nv_p, wv_p]\n",
    "                                gamma_2 = md[nd_p, nd_m, wd_p, wd_m]\n",
    "                                if w_p < q*ws and w_p + wd_i >= q*ws:\n",
    "                                    if gamma_1 > 0 and gamma_2 > 0:\n",
    "                                        p_tot += gamma_1*gamma_2*p\n",
    "                                    \n",
    "        power_v[w_i] = p_tot\n",
    "        \n",
    "    return power_v "
   ]
  },
  {
   "cell_type": "code",
   "execution_count": 6,
   "metadata": {
    "ExecuteTime": {
     "end_time": "2022-09-21T15:07:04.835362Z",
     "start_time": "2022-09-21T15:07:04.775525Z"
    }
   },
   "outputs": [
    {
     "data": {
      "text/plain": [
       "{2: 0.4444444444444443, 3: 0.5432098765432098}"
      ]
     },
     "execution_count": 6,
     "metadata": {},
     "output_type": "execute_result"
    }
   ],
   "source": [
    "getPowersPV_alpha([1]*4, [2,2,3], 0.5)"
   ]
  },
  {
   "cell_type": "markdown",
   "metadata": {},
   "source": [
    "# PV-$\\beta$"
   ]
  },
  {
   "cell_type": "code",
   "execution_count": 9,
   "metadata": {
    "ExecuteTime": {
     "end_time": "2022-09-21T15:09:19.406347Z",
     "start_time": "2022-09-21T15:09:19.399366Z"
    }
   },
   "outputs": [],
   "source": [
    "def proba_v_beta(nv, nd, nv_p, nd_p, nd_m, p_d):\n",
    "    nv_m = nv - 1 - nv_p\n",
    "    nd_i = nd - nd_p - nd_m\n",
    "    p_v = 1 - p_d\n",
    "    return (1/(2**(nv-1)))*((p_v/2+p_d*(nv_p/nv))**nd_p)*((p_v/2+p_d*(nv_m/nv))**nd_m)*((p_d/nv)**nd_i)"
   ]
  },
  {
   "cell_type": "code",
   "execution_count": 10,
   "metadata": {
    "ExecuteTime": {
     "end_time": "2022-09-21T15:09:19.597613Z",
     "start_time": "2022-09-21T15:09:19.583649Z"
    }
   },
   "outputs": [],
   "source": [
    "def getPowersPV_beta(wd, wv, q, p_d):\n",
    "    '''\n",
    "    wd: weight vector of V_d\n",
    "    wv: weight vector of V_v\n",
    "    q: quota s.t. 0 < q < 1\n",
    "    p_d: probability to delegates\n",
    "    '''\n",
    "    nd = len(wd)\n",
    "    nv = len(wv)\n",
    "    wds = np.sum(wd)\n",
    "    wvs = np.sum(wv)\n",
    "    ws = wds + wvs\n",
    "    \n",
    "    power_v = {}\n",
    "    for i in range(nv):\n",
    "        w_i = wv[i]\n",
    "        if w_i in power_v:\n",
    "            continue\n",
    "        w_not_i = np.concatenate([wv[:i],wv[i+1:]])\n",
    "        mv = getAll2partitions(w_not_i)\n",
    "        md = getAll3partitions(wd)\n",
    "        \n",
    "        p_tot = 0\n",
    "        for nd_p in range(nd+1):\n",
    "            for nd_m in range(nd+1-nd_p):\n",
    "                for nv_p in range(nv):\n",
    "                    p = proba_v_beta(nv, nd, nv_p, nd_p, nd_m, p_d)\n",
    "                    for wd_p in range(wds+1):\n",
    "                        for wd_m in range(wds+1-wd_p):\n",
    "                            for wv_p in range(wvs+1-w_i):\n",
    "                                w_p = wv_p + wd_p\n",
    "                                wd_i = (wds - wd_p - wd_m) + w_i\n",
    "                                gamma_1 = mv[nv_p, wv_p]\n",
    "                                gamma_2 = md[nd_p, nd_m, wd_p, wd_m]\n",
    "                                if w_p < q*ws and w_p + wd_i >= q*ws:\n",
    "                                    if gamma_1 > 0 and gamma_2 > 0:\n",
    "                                        p_tot += gamma_1*gamma_2*p\n",
    "                                    \n",
    "        power_v[w_i] = p_tot\n",
    "        \n",
    "    return power_v "
   ]
  },
  {
   "cell_type": "code",
   "execution_count": 11,
   "metadata": {
    "ExecuteTime": {
     "end_time": "2022-09-21T15:09:20.009023Z",
     "start_time": "2022-09-21T15:09:19.784611Z"
    }
   },
   "outputs": [
    {
     "data": {
      "text/plain": [
       "{2: 0.3984840508187583, 3: 0.5523278088563097}"
      ]
     },
     "execution_count": 11,
     "metadata": {},
     "output_type": "execute_result"
    }
   ],
   "source": [
    "getPowersPV_beta([1]*6, [2,2,3], 0.5, 0.5)"
   ]
  },
  {
   "cell_type": "markdown",
   "metadata": {},
   "source": [
    "# LD"
   ]
  },
  {
   "cell_type": "code",
   "execution_count": 12,
   "metadata": {
    "ExecuteTime": {
     "end_time": "2022-09-21T15:09:32.944843Z",
     "start_time": "2022-09-21T15:09:32.929886Z"
    }
   },
   "outputs": [],
   "source": [
    "\n",
    "def binom(n, k):\n",
    "    return math.factorial(n) // math.factorial(k) // math.factorial(n - k)\n",
    "\n",
    "def proba_ld_0(n0, n, p_d):\n",
    "    return (p_d*(n0-1)/(n-1))**(n0)\n",
    "\n",
    "def proba_ld(n, p, p_d):\n",
    "    tab_p_d = np.ones(n)*-1\n",
    "    tab_p = np.ones(n)*-1\n",
    "    tab_p[0] = 1\n",
    "    tab_p_d[0] = 1\n",
    "    tab_p[1] = p\n",
    "    tab_p_d[1] = p_d/(n-1)\n",
    "    \n",
    "    def fillCell(m, pi):\n",
    "        if pi == p and tab_p[m] >= 0:\n",
    "            return tab_p[m]\n",
    "        if pi == p_d/(n-1) and tab_p_d[m] >= 0:\n",
    "            return tab_p_d[m]\n",
    "        c = 0\n",
    "#         print(m, pi)\n",
    "        for m1 in range(m):\n",
    "            s = binom(m-1, m1)\n",
    "            s *= fillCell(m1, p_d/(n-1))\n",
    "            s *= fillCell(m - 1 - m1, pi)\n",
    "            s *= (pi + p_d*(m - 1 - m1)/(n-1))\n",
    "            c += s\n",
    "        if pi == p:\n",
    "            tab_p[m] = c\n",
    "        else:\n",
    "            tab_p_d[m] = c\n",
    "        return c\n",
    "    \n",
    "    for i in range(2, n):\n",
    "        tab_p[i] = fillCell(i, p)\n",
    "    \n",
    "    return tab_p"
   ]
  },
  {
   "cell_type": "code",
   "execution_count": 13,
   "metadata": {
    "ExecuteTime": {
     "end_time": "2022-09-21T15:09:41.252800Z",
     "start_time": "2022-09-21T15:09:41.240831Z"
    }
   },
   "outputs": [],
   "source": [
    "def getPowersLD(w, q, p_d):\n",
    "    '''\n",
    "    w: weight vector of V\n",
    "    q: quota s.t. 0 < q < 1\n",
    "    p_d: probability to delegates\n",
    "    '''\n",
    "    n = len(w)\n",
    "    ws = np.sum(w)\n",
    "    p_v = 1 - p_d\n",
    "    \n",
    "    power_v = {}\n",
    "    \n",
    "    pl_pv = proba_ld(n, p_v/2, p_d)\n",
    "    pl_pd = proba_ld(n, p_d/(n-1), p_d)\n",
    "    \n",
    "#     print(pl_pv)\n",
    "#     print(pl_pd)\n",
    "    \n",
    "    for i in range(n):\n",
    "        w_i = w[i]\n",
    "        if w_i in power_v:\n",
    "            continue\n",
    "        w_not_i = np.concatenate([w[:i],w[i+1:]])\n",
    "        mv = getAll4partitions(w_not_i)\n",
    "        \n",
    "        p_tot = 0\n",
    "        p_s = 0\n",
    "        for n_p in range(n):\n",
    "            for n_m in range(n-n_p):\n",
    "                for n_0 in range(n-n_p-n_m):\n",
    "                    n_i = n-1-n_p-n_m-n_0\n",
    "                    p = proba_ld_0(n_0, n, p_d)\n",
    "                    p *= pl_pv[n_p]\n",
    "                    p *= pl_pv[n_m]\n",
    "                    p *= pl_pd[n_i]\n",
    "#                     p_s += p\n",
    "                    for w_p in range(ws+1-w_i):\n",
    "                        for w_m in range(ws+1-w_i-w_p):\n",
    "                            for w_0 in range(ws+1-w_i-w_p-w_m):\n",
    "                                wd_i = ws - w_p - w_m - w_0 - w_i\n",
    "                                w_i_tot = wd_i + w_i\n",
    "                                gamma = mv[n_p, n_m, n_0, w_p, w_m, w_0]\n",
    "#                                 if gamma > 0:\n",
    "#                                     p_s += p*gamma\n",
    "                                if w_p < q*(ws-w_0) and w_p + w_i_tot >= q*(ws-w_0):\n",
    "                                    if gamma > 0:\n",
    "                                        p_tot += gamma*p\n",
    "                                    \n",
    "        power_v[w_i] = p_tot\n",
    "#         print(p_s)\n",
    "        \n",
    "    return power_v "
   ]
  },
  {
   "cell_type": "code",
   "execution_count": 14,
   "metadata": {
    "ExecuteTime": {
     "end_time": "2022-09-21T15:10:57.028766Z",
     "start_time": "2022-09-21T15:09:46.317752Z"
    }
   },
   "outputs": [
    {
     "data": {
      "text/plain": [
       "{1: 0.21186154872544125, 2: 0.30825296949458547, 3: 0.4240996939852223}"
      ]
     },
     "execution_count": 14,
     "metadata": {},
     "output_type": "execute_result"
    }
   ],
   "source": [
    "getPowersLD([1]*10+[2,2,3], 0.5, 0.5)"
   ]
  }
 ],
 "metadata": {
  "kernelspec": {
   "display_name": "Python 3",
   "language": "python",
   "name": "python3"
  },
  "language_info": {
   "codemirror_mode": {
    "name": "ipython",
    "version": 3
   },
   "file_extension": ".py",
   "mimetype": "text/x-python",
   "name": "python",
   "nbconvert_exporter": "python",
   "pygments_lexer": "ipython3",
   "version": "3.7.3"
  }
 },
 "nbformat": 4,
 "nbformat_minor": 2
}
