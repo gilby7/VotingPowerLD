{
 "cells": [
  {
   "cell_type": "code",
   "execution_count": 1,
   "metadata": {
    "ExecuteTime": {
     "end_time": "2022-05-11T14:34:08.308218Z",
     "start_time": "2022-05-11T14:34:07.576981Z"
    }
   },
   "outputs": [],
   "source": [
    "import numpy as np\n",
    "import matplotlib.pyplot as plt\n",
    "from tqdm import tqdm"
   ]
  },
  {
   "cell_type": "code",
   "execution_count": 2,
   "metadata": {
    "ExecuteTime": {
     "end_time": "2022-05-11T14:34:08.318782Z",
     "start_time": "2022-05-11T14:34:08.311800Z"
    }
   },
   "outputs": [],
   "source": [
    "n_voters = 100\n",
    "proba_delegatees = 0.8\n",
    "weights = 1+np.random.rand(n_voters)*19\n",
    "proba_yes = .5\n",
    "proba_no = 1-proba_yes"
   ]
  },
  {
   "cell_type": "code",
   "execution_count": 85,
   "metadata": {
    "ExecuteTime": {
     "end_time": "2022-03-23T11:27:04.107918Z",
     "start_time": "2022-03-23T11:27:04.092958Z"
    }
   },
   "outputs": [],
   "source": [
    "def create_bill(proba_delegatees):\n",
    "    r = np.random.rand(n_voters)\n",
    "    vec = []\n",
    "    for i in range(n_voters):\n",
    "        if r[i] < proba_delegatees:\n",
    "            deleg = i\n",
    "            while deleg == i:\n",
    "                deleg = np.random.randint(n_voters)\n",
    "            vec.append(deleg)\n",
    "        elif r[i] < proba_delegatees + (1-proba_delegatees)*proba_yes:\n",
    "            vec.append(\"yes\")\n",
    "        else:\n",
    "            vec.append(\"no\")\n",
    "    return vec \n",
    "\n"
   ]
  },
  {
   "cell_type": "code",
   "execution_count": 86,
   "metadata": {
    "ExecuteTime": {
     "end_time": "2022-03-23T11:27:04.855641Z",
     "start_time": "2022-03-23T11:27:04.840681Z"
    }
   },
   "outputs": [],
   "source": [
    "def assign_votes(in_votes):\n",
    "    out_votes = []\n",
    "    for i in range(n_voters):\n",
    "        if in_votes[i] == \"yes\":\n",
    "            out_votes.append(1)\n",
    "        elif in_votes[i] == \"no\":\n",
    "            out_votes.append(-1)\n",
    "        else:\n",
    "            seen = []\n",
    "            curr = i\n",
    "            while True:\n",
    "                curr = in_votes[curr]\n",
    "                if curr in [\"yes\", \"no\"]:\n",
    "                    break\n",
    "                if curr in seen:\n",
    "                    break\n",
    "                seen.append(curr)\n",
    "            if curr == \"yes\":\n",
    "                out_votes.append(1)\n",
    "            elif curr == \"no\":\n",
    "                out_votes.append(-1)\n",
    "            else:\n",
    "                out_votes.append(0)\n",
    "                \n",
    "    return out_votes"
   ]
  },
  {
   "cell_type": "code",
   "execution_count": 87,
   "metadata": {
    "ExecuteTime": {
     "end_time": "2022-03-23T11:27:05.021265Z",
     "start_time": "2022-03-23T11:27:05.014285Z"
    }
   },
   "outputs": [],
   "source": [
    "def compute_results(vote, weights):\n",
    "    return np.dot(vote, weights) > 0"
   ]
  },
  {
   "cell_type": "code",
   "execution_count": 88,
   "metadata": {
    "ExecuteTime": {
     "end_time": "2022-03-23T11:27:05.586496Z",
     "start_time": "2022-03-23T11:27:05.572533Z"
    }
   },
   "outputs": [],
   "source": [
    "\n",
    "def test_critical(proba_delegatees):\n",
    "    bill = create_bill(proba_delegatees)\n",
    "    votes = assign_votes(bill)\n",
    "    res = compute_results(votes, weights)\n",
    "    critical = np.zeros(n_voters)\n",
    "    for i in range(n_voters):\n",
    "        bill_i = bill.copy()\n",
    "        if votes[i] == 1:\n",
    "            bill_i[i] = \"no\"\n",
    "        elif votes[i] == -1:\n",
    "            bill_i[i] = \"yes\"\n",
    "            \n",
    "        if res != compute_results(assign_votes(bill_i), weights):\n",
    "            critical[i] += 1\n",
    "    return critical\n",
    "                "
   ]
  },
  {
   "cell_type": "code",
   "execution_count": 89,
   "metadata": {
    "ExecuteTime": {
     "end_time": "2022-03-23T11:27:06.168522Z",
     "start_time": "2022-03-23T11:27:06.158550Z"
    }
   },
   "outputs": [],
   "source": [
    "\n",
    "def expe_critical(n_iter, proba_delegatees):\n",
    "    count_critical = np.zeros(n_voters)\n",
    "    for _ in tqdm(range(n_iter)):\n",
    "        count_critical += test_critical(proba_delegatees)\n",
    "    return count_critical"
   ]
  },
  {
   "cell_type": "code",
   "execution_count": 90,
   "metadata": {
    "ExecuteTime": {
     "end_time": "2022-03-23T11:37:13.147664Z",
     "start_time": "2022-03-23T11:27:06.801818Z"
    }
   },
   "outputs": [
    {
     "name": "stderr",
     "output_type": "stream",
     "text": [
      "100%|██████████| 25000/25000 [01:19<00:00, 314.77it/s]\n",
      "100%|██████████| 25000/25000 [01:44<00:00, 238.87it/s]\n",
      "100%|██████████| 25000/25000 [02:28<00:00, 167.94it/s]\n",
      "100%|██████████| 25000/25000 [04:33<00:00, 91.45it/s] \n"
     ]
    }
   ],
   "source": [
    "expe_res = []\n",
    "proba_list = [0, 0.25,0.5,0.75]\n",
    "for p in proba_list:\n",
    "    expe_res.append(expe_critical(25000, p))"
   ]
  },
  {
   "cell_type": "code",
   "execution_count": 91,
   "metadata": {
    "ExecuteTime": {
     "end_time": "2022-03-23T11:37:14.473144Z",
     "start_time": "2022-03-23T11:37:13.157635Z"
    }
   },
   "outputs": [
    {
     "data": {
      "image/png": "[encoded data removed]",
      "text/plain": [
       "<Figure size 720x360 with 1 Axes>"
      ]
     },
     "metadata": {
      "needs_background": "light"
     },
     "output_type": "display_data"
    }
   ],
   "source": [
    "plt.figure(figsize=(10,5))\n",
    "for i in range(len(expe_res)):\n",
    "    plt.plot(weights, expe_res[i],'o', label=\"p_delegatees = \"+str(proba_list[i]))\n",
    "plt.xlabel(\"Weight\")\n",
    "plt.ylabel(\"Number of criticality\")\n",
    "plt.title(\"Voting power with weighted liquid democracy\")\n",
    "plt.xlim(0,20)\n",
    "plt.legend()\n",
    "plt.show()"
   ]
  },
  {
   "cell_type": "code",
   "execution_count": null,
   "metadata": {},
   "outputs": [],
   "source": []
  }
 ],
 "metadata": {
  "kernelspec": {
   "display_name": "Python 3",
   "language": "python",
   "name": "python3"
  },
  "language_info": {
   "codemirror_mode": {
    "name": "ipython",
    "version": 3
   },
   "file_extension": ".py",
   "mimetype": "text/x-python",
   "name": "python",
   "nbconvert_exporter": "python",
   "pygments_lexer": "ipython3",
   "version": "3.7.3"
  }
 },
 "nbformat": 4,
 "nbformat_minor": 2
}
