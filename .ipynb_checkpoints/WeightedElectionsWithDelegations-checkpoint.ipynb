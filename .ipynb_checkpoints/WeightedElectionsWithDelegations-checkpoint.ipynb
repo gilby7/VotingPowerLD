{
 "cells": [
  {
   "cell_type": "code",
   "execution_count": 26,
   "metadata": {},
   "outputs": [
    {
     "name": "stdout",
     "output_type": "stream",
     "text": [
      "there is 1 ways to have 0 voters in V1 with weight 0 and 1 voters in V2 with weight 2\n",
      "there is 1 ways to have 0 voters in V1 with weight 0 and 1 voters in V2 with weight 3\n",
      "there is 1 ways to have 0 voters in V1 with weight 0 and 2 voters in V2 with weight 5\n",
      "there is 1 ways to have 1 voters in V1 with weight 2 and 0 voters in V2 with weight 0\n",
      "there is 1 ways to have 1 voters in V1 with weight 3 and 0 voters in V2 with weight 0\n",
      "there is 1 ways to have 1 voters in V1 with weight 2 and 1 voters in V2 with weight 3\n",
      "there is 1 ways to have 1 voters in V1 with weight 3 and 1 voters in V2 with weight 2\n",
      "there is 1 ways to have 2 voters in V1 with weight 5 and 0 voters in V2 with weight 0\n",
      "0.0625\n"
     ]
    }
   ],
   "source": [
    "import math\n",
    "import numpy as np\n",
    "\n",
    "class WeightedElection:\n",
    "    def __init__(self, w, q):\n",
    "        self.n, self.w, self.q = len(w), w, q\n",
    "        self.pv = 0.5\n",
    "        self.py = 0.5\n",
    "    \n",
    "    def remove_voter(self,v):\n",
    "        w_minus_v = self.w.copy()\n",
    "        del w_minus_v[v]\n",
    "        return w_minus_v\n",
    "    \n",
    "    def compute_sorted_cumulative(self,l):\n",
    "        l_cumulative = l.copy()\n",
    "        l_cumulative.sort(reverse = True)\n",
    "        for i in range(1,len(l)):\n",
    "            l_cumulative[i] += l_cumulative[i-1]\n",
    "        return l_cumulative\n",
    "    \n",
    "    def print_result(self,T,wc):\n",
    "        for j in range(self.n):\n",
    "            for k in range(self.n - j):\n",
    "                if ((j+k) != 0):\n",
    "                    for w1 in range(wc[j+k-1] + 1):\n",
    "                        for w2 in range(wc[j+k-1] + 1):\n",
    "                            if(T[0][j][k][w1][w2] != 0):\n",
    "                                print(\"there is \" + str(T[0][j][k][w1][w2]) + \" ways to have \" + \\\n",
    "                                     str(j) + \" voters in V1 with weight \" + str(w1) + \" and \" + \\\n",
    "                                     str(k) + \" voters in V2 with weight \" + str(w2))\n",
    "        \n",
    "    def computeTable(self,v):\n",
    "        w_minus_v = self.remove_voter(v)    \n",
    "        w_cumulative = self.compute_sorted_cumulative(w_minus_v)\n",
    "        sum_w = w_cumulative[self.n-2]\n",
    "        \n",
    "        # T[i][j][k][w1][w2] is the number of pairs of sets (V_1,V_2) \n",
    "        # where V_1 has j voters with weights summing up to w1, \n",
    "        # where V_2 has k (other) voters with weights summing up to w2, \n",
    "        # voters in V_1 and V_2 have weights in w_minus_v[i:]\n",
    "        T = np.zeros(shape = (self.n-1,self.n,self.n,sum_w+1,sum_w+1), dtype= np.int8)\n",
    "        \n",
    "        #case j+k = 0\n",
    "        for i in range(self.n-1):\n",
    "            T[i][0][0][0][0] = 1\n",
    "        \n",
    "        #case j+k = 1\n",
    "        for i in range(self.n-1):\n",
    "            for l in range(i,self.n-1):\n",
    "                T[i][1][0][w_minus_v[l]][0] += 1\n",
    "                T[i][0][1][0][w_minus_v[l]] += 1\n",
    "        \n",
    "        for s in range(2,self.n):\n",
    "            #we consider j+k=s\n",
    "            for j in range(s+1): \n",
    "                k = s-j\n",
    "                for w1 in range(w_cumulative[s-1] + 1):\n",
    "                    for w2 in range(w_cumulative[s-1] + 1):\n",
    "                        for i in range(self.n-3,-1,-1):\n",
    "                            wi = w_minus_v[i]\n",
    "                            summand1 = 0 if ((j==0) or (w1-wi < 0)) else T[i+1][j-1][k][w1-wi][w2] #voter i is in V1\n",
    "                            summand2 = 0 if ((k==0) or (w2-wi < 0)) else T[i+1][j][k-1][w1][w2-wi] #voter i is in V2\n",
    "                            summand3 = T[i+1][j][k][w1][w2] #voter i is not in V1 nor in V2\n",
    "                            T[i][j][k][w1][w2] = summand1 + summand2 + summand3\n",
    "        self.print_result(T,w_cumulative)\n",
    "    \n",
    "    def compute_partition_prob(self, np, nm):\n",
    "        res = 0\n",
    "        if(np > 0 and nm > 0):\n",
    "            for kp in range(1,np+1):\n",
    "                for km in range(1,nm+1):\n",
    "                    k = kp+km\n",
    "                    res += math.comb(np, kp)*math.comb(nm, km)*((self.pv*self.py)**k)*((1-self.pv)**(self.n-k-1))\\\n",
    "                    *(kp**(np-kp))*(km**(nm-km))/((k+1)**(self.n-1-k))\n",
    "            return res\n",
    "            \n",
    "        if(np > 0):\n",
    "            for kp in range(1,np+1):\n",
    "                res += math.comb(np, kp)*((self.pv*self.py)**kp)*((1-self.pv)**(self.n-kp-1))\\\n",
    "                *(kp**(np-kp))/((kp+1)**(self.n-1-kp))\n",
    "            return res\n",
    "            \n",
    "        if(nm > 0):\n",
    "            for km in range(1,nm+1):\n",
    "                res += math.comb(nm, km)*((self.pv*self.py)**km)*((1-self.pv)**(self.n-km-1))\\\n",
    "                *(km**(nm-km))/((km+1)**(self.n-1-km))\n",
    "            return res\n",
    "        \n",
    "        res = (1-self.pv)**(self.n-1)\n",
    "        return res\n",
    "            \n",
    "        \n",
    "        \n",
    "\n",
    "E = WeightedElection([1,2,3],4)\n",
    "E.computeTable(0)\n",
    "print(E.compute_partition_prob(1, 1))"
   ]
  },
  {
   "cell_type": "code",
   "execution_count": 18,
   "metadata": {},
   "outputs": [
    {
     "name": "stderr",
     "output_type": "stream",
     "text": [
      "/Library/Frameworks/Python.framework/Versions/3.9/lib/python3.9/site-packages/tqdm/auto.py:22: TqdmWarning: IProgress not found. Please update jupyter and ipywidgets. See https://ipywidgets.readthedocs.io/en/stable/user_install.html\n",
      "  from .autonotebook import tqdm as notebook_tqdm\n"
     ]
    }
   ],
   "source": []
  },
  {
   "cell_type": "code",
   "execution_count": null,
   "metadata": {},
   "outputs": [],
   "source": []
  },
  {
   "cell_type": "code",
   "execution_count": null,
   "metadata": {},
   "outputs": [],
   "source": []
  }
 ],
 "metadata": {
  "kernelspec": {
   "display_name": "Python 3",
   "language": "python",
   "name": "python3"
  },
  "language_info": {
   "codemirror_mode": {
    "name": "ipython",
    "version": 3
   },
   "file_extension": ".py",
   "mimetype": "text/x-python",
   "name": "python",
   "nbconvert_exporter": "python",
   "pygments_lexer": "ipython3",
   "version": "3.7.3"
  }
 },
 "nbformat": 4,
 "nbformat_minor": 5
}
