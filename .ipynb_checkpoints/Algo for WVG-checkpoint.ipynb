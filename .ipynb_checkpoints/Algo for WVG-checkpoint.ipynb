{
 "cells": [
  {
   "cell_type": "code",
   "execution_count": 33,
   "metadata": {
    "ExecuteTime": {
     "end_time": "2022-10-18T10:16:39.995437Z",
     "start_time": "2022-10-18T10:16:38.136406Z"
    }
   },
   "outputs": [],
   "source": [
    "import numpy as np\n",
    "import math\n",
    "from tqdm import tqdm\n",
    "import matplotlib.pyplot as plt"
   ]
  },
  {
   "cell_type": "markdown",
   "metadata": {},
   "source": [
    "# Algo"
   ]
  },
  {
   "cell_type": "markdown",
   "metadata": {},
   "source": [
    "## Lemma 1"
   ]
  },
  {
   "cell_type": "code",
   "execution_count": 48,
   "metadata": {
    "ExecuteTime": {
     "end_time": "2022-10-18T10:18:54.596459Z",
     "start_time": "2022-10-18T10:18:54.533616Z"
    }
   },
   "outputs": [],
   "source": [
    "def getAll2partitions(w):\n",
    "    if len(w) == 0:\n",
    "        return np.ones((1,1), dtype=int)\n",
    "    w_sum = int(np.sum(w))\n",
    "    n = len(w)\n",
    "    \n",
    "    arr_res = np.ones((n, n+1, w_sum+1), dtype=int)*-1\n",
    "    \n",
    "    def getCell(i, n1i, w1i):\n",
    "        if n1i < 0 or w1i < 0:\n",
    "            return 0\n",
    "        if n1i == 0 and w1i == 0:\n",
    "            return 1\n",
    "        if i == n:\n",
    "            return 0\n",
    "        if arr_res[i, n1i, w1i] >= 0:\n",
    "            return arr_res[i, n1i, w1i]\n",
    "        else:\n",
    "            s = 0\n",
    "            s += getCell(i+1, n1i - 1, w1i - int(w[i]))\n",
    "            s += getCell(i+1, n1i, w1i)\n",
    "            arr_res[i, n1i, w1i] = s\n",
    "            return s\n",
    "        \n",
    "    for n1 in range(n+1):\n",
    "        for w1 in range(w_sum+1):\n",
    "            arr_res[0, n1, w1] = getCell(0, n1, w1)\n",
    "    \n",
    "    return arr_res[0]\n",
    "\n",
    "\n",
    "def getAll3partitions(w):\n",
    "    if len(w) == 0:\n",
    "        return np.ones((1,1,1,1), dtype=int)\n",
    "    w_sum = int(np.sum(w))\n",
    "    n = len(w)\n",
    "    \n",
    "    arr_res = np.ones((n, n+1, n+1, w_sum+1, w_sum+1), dtype=int)*-1\n",
    "    \n",
    "    def getCell(i, n1i, n2i, w1i, w2i):\n",
    "        if n1i < 0 or n2i < 0 or w1i < 0 or w2i < 0:\n",
    "            return 0\n",
    "        if n1i == 0 and n2i == 0 and w1i == 0 and w2i == 0:\n",
    "            return 1\n",
    "        if i == n:\n",
    "            return 0\n",
    "        if arr_res[i, n1i, n2i, w1i, w2i] >= 0:\n",
    "            return arr_res[i, n1i, n2i, w1i, w2i]\n",
    "        else:\n",
    "            s = 0\n",
    "            s += getCell(i+1, n1i - 1, n2i, w1i - w[i], w2i)\n",
    "            s += getCell(i+1, n1i, n2i - 1, w1i, w2i - w[i])\n",
    "            s += getCell(i+1, n1i, n2i, w1i, w2i)\n",
    "            arr_res[i, n1i, n2i, w1i, w2i] = s\n",
    "            return s\n",
    "        \n",
    "    for n1 in range(n+1):\n",
    "        for n2 in range(n+1-n1):\n",
    "            for w1 in range(w_sum+1):\n",
    "                for w2 in range(w_sum+1-w1):\n",
    "                    arr_res[0, n1, n2, w1, w2] = getCell(0, n1, n2, w1, w2)\n",
    "    \n",
    "    return arr_res[0]\n",
    "\n",
    "\n",
    "           \n",
    "def getAll4partitions(w):\n",
    "    w_sum = int(np.sum(w))\n",
    "    n = len(w)\n",
    "    \n",
    "    arr_res = np.ones((n, n+1, n+1, n+1, w_sum+1, w_sum+1, w_sum+1), dtype=int)*-1\n",
    "  \n",
    "    def getCell(i, n1i, n2i, n3i, w1i, w2i, w3i):\n",
    "        if n1i < 0 or n2i < 0 or n3i < 0 or w1i < 0 or w2i < 0 or w3i < 0:\n",
    "            return 0\n",
    "        if n1i == 0 and n2i == 0 and n3i == 0 and w1i == 0 and w2i == 0 and w3i == 0:\n",
    "            return 1\n",
    "        if i == n:\n",
    "            return 0\n",
    "        if arr_res[i, n1i, n2i, n3i, w1i, w2i, w3i] >= 0:\n",
    "            return arr_res[i, n1i, n2i, n3i, w1i, w2i, w3i]\n",
    "        else:\n",
    "            s = 0\n",
    "            s += getCell(i+1, n1i - 1, n2i, n3i, w1i - int(w[i]), w2i, w3i)\n",
    "            s += getCell(i+1, n1i, n2i - 1, n3i, w1i, w2i - int(w[i]), w3i)\n",
    "            s += getCell(i+1, n1i, n2i, n3i - 1, w1i, w2i, w3i - int(w[i]))\n",
    "            s += getCell(i+1, n1i, n2i, n3i, w1i, w2i, w3i)\n",
    "            arr_res[i, n1i, n2i, n3i, w1i, w2i, w3i] = s\n",
    "            return s\n",
    "        \n",
    "    for n1 in range(n+1):\n",
    "        for n2 in range(n+1-n1):\n",
    "            for n3 in range(n+1-n1-n2):\n",
    "                for w1 in range(w_sum+1):\n",
    "                    for w2 in range(w_sum+1-w1):\n",
    "                        for w3 in range(w_sum+1-w1-w2):\n",
    "                            arr_res[0, n1, n2, n3, w1, w2, w3] = getCell(0, n1, n2, n3, w1, w2, w3)\n",
    "    \n",
    "    return arr_res[0]"
   ]
  },
  {
   "cell_type": "markdown",
   "metadata": {},
   "source": [
    "## PV-$\\alpha$"
   ]
  },
  {
   "cell_type": "code",
   "execution_count": 49,
   "metadata": {
    "ExecuteTime": {
     "end_time": "2022-10-18T10:18:55.263813Z",
     "start_time": "2022-10-18T10:18:55.254228Z"
    }
   },
   "outputs": [],
   "source": [
    "def proba_v_alpha(nv, nd, nv_p, nd_p, nd_m):\n",
    "    nv_m = nv - 1 - nv_p\n",
    "    return ((nv_p)**(nd_p))*((nv_m)**(nd_m))/((2**(nv-1))*(nv**nd))\n",
    "\n",
    "def proba_d_alpha(nv, nd, nv_p, nd_p):\n",
    "    nv_m = nv - nv_p\n",
    "    nd_m = nd - 1 - nd_p\n",
    "    return ((nv_p)**(nd_p))*((nv_m)**(nd_m))/((2**nv)*(nv**(nd-1)))"
   ]
  },
  {
   "cell_type": "code",
   "execution_count": 52,
   "metadata": {
    "ExecuteTime": {
     "end_time": "2022-10-18T10:20:06.616762Z",
     "start_time": "2022-10-18T10:20:06.582078Z"
    }
   },
   "outputs": [],
   "source": [
    "def getPowersPV_alpha(wd, wv, q):\n",
    "    '''\n",
    "    wd: weight vector of V_d\n",
    "    wv: weight vector of V_v\n",
    "    q: quota s.t. 0 < q < 1\n",
    "    '''\n",
    "    nd = len(wd)\n",
    "    nv = len(wv)\n",
    "    wds = int(np.sum(wd))\n",
    "    wvs = int(np.sum(wv))\n",
    "    ws = wds + wvs\n",
    "    \n",
    "    # For voting voters\n",
    "    power_v = {}\n",
    "    for i in range(nv):\n",
    "        w_i = wv[i]\n",
    "        if w_i in power_v:\n",
    "            continue\n",
    "        w_not_i = np.concatenate([wv[:i],wv[i+1:]])\n",
    "        mv = getAll2partitions(w_not_i)\n",
    "        md = getAll3partitions(wd)\n",
    "        \n",
    "        p_tot = 0\n",
    "        for nd_p in range(nd+1):\n",
    "            for nd_m in range(nd+1-nd_p):\n",
    "                for nv_p in range(nv):\n",
    "                    p = proba_v_alpha(nv, nd, nv_p, nd_p, nd_m)\n",
    "                    for wd_p in range(wds+1):\n",
    "                        for wd_m in range(wds+1-wd_p):\n",
    "                            for wv_p in range(wvs+1-w_i):\n",
    "                                w_p = wv_p + wd_p\n",
    "                                wd_i = (wds - wd_p - wd_m) + w_i\n",
    "                                gamma_1 = mv[nv_p, wv_p]\n",
    "                                gamma_2 = md[nd_p, nd_m, wd_p, wd_m]\n",
    "                                if w_p < q*ws and w_p + wd_i >= q*ws:\n",
    "                                    if gamma_1 > 0 and gamma_2 > 0:\n",
    "                                        p_tot += gamma_1*gamma_2*p\n",
    "                                    \n",
    "        power_v[w_i] = p_tot\n",
    "        \n",
    "    #For delegating voters\n",
    "    power_d = {}\n",
    "    for i in range(nd):\n",
    "        w_i = wd[i]\n",
    "        if w_i in power_d:\n",
    "            continue\n",
    "        w_not_i = np.concatenate([wd[:i],wd[i+1:]])\n",
    "        mv = getAll2partitions(wv)\n",
    "        md = getAll2partitions(w_not_i)\n",
    "        \n",
    "        p_tot = 0\n",
    "        for nd_p in range(nd):\n",
    "            for nv_p in range(nv+1):\n",
    "                p = proba_d_alpha(nv, nd, nv_p, nd_p)\n",
    "                for wd_p in range(wds+1-w_i):\n",
    "                    for wv_p in range(wvs+1):\n",
    "                        w_p = wv_p + wd_p\n",
    "                        gamma_1 = mv[nv_p, wv_p]\n",
    "                        gamma_2 = md[nd_p, wd_p]\n",
    "                        if w_p < q*ws and w_p + w_i >= q*ws:\n",
    "                            if gamma_1 > 0 and gamma_2 > 0:\n",
    "                                p_tot += gamma_1*gamma_2*p\n",
    "                                    \n",
    "        power_d[w_i] = p_tot\n",
    "        \n",
    "    return power_v, power_d"
   ]
  },
  {
   "cell_type": "code",
   "execution_count": 53,
   "metadata": {
    "ExecuteTime": {
     "end_time": "2022-10-18T10:20:06.896475Z",
     "start_time": "2022-10-18T10:20:06.865585Z"
    }
   },
   "outputs": [
    {
     "data": {
      "text/plain": [
       "({1: 0.5}, {1: 0.1875})"
      ]
     },
     "execution_count": 53,
     "metadata": {},
     "output_type": "execute_result"
    }
   ],
   "source": [
    "getPowersPV_alpha([1]*5, [1]*2, 0.5)"
   ]
  },
  {
   "cell_type": "markdown",
   "metadata": {},
   "source": [
    "## PV-$\\beta$"
   ]
  },
  {
   "cell_type": "code",
   "execution_count": 68,
   "metadata": {
    "ExecuteTime": {
     "end_time": "2022-10-18T10:28:52.512960Z",
     "start_time": "2022-10-18T10:28:52.493823Z"
    }
   },
   "outputs": [],
   "source": [
    "def proba_v_beta(nv, nd, nv_p, nd_p, nd_m, p_d):\n",
    "    nv_m = nv - 1 - nv_p\n",
    "    nd_i = nd - nd_p - nd_m\n",
    "    p_v = 1 - p_d\n",
    "    return (1/(2**(nv-1)))*((p_v/2+p_d*(nv_p/nv))**nd_p)*((p_v/2+p_d*(nv_m/nv))**nd_m)*((p_d/nv)**nd_i)\n",
    "\n",
    "\n",
    "def proba_d_beta(nv, nd, nv_p, nd_p, p_d):\n",
    "    nv_m = nv - nv_p\n",
    "    nd_m = nd - 1 - nd_p\n",
    "    p_v = 1 - p_d\n",
    "    return (1/(2**nv))*((p_v/2+p_d*(nv_p/nv))**nd_p)*((p_v/2+p_d*(nv_m/nv))**nd_m)"
   ]
  },
  {
   "cell_type": "code",
   "execution_count": 73,
   "metadata": {
    "ExecuteTime": {
     "end_time": "2022-10-18T10:32:12.876466Z",
     "start_time": "2022-10-18T10:32:12.843551Z"
    }
   },
   "outputs": [],
   "source": [
    "def getPowersPV_beta(wd, wv, q, p_d):\n",
    "    '''\n",
    "    wd: weight vector of V_d\n",
    "    wv: weight vector of V_v\n",
    "    q: quota s.t. 0 < q < 1\n",
    "    p_d: probability to delegates\n",
    "    '''\n",
    "    nd = len(wd)\n",
    "    nv = len(wv)\n",
    "    wds = int(np.sum(wd))\n",
    "    wvs = int(np.sum(wv))\n",
    "    ws = wds + wvs\n",
    "    \n",
    "    power_v = {}\n",
    "    for i in range(nv):\n",
    "        w_i = wv[i]\n",
    "        if w_i in power_v:\n",
    "            continue\n",
    "        w_not_i = np.concatenate([wv[:i],wv[i+1:]])\n",
    "        mv = getAll2partitions(w_not_i)\n",
    "        md = getAll3partitions(wd)\n",
    "        \n",
    "        p_tot = 0\n",
    "        p_s = 0\n",
    "        for nd_p in range(nd+1):\n",
    "            for nd_m in range(nd+1-nd_p):\n",
    "                for nv_p in range(nv):\n",
    "                    p = proba_v_beta(nv, nd, nv_p, nd_p, nd_m, p_d)\n",
    "                    for wd_p in range(wds+1):\n",
    "                        for wd_m in range(wds+1-wd_p):\n",
    "                            for wv_p in range(wvs+1-w_i):\n",
    "                                w_p = wv_p + wd_p\n",
    "                                wd_i = (wds - wd_p - wd_m) + w_i\n",
    "                                gamma_1 = mv[nv_p, wv_p]\n",
    "                                gamma_2 = md[nd_p, nd_m, wd_p, wd_m]\n",
    "                                if gamma_1 > 0 and gamma_2 >0:\n",
    "                                    p_s += gamma_1*gamma_2*p\n",
    "                                if w_p < q*ws and w_p + wd_i >= q*ws:\n",
    "                                    if gamma_1 > 0 and gamma_2 > 0:\n",
    "                                        p_tot += gamma_1*gamma_2*p\n",
    "                                        \n",
    "        power_v[w_i] = p_tot\n",
    "        \n",
    "    \n",
    "    #Something's weird here\n",
    "    power_d = {}\n",
    "    for i in range(nd):\n",
    "        w_i = wd[i]\n",
    "        if w_i in power_d:\n",
    "            continue\n",
    "        w_not_i = np.concatenate([wd[:i],wd[i+1:]])\n",
    "        mv = getAll2partitions(wv)\n",
    "        md = getAll2partitions(w_not_i)\n",
    "        \n",
    "        p_tot = 0\n",
    "        for nd_p in range(nd):\n",
    "            for nv_p in range(nv+1):\n",
    "                p = proba_d_beta(nv, nd, nv_p, nd_p, p_d)\n",
    "                for wd_p in range(wds+1-w_i):\n",
    "                    for wv_p in range(wvs+1):\n",
    "                        w_p = wv_p + wd_p\n",
    "                        gamma_1 = mv[nv_p, wv_p]\n",
    "                        gamma_2 = md[nd_p, wd_p]\n",
    "                        if w_p < q*ws and w_p + w_i >= q*ws:\n",
    "                            if gamma_1 > 0 and gamma_2 > 0:\n",
    "                                p_tot += gamma_1*gamma_2*p\n",
    "                       \n",
    "        power_d[w_i] = p_tot\n",
    "        \n",
    "        \n",
    "    return power_v, power_d"
   ]
  },
  {
   "cell_type": "code",
   "execution_count": 70,
   "metadata": {
    "ExecuteTime": {
     "end_time": "2022-10-18T10:28:56.111627Z",
     "start_time": "2022-10-18T10:28:54.699139Z"
    }
   },
   "outputs": [
    {
     "data": {
      "text/plain": [
       "({1: 0.20815467834472656, 2: 0.3525209426879883, 3: 0.5251598358154297},\n",
       " {1: 0.12350845336914062})"
      ]
     },
     "execution_count": 70,
     "metadata": {},
     "output_type": "execute_result"
    }
   ],
   "source": [
    "getPowersPV_beta([1]*6, [1,2,2,3], 0.5, 0.5)"
   ]
  },
  {
   "cell_type": "markdown",
   "metadata": {},
   "source": [
    "## LD"
   ]
  },
  {
   "cell_type": "code",
   "execution_count": 82,
   "metadata": {
    "ExecuteTime": {
     "end_time": "2022-10-18T10:38:13.508702Z",
     "start_time": "2022-10-18T10:38:13.476505Z"
    }
   },
   "outputs": [],
   "source": [
    "\n",
    "def binom(n, k):\n",
    "    return math.factorial(n) // math.factorial(k) // math.factorial(n - k)\n",
    "\n",
    "def proba_ld_0(n0, n, p_d):\n",
    "    return (p_d*(n0-1)/(n-1))**(n0)\n",
    "\n",
    "def proba_ld(n, p, p_d):\n",
    "    tab_p_d = np.ones(n)*-1\n",
    "    tab_p = np.ones(n)*-1\n",
    "    tab_p[0] = 1\n",
    "    tab_p_d[0] = 1\n",
    "    tab_p[1] = p\n",
    "    tab_p_d[1] = p_d/(n-1)\n",
    "    \n",
    "    def fillCell(m, pi):\n",
    "        if pi == p and tab_p[m] >= 0:\n",
    "            return tab_p[m]\n",
    "        if pi == p_d/(n-1) and tab_p_d[m] >= 0:\n",
    "            return tab_p_d[m]\n",
    "        c = 0\n",
    "#         print(m, pi)\n",
    "        for m1 in range(m):\n",
    "            s = binom(m-1, m1)\n",
    "            s *= fillCell(m1, p_d/(n-1))\n",
    "            s *= fillCell(m - 1 - m1, pi)\n",
    "            s *= (pi + p_d*(m - 1 - m1)/(n-1))\n",
    "            c += s\n",
    "        if pi == p:\n",
    "            tab_p[m] = c\n",
    "        else:\n",
    "            tab_p_d[m] = c\n",
    "        return c\n",
    "    \n",
    "    for i in range(2, n):\n",
    "        tab_p[i] = fillCell(i, p)\n",
    "    \n",
    "    return tab_p"
   ]
  },
  {
   "cell_type": "code",
   "execution_count": 83,
   "metadata": {
    "ExecuteTime": {
     "end_time": "2022-10-18T10:38:13.797648Z",
     "start_time": "2022-10-18T10:38:13.765728Z"
    }
   },
   "outputs": [],
   "source": [
    "def getPowersLD(w, q, p_d):\n",
    "    '''\n",
    "    w: weight vector of V\n",
    "    q: quota s.t. 0 < q < 1\n",
    "    p_d: probability to delegates\n",
    "    '''\n",
    "    n = len(w)\n",
    "    ws = np.sum(w)\n",
    "    p_v = 1 - p_d\n",
    "    \n",
    "    power_v = {}\n",
    "    \n",
    "    pl_pv = proba_ld(n, p_v/2, p_d)\n",
    "    pl_pd = proba_ld(n, p_d/(n-1), p_d)\n",
    "    \n",
    "#     print(pl_pv)\n",
    "#     print(pl_pd)\n",
    "    \n",
    "    for i in range(n):\n",
    "        w_i = w[i]\n",
    "        if w_i in power_v:\n",
    "            continue\n",
    "        w_not_i = np.concatenate([w[:i],w[i+1:]])\n",
    "        mv = getAll4partitions(w_not_i)\n",
    "        \n",
    "        p_tot = 0\n",
    "        p_s = 0\n",
    "        for n_p in range(n):\n",
    "            for n_m in range(n-n_p):\n",
    "                for n_0 in range(n-n_p-n_m):\n",
    "                    n_i = n-1-n_p-n_m-n_0\n",
    "                    p = proba_ld_0(n_0, n, p_d)\n",
    "                    p *= pl_pv[n_p]\n",
    "                    p *= pl_pv[n_m]\n",
    "                    p *= pl_pd[n_i]\n",
    "#                     p_s += p\n",
    "                    for w_p in range(ws+1-w_i):\n",
    "                        for w_m in range(ws+1-w_i-w_p):\n",
    "                            for w_0 in range(ws+1-w_i-w_p-w_m):\n",
    "                                wd_i = ws - w_p - w_m - w_0 - w_i\n",
    "                                w_i_tot = wd_i + w_i\n",
    "                                gamma = mv[n_p, n_m, n_0, w_p, w_m, w_0]\n",
    "#                                 if gamma > 0:\n",
    "#                                     p_s += p*gamma\n",
    "                                if w_p < q*(ws-w_0) and w_p + w_i_tot >= q*(ws-w_0):\n",
    "                                    if gamma > 0:\n",
    "                                        p_tot += gamma*p\n",
    "                                    \n",
    "        power_v[w_i] = p_tot\n",
    "#         print(p_s)\n",
    "        \n",
    "    return power_v "
   ]
  },
  {
   "cell_type": "code",
   "execution_count": 84,
   "metadata": {
    "ExecuteTime": {
     "end_time": "2022-10-18T10:38:18.858173Z",
     "start_time": "2022-10-18T10:38:15.168417Z"
    }
   },
   "outputs": [
    {
     "ename": "KeyboardInterrupt",
     "evalue": "",
     "output_type": "error",
     "traceback": [
      "\u001b[1;31m---------------------------------------------------------------------------\u001b[0m",
      "\u001b[1;31mKeyboardInterrupt\u001b[0m                         Traceback (most recent call last)",
      "\u001b[1;32m<ipython-input-84-d782633ff85e>\u001b[0m in \u001b[0;36m<module>\u001b[1;34m\u001b[0m\n\u001b[1;32m----> 1\u001b[1;33m \u001b[0mgetPowersLD\u001b[0m\u001b[1;33m(\u001b[0m\u001b[1;33m[\u001b[0m\u001b[1;36m1\u001b[0m\u001b[1;33m]\u001b[0m\u001b[1;33m*\u001b[0m\u001b[1;36m10\u001b[0m\u001b[1;33m+\u001b[0m\u001b[1;33m[\u001b[0m\u001b[1;36m2\u001b[0m\u001b[1;33m,\u001b[0m\u001b[1;36m2\u001b[0m\u001b[1;33m,\u001b[0m\u001b[1;36m3\u001b[0m\u001b[1;33m]\u001b[0m\u001b[1;33m,\u001b[0m \u001b[1;36m0.5\u001b[0m\u001b[1;33m,\u001b[0m \u001b[1;36m0.5\u001b[0m\u001b[1;33m)\u001b[0m\u001b[1;33m\u001b[0m\u001b[1;33m\u001b[0m\u001b[0m\n\u001b[0m",
      "\u001b[1;32m<ipython-input-83-2ad6ec7c4d79>\u001b[0m in \u001b[0;36mgetPowersLD\u001b[1;34m(w, q, p_d)\u001b[0m\n\u001b[0;32m     22\u001b[0m             \u001b[1;32mcontinue\u001b[0m\u001b[1;33m\u001b[0m\u001b[1;33m\u001b[0m\u001b[0m\n\u001b[0;32m     23\u001b[0m         \u001b[0mw_not_i\u001b[0m \u001b[1;33m=\u001b[0m \u001b[0mnp\u001b[0m\u001b[1;33m.\u001b[0m\u001b[0mconcatenate\u001b[0m\u001b[1;33m(\u001b[0m\u001b[1;33m[\u001b[0m\u001b[0mw\u001b[0m\u001b[1;33m[\u001b[0m\u001b[1;33m:\u001b[0m\u001b[0mi\u001b[0m\u001b[1;33m]\u001b[0m\u001b[1;33m,\u001b[0m\u001b[0mw\u001b[0m\u001b[1;33m[\u001b[0m\u001b[0mi\u001b[0m\u001b[1;33m+\u001b[0m\u001b[1;36m1\u001b[0m\u001b[1;33m:\u001b[0m\u001b[1;33m]\u001b[0m\u001b[1;33m]\u001b[0m\u001b[1;33m)\u001b[0m\u001b[1;33m\u001b[0m\u001b[1;33m\u001b[0m\u001b[0m\n\u001b[1;32m---> 24\u001b[1;33m         \u001b[0mmv\u001b[0m \u001b[1;33m=\u001b[0m \u001b[0mgetAll4partitions\u001b[0m\u001b[1;33m(\u001b[0m\u001b[0mw_not_i\u001b[0m\u001b[1;33m)\u001b[0m\u001b[1;33m\u001b[0m\u001b[1;33m\u001b[0m\u001b[0m\n\u001b[0m\u001b[0;32m     25\u001b[0m \u001b[1;33m\u001b[0m\u001b[0m\n\u001b[0;32m     26\u001b[0m         \u001b[0mp_tot\u001b[0m \u001b[1;33m=\u001b[0m \u001b[1;36m0\u001b[0m\u001b[1;33m\u001b[0m\u001b[1;33m\u001b[0m\u001b[0m\n",
      "\u001b[1;32m<ipython-input-48-16e1726bf2dc>\u001b[0m in \u001b[0;36mgetAll4partitions\u001b[1;34m(w)\u001b[0m\n\u001b[0;32m     95\u001b[0m                     \u001b[1;32mfor\u001b[0m \u001b[0mw2\u001b[0m \u001b[1;32min\u001b[0m \u001b[0mrange\u001b[0m\u001b[1;33m(\u001b[0m\u001b[0mw_sum\u001b[0m\u001b[1;33m+\u001b[0m\u001b[1;36m1\u001b[0m\u001b[1;33m-\u001b[0m\u001b[0mw1\u001b[0m\u001b[1;33m)\u001b[0m\u001b[1;33m:\u001b[0m\u001b[1;33m\u001b[0m\u001b[1;33m\u001b[0m\u001b[0m\n\u001b[0;32m     96\u001b[0m                         \u001b[1;32mfor\u001b[0m \u001b[0mw3\u001b[0m \u001b[1;32min\u001b[0m \u001b[0mrange\u001b[0m\u001b[1;33m(\u001b[0m\u001b[0mw_sum\u001b[0m\u001b[1;33m+\u001b[0m\u001b[1;36m1\u001b[0m\u001b[1;33m-\u001b[0m\u001b[0mw1\u001b[0m\u001b[1;33m-\u001b[0m\u001b[0mw2\u001b[0m\u001b[1;33m)\u001b[0m\u001b[1;33m:\u001b[0m\u001b[1;33m\u001b[0m\u001b[1;33m\u001b[0m\u001b[0m\n\u001b[1;32m---> 97\u001b[1;33m                             \u001b[0marr_res\u001b[0m\u001b[1;33m[\u001b[0m\u001b[1;36m0\u001b[0m\u001b[1;33m,\u001b[0m \u001b[0mn1\u001b[0m\u001b[1;33m,\u001b[0m \u001b[0mn2\u001b[0m\u001b[1;33m,\u001b[0m \u001b[0mn3\u001b[0m\u001b[1;33m,\u001b[0m \u001b[0mw1\u001b[0m\u001b[1;33m,\u001b[0m \u001b[0mw2\u001b[0m\u001b[1;33m,\u001b[0m \u001b[0mw3\u001b[0m\u001b[1;33m]\u001b[0m \u001b[1;33m=\u001b[0m \u001b[0mgetCell\u001b[0m\u001b[1;33m(\u001b[0m\u001b[1;36m0\u001b[0m\u001b[1;33m,\u001b[0m \u001b[0mn1\u001b[0m\u001b[1;33m,\u001b[0m \u001b[0mn2\u001b[0m\u001b[1;33m,\u001b[0m \u001b[0mn3\u001b[0m\u001b[1;33m,\u001b[0m \u001b[0mw1\u001b[0m\u001b[1;33m,\u001b[0m \u001b[0mw2\u001b[0m\u001b[1;33m,\u001b[0m \u001b[0mw3\u001b[0m\u001b[1;33m)\u001b[0m\u001b[1;33m\u001b[0m\u001b[1;33m\u001b[0m\u001b[0m\n\u001b[0m\u001b[0;32m     98\u001b[0m \u001b[1;33m\u001b[0m\u001b[0m\n\u001b[0;32m     99\u001b[0m     \u001b[1;32mreturn\u001b[0m \u001b[0marr_res\u001b[0m\u001b[1;33m[\u001b[0m\u001b[1;36m0\u001b[0m\u001b[1;33m]\u001b[0m\u001b[1;33m\u001b[0m\u001b[1;33m\u001b[0m\u001b[0m\n",
      "\u001b[1;32m<ipython-input-48-16e1726bf2dc>\u001b[0m in \u001b[0;36mgetCell\u001b[1;34m(i, n1i, n2i, n3i, w1i, w2i, w3i)\u001b[0m\n\u001b[0;32m     85\u001b[0m             \u001b[0ms\u001b[0m \u001b[1;33m+=\u001b[0m \u001b[0mgetCell\u001b[0m\u001b[1;33m(\u001b[0m\u001b[0mi\u001b[0m\u001b[1;33m+\u001b[0m\u001b[1;36m1\u001b[0m\u001b[1;33m,\u001b[0m \u001b[0mn1i\u001b[0m\u001b[1;33m,\u001b[0m \u001b[0mn2i\u001b[0m \u001b[1;33m-\u001b[0m \u001b[1;36m1\u001b[0m\u001b[1;33m,\u001b[0m \u001b[0mn3i\u001b[0m\u001b[1;33m,\u001b[0m \u001b[0mw1i\u001b[0m\u001b[1;33m,\u001b[0m \u001b[0mw2i\u001b[0m \u001b[1;33m-\u001b[0m \u001b[0mint\u001b[0m\u001b[1;33m(\u001b[0m\u001b[0mw\u001b[0m\u001b[1;33m[\u001b[0m\u001b[0mi\u001b[0m\u001b[1;33m]\u001b[0m\u001b[1;33m)\u001b[0m\u001b[1;33m,\u001b[0m \u001b[0mw3i\u001b[0m\u001b[1;33m)\u001b[0m\u001b[1;33m\u001b[0m\u001b[1;33m\u001b[0m\u001b[0m\n\u001b[0;32m     86\u001b[0m             \u001b[0ms\u001b[0m \u001b[1;33m+=\u001b[0m \u001b[0mgetCell\u001b[0m\u001b[1;33m(\u001b[0m\u001b[0mi\u001b[0m\u001b[1;33m+\u001b[0m\u001b[1;36m1\u001b[0m\u001b[1;33m,\u001b[0m \u001b[0mn1i\u001b[0m\u001b[1;33m,\u001b[0m \u001b[0mn2i\u001b[0m\u001b[1;33m,\u001b[0m \u001b[0mn3i\u001b[0m \u001b[1;33m-\u001b[0m \u001b[1;36m1\u001b[0m\u001b[1;33m,\u001b[0m \u001b[0mw1i\u001b[0m\u001b[1;33m,\u001b[0m \u001b[0mw2i\u001b[0m\u001b[1;33m,\u001b[0m \u001b[0mw3i\u001b[0m \u001b[1;33m-\u001b[0m \u001b[0mint\u001b[0m\u001b[1;33m(\u001b[0m\u001b[0mw\u001b[0m\u001b[1;33m[\u001b[0m\u001b[0mi\u001b[0m\u001b[1;33m]\u001b[0m\u001b[1;33m)\u001b[0m\u001b[1;33m)\u001b[0m\u001b[1;33m\u001b[0m\u001b[1;33m\u001b[0m\u001b[0m\n\u001b[1;32m---> 87\u001b[1;33m             \u001b[0ms\u001b[0m \u001b[1;33m+=\u001b[0m \u001b[0mgetCell\u001b[0m\u001b[1;33m(\u001b[0m\u001b[0mi\u001b[0m\u001b[1;33m+\u001b[0m\u001b[1;36m1\u001b[0m\u001b[1;33m,\u001b[0m \u001b[0mn1i\u001b[0m\u001b[1;33m,\u001b[0m \u001b[0mn2i\u001b[0m\u001b[1;33m,\u001b[0m \u001b[0mn3i\u001b[0m\u001b[1;33m,\u001b[0m \u001b[0mw1i\u001b[0m\u001b[1;33m,\u001b[0m \u001b[0mw2i\u001b[0m\u001b[1;33m,\u001b[0m \u001b[0mw3i\u001b[0m\u001b[1;33m)\u001b[0m\u001b[1;33m\u001b[0m\u001b[1;33m\u001b[0m\u001b[0m\n\u001b[0m\u001b[0;32m     88\u001b[0m             \u001b[0marr_res\u001b[0m\u001b[1;33m[\u001b[0m\u001b[0mi\u001b[0m\u001b[1;33m,\u001b[0m \u001b[0mn1i\u001b[0m\u001b[1;33m,\u001b[0m \u001b[0mn2i\u001b[0m\u001b[1;33m,\u001b[0m \u001b[0mn3i\u001b[0m\u001b[1;33m,\u001b[0m \u001b[0mw1i\u001b[0m\u001b[1;33m,\u001b[0m \u001b[0mw2i\u001b[0m\u001b[1;33m,\u001b[0m \u001b[0mw3i\u001b[0m\u001b[1;33m]\u001b[0m \u001b[1;33m=\u001b[0m \u001b[0ms\u001b[0m\u001b[1;33m\u001b[0m\u001b[1;33m\u001b[0m\u001b[0m\n\u001b[0;32m     89\u001b[0m             \u001b[1;32mreturn\u001b[0m \u001b[0ms\u001b[0m\u001b[1;33m\u001b[0m\u001b[1;33m\u001b[0m\u001b[0m\n",
      "\u001b[1;32m<ipython-input-48-16e1726bf2dc>\u001b[0m in \u001b[0;36mgetCell\u001b[1;34m(i, n1i, n2i, n3i, w1i, w2i, w3i)\u001b[0m\n\u001b[0;32m     85\u001b[0m             \u001b[0ms\u001b[0m \u001b[1;33m+=\u001b[0m \u001b[0mgetCell\u001b[0m\u001b[1;33m(\u001b[0m\u001b[0mi\u001b[0m\u001b[1;33m+\u001b[0m\u001b[1;36m1\u001b[0m\u001b[1;33m,\u001b[0m \u001b[0mn1i\u001b[0m\u001b[1;33m,\u001b[0m \u001b[0mn2i\u001b[0m \u001b[1;33m-\u001b[0m \u001b[1;36m1\u001b[0m\u001b[1;33m,\u001b[0m \u001b[0mn3i\u001b[0m\u001b[1;33m,\u001b[0m \u001b[0mw1i\u001b[0m\u001b[1;33m,\u001b[0m \u001b[0mw2i\u001b[0m \u001b[1;33m-\u001b[0m \u001b[0mint\u001b[0m\u001b[1;33m(\u001b[0m\u001b[0mw\u001b[0m\u001b[1;33m[\u001b[0m\u001b[0mi\u001b[0m\u001b[1;33m]\u001b[0m\u001b[1;33m)\u001b[0m\u001b[1;33m,\u001b[0m \u001b[0mw3i\u001b[0m\u001b[1;33m)\u001b[0m\u001b[1;33m\u001b[0m\u001b[1;33m\u001b[0m\u001b[0m\n\u001b[0;32m     86\u001b[0m             \u001b[0ms\u001b[0m \u001b[1;33m+=\u001b[0m \u001b[0mgetCell\u001b[0m\u001b[1;33m(\u001b[0m\u001b[0mi\u001b[0m\u001b[1;33m+\u001b[0m\u001b[1;36m1\u001b[0m\u001b[1;33m,\u001b[0m \u001b[0mn1i\u001b[0m\u001b[1;33m,\u001b[0m \u001b[0mn2i\u001b[0m\u001b[1;33m,\u001b[0m \u001b[0mn3i\u001b[0m \u001b[1;33m-\u001b[0m \u001b[1;36m1\u001b[0m\u001b[1;33m,\u001b[0m \u001b[0mw1i\u001b[0m\u001b[1;33m,\u001b[0m \u001b[0mw2i\u001b[0m\u001b[1;33m,\u001b[0m \u001b[0mw3i\u001b[0m \u001b[1;33m-\u001b[0m \u001b[0mint\u001b[0m\u001b[1;33m(\u001b[0m\u001b[0mw\u001b[0m\u001b[1;33m[\u001b[0m\u001b[0mi\u001b[0m\u001b[1;33m]\u001b[0m\u001b[1;33m)\u001b[0m\u001b[1;33m)\u001b[0m\u001b[1;33m\u001b[0m\u001b[1;33m\u001b[0m\u001b[0m\n\u001b[1;32m---> 87\u001b[1;33m             \u001b[0ms\u001b[0m \u001b[1;33m+=\u001b[0m \u001b[0mgetCell\u001b[0m\u001b[1;33m(\u001b[0m\u001b[0mi\u001b[0m\u001b[1;33m+\u001b[0m\u001b[1;36m1\u001b[0m\u001b[1;33m,\u001b[0m \u001b[0mn1i\u001b[0m\u001b[1;33m,\u001b[0m \u001b[0mn2i\u001b[0m\u001b[1;33m,\u001b[0m \u001b[0mn3i\u001b[0m\u001b[1;33m,\u001b[0m \u001b[0mw1i\u001b[0m\u001b[1;33m,\u001b[0m \u001b[0mw2i\u001b[0m\u001b[1;33m,\u001b[0m \u001b[0mw3i\u001b[0m\u001b[1;33m)\u001b[0m\u001b[1;33m\u001b[0m\u001b[1;33m\u001b[0m\u001b[0m\n\u001b[0m\u001b[0;32m     88\u001b[0m             \u001b[0marr_res\u001b[0m\u001b[1;33m[\u001b[0m\u001b[0mi\u001b[0m\u001b[1;33m,\u001b[0m \u001b[0mn1i\u001b[0m\u001b[1;33m,\u001b[0m \u001b[0mn2i\u001b[0m\u001b[1;33m,\u001b[0m \u001b[0mn3i\u001b[0m\u001b[1;33m,\u001b[0m \u001b[0mw1i\u001b[0m\u001b[1;33m,\u001b[0m \u001b[0mw2i\u001b[0m\u001b[1;33m,\u001b[0m \u001b[0mw3i\u001b[0m\u001b[1;33m]\u001b[0m \u001b[1;33m=\u001b[0m \u001b[0ms\u001b[0m\u001b[1;33m\u001b[0m\u001b[1;33m\u001b[0m\u001b[0m\n\u001b[0;32m     89\u001b[0m             \u001b[1;32mreturn\u001b[0m \u001b[0ms\u001b[0m\u001b[1;33m\u001b[0m\u001b[1;33m\u001b[0m\u001b[0m\n",
      "\u001b[1;32m<ipython-input-48-16e1726bf2dc>\u001b[0m in \u001b[0;36mgetCell\u001b[1;34m(i, n1i, n2i, n3i, w1i, w2i, w3i)\u001b[0m\n\u001b[0;32m     85\u001b[0m             \u001b[0ms\u001b[0m \u001b[1;33m+=\u001b[0m \u001b[0mgetCell\u001b[0m\u001b[1;33m(\u001b[0m\u001b[0mi\u001b[0m\u001b[1;33m+\u001b[0m\u001b[1;36m1\u001b[0m\u001b[1;33m,\u001b[0m \u001b[0mn1i\u001b[0m\u001b[1;33m,\u001b[0m \u001b[0mn2i\u001b[0m \u001b[1;33m-\u001b[0m \u001b[1;36m1\u001b[0m\u001b[1;33m,\u001b[0m \u001b[0mn3i\u001b[0m\u001b[1;33m,\u001b[0m \u001b[0mw1i\u001b[0m\u001b[1;33m,\u001b[0m \u001b[0mw2i\u001b[0m \u001b[1;33m-\u001b[0m \u001b[0mint\u001b[0m\u001b[1;33m(\u001b[0m\u001b[0mw\u001b[0m\u001b[1;33m[\u001b[0m\u001b[0mi\u001b[0m\u001b[1;33m]\u001b[0m\u001b[1;33m)\u001b[0m\u001b[1;33m,\u001b[0m \u001b[0mw3i\u001b[0m\u001b[1;33m)\u001b[0m\u001b[1;33m\u001b[0m\u001b[1;33m\u001b[0m\u001b[0m\n\u001b[0;32m     86\u001b[0m             \u001b[0ms\u001b[0m \u001b[1;33m+=\u001b[0m \u001b[0mgetCell\u001b[0m\u001b[1;33m(\u001b[0m\u001b[0mi\u001b[0m\u001b[1;33m+\u001b[0m\u001b[1;36m1\u001b[0m\u001b[1;33m,\u001b[0m \u001b[0mn1i\u001b[0m\u001b[1;33m,\u001b[0m \u001b[0mn2i\u001b[0m\u001b[1;33m,\u001b[0m \u001b[0mn3i\u001b[0m \u001b[1;33m-\u001b[0m \u001b[1;36m1\u001b[0m\u001b[1;33m,\u001b[0m \u001b[0mw1i\u001b[0m\u001b[1;33m,\u001b[0m \u001b[0mw2i\u001b[0m\u001b[1;33m,\u001b[0m \u001b[0mw3i\u001b[0m \u001b[1;33m-\u001b[0m \u001b[0mint\u001b[0m\u001b[1;33m(\u001b[0m\u001b[0mw\u001b[0m\u001b[1;33m[\u001b[0m\u001b[0mi\u001b[0m\u001b[1;33m]\u001b[0m\u001b[1;33m)\u001b[0m\u001b[1;33m)\u001b[0m\u001b[1;33m\u001b[0m\u001b[1;33m\u001b[0m\u001b[0m\n\u001b[1;32m---> 87\u001b[1;33m             \u001b[0ms\u001b[0m \u001b[1;33m+=\u001b[0m \u001b[0mgetCell\u001b[0m\u001b[1;33m(\u001b[0m\u001b[0mi\u001b[0m\u001b[1;33m+\u001b[0m\u001b[1;36m1\u001b[0m\u001b[1;33m,\u001b[0m \u001b[0mn1i\u001b[0m\u001b[1;33m,\u001b[0m \u001b[0mn2i\u001b[0m\u001b[1;33m,\u001b[0m \u001b[0mn3i\u001b[0m\u001b[1;33m,\u001b[0m \u001b[0mw1i\u001b[0m\u001b[1;33m,\u001b[0m \u001b[0mw2i\u001b[0m\u001b[1;33m,\u001b[0m \u001b[0mw3i\u001b[0m\u001b[1;33m)\u001b[0m\u001b[1;33m\u001b[0m\u001b[1;33m\u001b[0m\u001b[0m\n\u001b[0m\u001b[0;32m     88\u001b[0m             \u001b[0marr_res\u001b[0m\u001b[1;33m[\u001b[0m\u001b[0mi\u001b[0m\u001b[1;33m,\u001b[0m \u001b[0mn1i\u001b[0m\u001b[1;33m,\u001b[0m \u001b[0mn2i\u001b[0m\u001b[1;33m,\u001b[0m \u001b[0mn3i\u001b[0m\u001b[1;33m,\u001b[0m \u001b[0mw1i\u001b[0m\u001b[1;33m,\u001b[0m \u001b[0mw2i\u001b[0m\u001b[1;33m,\u001b[0m \u001b[0mw3i\u001b[0m\u001b[1;33m]\u001b[0m \u001b[1;33m=\u001b[0m \u001b[0ms\u001b[0m\u001b[1;33m\u001b[0m\u001b[1;33m\u001b[0m\u001b[0m\n\u001b[0;32m     89\u001b[0m             \u001b[1;32mreturn\u001b[0m \u001b[0ms\u001b[0m\u001b[1;33m\u001b[0m\u001b[1;33m\u001b[0m\u001b[0m\n",
      "\u001b[1;32m<ipython-input-48-16e1726bf2dc>\u001b[0m in \u001b[0;36mgetCell\u001b[1;34m(i, n1i, n2i, n3i, w1i, w2i, w3i)\u001b[0m\n\u001b[0;32m     85\u001b[0m             \u001b[0ms\u001b[0m \u001b[1;33m+=\u001b[0m \u001b[0mgetCell\u001b[0m\u001b[1;33m(\u001b[0m\u001b[0mi\u001b[0m\u001b[1;33m+\u001b[0m\u001b[1;36m1\u001b[0m\u001b[1;33m,\u001b[0m \u001b[0mn1i\u001b[0m\u001b[1;33m,\u001b[0m \u001b[0mn2i\u001b[0m \u001b[1;33m-\u001b[0m \u001b[1;36m1\u001b[0m\u001b[1;33m,\u001b[0m \u001b[0mn3i\u001b[0m\u001b[1;33m,\u001b[0m \u001b[0mw1i\u001b[0m\u001b[1;33m,\u001b[0m \u001b[0mw2i\u001b[0m \u001b[1;33m-\u001b[0m \u001b[0mint\u001b[0m\u001b[1;33m(\u001b[0m\u001b[0mw\u001b[0m\u001b[1;33m[\u001b[0m\u001b[0mi\u001b[0m\u001b[1;33m]\u001b[0m\u001b[1;33m)\u001b[0m\u001b[1;33m,\u001b[0m \u001b[0mw3i\u001b[0m\u001b[1;33m)\u001b[0m\u001b[1;33m\u001b[0m\u001b[1;33m\u001b[0m\u001b[0m\n\u001b[0;32m     86\u001b[0m             \u001b[0ms\u001b[0m \u001b[1;33m+=\u001b[0m \u001b[0mgetCell\u001b[0m\u001b[1;33m(\u001b[0m\u001b[0mi\u001b[0m\u001b[1;33m+\u001b[0m\u001b[1;36m1\u001b[0m\u001b[1;33m,\u001b[0m \u001b[0mn1i\u001b[0m\u001b[1;33m,\u001b[0m \u001b[0mn2i\u001b[0m\u001b[1;33m,\u001b[0m \u001b[0mn3i\u001b[0m \u001b[1;33m-\u001b[0m \u001b[1;36m1\u001b[0m\u001b[1;33m,\u001b[0m \u001b[0mw1i\u001b[0m\u001b[1;33m,\u001b[0m \u001b[0mw2i\u001b[0m\u001b[1;33m,\u001b[0m \u001b[0mw3i\u001b[0m \u001b[1;33m-\u001b[0m \u001b[0mint\u001b[0m\u001b[1;33m(\u001b[0m\u001b[0mw\u001b[0m\u001b[1;33m[\u001b[0m\u001b[0mi\u001b[0m\u001b[1;33m]\u001b[0m\u001b[1;33m)\u001b[0m\u001b[1;33m)\u001b[0m\u001b[1;33m\u001b[0m\u001b[1;33m\u001b[0m\u001b[0m\n\u001b[1;32m---> 87\u001b[1;33m             \u001b[0ms\u001b[0m \u001b[1;33m+=\u001b[0m \u001b[0mgetCell\u001b[0m\u001b[1;33m(\u001b[0m\u001b[0mi\u001b[0m\u001b[1;33m+\u001b[0m\u001b[1;36m1\u001b[0m\u001b[1;33m,\u001b[0m \u001b[0mn1i\u001b[0m\u001b[1;33m,\u001b[0m \u001b[0mn2i\u001b[0m\u001b[1;33m,\u001b[0m \u001b[0mn3i\u001b[0m\u001b[1;33m,\u001b[0m \u001b[0mw1i\u001b[0m\u001b[1;33m,\u001b[0m \u001b[0mw2i\u001b[0m\u001b[1;33m,\u001b[0m \u001b[0mw3i\u001b[0m\u001b[1;33m)\u001b[0m\u001b[1;33m\u001b[0m\u001b[1;33m\u001b[0m\u001b[0m\n\u001b[0m\u001b[0;32m     88\u001b[0m             \u001b[0marr_res\u001b[0m\u001b[1;33m[\u001b[0m\u001b[0mi\u001b[0m\u001b[1;33m,\u001b[0m \u001b[0mn1i\u001b[0m\u001b[1;33m,\u001b[0m \u001b[0mn2i\u001b[0m\u001b[1;33m,\u001b[0m \u001b[0mn3i\u001b[0m\u001b[1;33m,\u001b[0m \u001b[0mw1i\u001b[0m\u001b[1;33m,\u001b[0m \u001b[0mw2i\u001b[0m\u001b[1;33m,\u001b[0m \u001b[0mw3i\u001b[0m\u001b[1;33m]\u001b[0m \u001b[1;33m=\u001b[0m \u001b[0ms\u001b[0m\u001b[1;33m\u001b[0m\u001b[1;33m\u001b[0m\u001b[0m\n\u001b[0;32m     89\u001b[0m             \u001b[1;32mreturn\u001b[0m \u001b[0ms\u001b[0m\u001b[1;33m\u001b[0m\u001b[1;33m\u001b[0m\u001b[0m\n",
      "\u001b[1;32m<ipython-input-48-16e1726bf2dc>\u001b[0m in \u001b[0;36mgetCell\u001b[1;34m(i, n1i, n2i, n3i, w1i, w2i, w3i)\u001b[0m\n\u001b[0;32m     85\u001b[0m             \u001b[0ms\u001b[0m \u001b[1;33m+=\u001b[0m \u001b[0mgetCell\u001b[0m\u001b[1;33m(\u001b[0m\u001b[0mi\u001b[0m\u001b[1;33m+\u001b[0m\u001b[1;36m1\u001b[0m\u001b[1;33m,\u001b[0m \u001b[0mn1i\u001b[0m\u001b[1;33m,\u001b[0m \u001b[0mn2i\u001b[0m \u001b[1;33m-\u001b[0m \u001b[1;36m1\u001b[0m\u001b[1;33m,\u001b[0m \u001b[0mn3i\u001b[0m\u001b[1;33m,\u001b[0m \u001b[0mw1i\u001b[0m\u001b[1;33m,\u001b[0m \u001b[0mw2i\u001b[0m \u001b[1;33m-\u001b[0m \u001b[0mint\u001b[0m\u001b[1;33m(\u001b[0m\u001b[0mw\u001b[0m\u001b[1;33m[\u001b[0m\u001b[0mi\u001b[0m\u001b[1;33m]\u001b[0m\u001b[1;33m)\u001b[0m\u001b[1;33m,\u001b[0m \u001b[0mw3i\u001b[0m\u001b[1;33m)\u001b[0m\u001b[1;33m\u001b[0m\u001b[1;33m\u001b[0m\u001b[0m\n\u001b[0;32m     86\u001b[0m             \u001b[0ms\u001b[0m \u001b[1;33m+=\u001b[0m \u001b[0mgetCell\u001b[0m\u001b[1;33m(\u001b[0m\u001b[0mi\u001b[0m\u001b[1;33m+\u001b[0m\u001b[1;36m1\u001b[0m\u001b[1;33m,\u001b[0m \u001b[0mn1i\u001b[0m\u001b[1;33m,\u001b[0m \u001b[0mn2i\u001b[0m\u001b[1;33m,\u001b[0m \u001b[0mn3i\u001b[0m \u001b[1;33m-\u001b[0m \u001b[1;36m1\u001b[0m\u001b[1;33m,\u001b[0m \u001b[0mw1i\u001b[0m\u001b[1;33m,\u001b[0m \u001b[0mw2i\u001b[0m\u001b[1;33m,\u001b[0m \u001b[0mw3i\u001b[0m \u001b[1;33m-\u001b[0m \u001b[0mint\u001b[0m\u001b[1;33m(\u001b[0m\u001b[0mw\u001b[0m\u001b[1;33m[\u001b[0m\u001b[0mi\u001b[0m\u001b[1;33m]\u001b[0m\u001b[1;33m)\u001b[0m\u001b[1;33m)\u001b[0m\u001b[1;33m\u001b[0m\u001b[1;33m\u001b[0m\u001b[0m\n\u001b[1;32m---> 87\u001b[1;33m             \u001b[0ms\u001b[0m \u001b[1;33m+=\u001b[0m \u001b[0mgetCell\u001b[0m\u001b[1;33m(\u001b[0m\u001b[0mi\u001b[0m\u001b[1;33m+\u001b[0m\u001b[1;36m1\u001b[0m\u001b[1;33m,\u001b[0m \u001b[0mn1i\u001b[0m\u001b[1;33m,\u001b[0m \u001b[0mn2i\u001b[0m\u001b[1;33m,\u001b[0m \u001b[0mn3i\u001b[0m\u001b[1;33m,\u001b[0m \u001b[0mw1i\u001b[0m\u001b[1;33m,\u001b[0m \u001b[0mw2i\u001b[0m\u001b[1;33m,\u001b[0m \u001b[0mw3i\u001b[0m\u001b[1;33m)\u001b[0m\u001b[1;33m\u001b[0m\u001b[1;33m\u001b[0m\u001b[0m\n\u001b[0m\u001b[0;32m     88\u001b[0m             \u001b[0marr_res\u001b[0m\u001b[1;33m[\u001b[0m\u001b[0mi\u001b[0m\u001b[1;33m,\u001b[0m \u001b[0mn1i\u001b[0m\u001b[1;33m,\u001b[0m \u001b[0mn2i\u001b[0m\u001b[1;33m,\u001b[0m \u001b[0mn3i\u001b[0m\u001b[1;33m,\u001b[0m \u001b[0mw1i\u001b[0m\u001b[1;33m,\u001b[0m \u001b[0mw2i\u001b[0m\u001b[1;33m,\u001b[0m \u001b[0mw3i\u001b[0m\u001b[1;33m]\u001b[0m \u001b[1;33m=\u001b[0m \u001b[0ms\u001b[0m\u001b[1;33m\u001b[0m\u001b[1;33m\u001b[0m\u001b[0m\n\u001b[0;32m     89\u001b[0m             \u001b[1;32mreturn\u001b[0m \u001b[0ms\u001b[0m\u001b[1;33m\u001b[0m\u001b[1;33m\u001b[0m\u001b[0m\n",
      "\u001b[1;32m<ipython-input-48-16e1726bf2dc>\u001b[0m in \u001b[0;36mgetCell\u001b[1;34m(i, n1i, n2i, n3i, w1i, w2i, w3i)\u001b[0m\n\u001b[0;32m     85\u001b[0m             \u001b[0ms\u001b[0m \u001b[1;33m+=\u001b[0m \u001b[0mgetCell\u001b[0m\u001b[1;33m(\u001b[0m\u001b[0mi\u001b[0m\u001b[1;33m+\u001b[0m\u001b[1;36m1\u001b[0m\u001b[1;33m,\u001b[0m \u001b[0mn1i\u001b[0m\u001b[1;33m,\u001b[0m \u001b[0mn2i\u001b[0m \u001b[1;33m-\u001b[0m \u001b[1;36m1\u001b[0m\u001b[1;33m,\u001b[0m \u001b[0mn3i\u001b[0m\u001b[1;33m,\u001b[0m \u001b[0mw1i\u001b[0m\u001b[1;33m,\u001b[0m \u001b[0mw2i\u001b[0m \u001b[1;33m-\u001b[0m \u001b[0mint\u001b[0m\u001b[1;33m(\u001b[0m\u001b[0mw\u001b[0m\u001b[1;33m[\u001b[0m\u001b[0mi\u001b[0m\u001b[1;33m]\u001b[0m\u001b[1;33m)\u001b[0m\u001b[1;33m,\u001b[0m \u001b[0mw3i\u001b[0m\u001b[1;33m)\u001b[0m\u001b[1;33m\u001b[0m\u001b[1;33m\u001b[0m\u001b[0m\n\u001b[0;32m     86\u001b[0m             \u001b[0ms\u001b[0m \u001b[1;33m+=\u001b[0m \u001b[0mgetCell\u001b[0m\u001b[1;33m(\u001b[0m\u001b[0mi\u001b[0m\u001b[1;33m+\u001b[0m\u001b[1;36m1\u001b[0m\u001b[1;33m,\u001b[0m \u001b[0mn1i\u001b[0m\u001b[1;33m,\u001b[0m \u001b[0mn2i\u001b[0m\u001b[1;33m,\u001b[0m \u001b[0mn3i\u001b[0m \u001b[1;33m-\u001b[0m \u001b[1;36m1\u001b[0m\u001b[1;33m,\u001b[0m \u001b[0mw1i\u001b[0m\u001b[1;33m,\u001b[0m \u001b[0mw2i\u001b[0m\u001b[1;33m,\u001b[0m \u001b[0mw3i\u001b[0m \u001b[1;33m-\u001b[0m \u001b[0mint\u001b[0m\u001b[1;33m(\u001b[0m\u001b[0mw\u001b[0m\u001b[1;33m[\u001b[0m\u001b[0mi\u001b[0m\u001b[1;33m]\u001b[0m\u001b[1;33m)\u001b[0m\u001b[1;33m)\u001b[0m\u001b[1;33m\u001b[0m\u001b[1;33m\u001b[0m\u001b[0m\n\u001b[1;32m---> 87\u001b[1;33m             \u001b[0ms\u001b[0m \u001b[1;33m+=\u001b[0m \u001b[0mgetCell\u001b[0m\u001b[1;33m(\u001b[0m\u001b[0mi\u001b[0m\u001b[1;33m+\u001b[0m\u001b[1;36m1\u001b[0m\u001b[1;33m,\u001b[0m \u001b[0mn1i\u001b[0m\u001b[1;33m,\u001b[0m \u001b[0mn2i\u001b[0m\u001b[1;33m,\u001b[0m \u001b[0mn3i\u001b[0m\u001b[1;33m,\u001b[0m \u001b[0mw1i\u001b[0m\u001b[1;33m,\u001b[0m \u001b[0mw2i\u001b[0m\u001b[1;33m,\u001b[0m \u001b[0mw3i\u001b[0m\u001b[1;33m)\u001b[0m\u001b[1;33m\u001b[0m\u001b[1;33m\u001b[0m\u001b[0m\n\u001b[0m\u001b[0;32m     88\u001b[0m             \u001b[0marr_res\u001b[0m\u001b[1;33m[\u001b[0m\u001b[0mi\u001b[0m\u001b[1;33m,\u001b[0m \u001b[0mn1i\u001b[0m\u001b[1;33m,\u001b[0m \u001b[0mn2i\u001b[0m\u001b[1;33m,\u001b[0m \u001b[0mn3i\u001b[0m\u001b[1;33m,\u001b[0m \u001b[0mw1i\u001b[0m\u001b[1;33m,\u001b[0m \u001b[0mw2i\u001b[0m\u001b[1;33m,\u001b[0m \u001b[0mw3i\u001b[0m\u001b[1;33m]\u001b[0m \u001b[1;33m=\u001b[0m \u001b[0ms\u001b[0m\u001b[1;33m\u001b[0m\u001b[1;33m\u001b[0m\u001b[0m\n\u001b[0;32m     89\u001b[0m             \u001b[1;32mreturn\u001b[0m \u001b[0ms\u001b[0m\u001b[1;33m\u001b[0m\u001b[1;33m\u001b[0m\u001b[0m\n",
      "\u001b[1;32m<ipython-input-48-16e1726bf2dc>\u001b[0m in \u001b[0;36mgetCell\u001b[1;34m(i, n1i, n2i, n3i, w1i, w2i, w3i)\u001b[0m\n\u001b[0;32m     85\u001b[0m             \u001b[0ms\u001b[0m \u001b[1;33m+=\u001b[0m \u001b[0mgetCell\u001b[0m\u001b[1;33m(\u001b[0m\u001b[0mi\u001b[0m\u001b[1;33m+\u001b[0m\u001b[1;36m1\u001b[0m\u001b[1;33m,\u001b[0m \u001b[0mn1i\u001b[0m\u001b[1;33m,\u001b[0m \u001b[0mn2i\u001b[0m \u001b[1;33m-\u001b[0m \u001b[1;36m1\u001b[0m\u001b[1;33m,\u001b[0m \u001b[0mn3i\u001b[0m\u001b[1;33m,\u001b[0m \u001b[0mw1i\u001b[0m\u001b[1;33m,\u001b[0m \u001b[0mw2i\u001b[0m \u001b[1;33m-\u001b[0m \u001b[0mint\u001b[0m\u001b[1;33m(\u001b[0m\u001b[0mw\u001b[0m\u001b[1;33m[\u001b[0m\u001b[0mi\u001b[0m\u001b[1;33m]\u001b[0m\u001b[1;33m)\u001b[0m\u001b[1;33m,\u001b[0m \u001b[0mw3i\u001b[0m\u001b[1;33m)\u001b[0m\u001b[1;33m\u001b[0m\u001b[1;33m\u001b[0m\u001b[0m\n\u001b[0;32m     86\u001b[0m             \u001b[0ms\u001b[0m \u001b[1;33m+=\u001b[0m \u001b[0mgetCell\u001b[0m\u001b[1;33m(\u001b[0m\u001b[0mi\u001b[0m\u001b[1;33m+\u001b[0m\u001b[1;36m1\u001b[0m\u001b[1;33m,\u001b[0m \u001b[0mn1i\u001b[0m\u001b[1;33m,\u001b[0m \u001b[0mn2i\u001b[0m\u001b[1;33m,\u001b[0m \u001b[0mn3i\u001b[0m \u001b[1;33m-\u001b[0m \u001b[1;36m1\u001b[0m\u001b[1;33m,\u001b[0m \u001b[0mw1i\u001b[0m\u001b[1;33m,\u001b[0m \u001b[0mw2i\u001b[0m\u001b[1;33m,\u001b[0m \u001b[0mw3i\u001b[0m \u001b[1;33m-\u001b[0m \u001b[0mint\u001b[0m\u001b[1;33m(\u001b[0m\u001b[0mw\u001b[0m\u001b[1;33m[\u001b[0m\u001b[0mi\u001b[0m\u001b[1;33m]\u001b[0m\u001b[1;33m)\u001b[0m\u001b[1;33m)\u001b[0m\u001b[1;33m\u001b[0m\u001b[1;33m\u001b[0m\u001b[0m\n\u001b[1;32m---> 87\u001b[1;33m             \u001b[0ms\u001b[0m \u001b[1;33m+=\u001b[0m \u001b[0mgetCell\u001b[0m\u001b[1;33m(\u001b[0m\u001b[0mi\u001b[0m\u001b[1;33m+\u001b[0m\u001b[1;36m1\u001b[0m\u001b[1;33m,\u001b[0m \u001b[0mn1i\u001b[0m\u001b[1;33m,\u001b[0m \u001b[0mn2i\u001b[0m\u001b[1;33m,\u001b[0m \u001b[0mn3i\u001b[0m\u001b[1;33m,\u001b[0m \u001b[0mw1i\u001b[0m\u001b[1;33m,\u001b[0m \u001b[0mw2i\u001b[0m\u001b[1;33m,\u001b[0m \u001b[0mw3i\u001b[0m\u001b[1;33m)\u001b[0m\u001b[1;33m\u001b[0m\u001b[1;33m\u001b[0m\u001b[0m\n\u001b[0m\u001b[0;32m     88\u001b[0m             \u001b[0marr_res\u001b[0m\u001b[1;33m[\u001b[0m\u001b[0mi\u001b[0m\u001b[1;33m,\u001b[0m \u001b[0mn1i\u001b[0m\u001b[1;33m,\u001b[0m \u001b[0mn2i\u001b[0m\u001b[1;33m,\u001b[0m \u001b[0mn3i\u001b[0m\u001b[1;33m,\u001b[0m \u001b[0mw1i\u001b[0m\u001b[1;33m,\u001b[0m \u001b[0mw2i\u001b[0m\u001b[1;33m,\u001b[0m \u001b[0mw3i\u001b[0m\u001b[1;33m]\u001b[0m \u001b[1;33m=\u001b[0m \u001b[0ms\u001b[0m\u001b[1;33m\u001b[0m\u001b[1;33m\u001b[0m\u001b[0m\n\u001b[0;32m     89\u001b[0m             \u001b[1;32mreturn\u001b[0m \u001b[0ms\u001b[0m\u001b[1;33m\u001b[0m\u001b[1;33m\u001b[0m\u001b[0m\n",
      "\u001b[1;32m<ipython-input-48-16e1726bf2dc>\u001b[0m in \u001b[0;36mgetCell\u001b[1;34m(i, n1i, n2i, n3i, w1i, w2i, w3i)\u001b[0m\n\u001b[0;32m     85\u001b[0m             \u001b[0ms\u001b[0m \u001b[1;33m+=\u001b[0m \u001b[0mgetCell\u001b[0m\u001b[1;33m(\u001b[0m\u001b[0mi\u001b[0m\u001b[1;33m+\u001b[0m\u001b[1;36m1\u001b[0m\u001b[1;33m,\u001b[0m \u001b[0mn1i\u001b[0m\u001b[1;33m,\u001b[0m \u001b[0mn2i\u001b[0m \u001b[1;33m-\u001b[0m \u001b[1;36m1\u001b[0m\u001b[1;33m,\u001b[0m \u001b[0mn3i\u001b[0m\u001b[1;33m,\u001b[0m \u001b[0mw1i\u001b[0m\u001b[1;33m,\u001b[0m \u001b[0mw2i\u001b[0m \u001b[1;33m-\u001b[0m \u001b[0mint\u001b[0m\u001b[1;33m(\u001b[0m\u001b[0mw\u001b[0m\u001b[1;33m[\u001b[0m\u001b[0mi\u001b[0m\u001b[1;33m]\u001b[0m\u001b[1;33m)\u001b[0m\u001b[1;33m,\u001b[0m \u001b[0mw3i\u001b[0m\u001b[1;33m)\u001b[0m\u001b[1;33m\u001b[0m\u001b[1;33m\u001b[0m\u001b[0m\n\u001b[0;32m     86\u001b[0m             \u001b[0ms\u001b[0m \u001b[1;33m+=\u001b[0m \u001b[0mgetCell\u001b[0m\u001b[1;33m(\u001b[0m\u001b[0mi\u001b[0m\u001b[1;33m+\u001b[0m\u001b[1;36m1\u001b[0m\u001b[1;33m,\u001b[0m \u001b[0mn1i\u001b[0m\u001b[1;33m,\u001b[0m \u001b[0mn2i\u001b[0m\u001b[1;33m,\u001b[0m \u001b[0mn3i\u001b[0m \u001b[1;33m-\u001b[0m \u001b[1;36m1\u001b[0m\u001b[1;33m,\u001b[0m \u001b[0mw1i\u001b[0m\u001b[1;33m,\u001b[0m \u001b[0mw2i\u001b[0m\u001b[1;33m,\u001b[0m \u001b[0mw3i\u001b[0m \u001b[1;33m-\u001b[0m \u001b[0mint\u001b[0m\u001b[1;33m(\u001b[0m\u001b[0mw\u001b[0m\u001b[1;33m[\u001b[0m\u001b[0mi\u001b[0m\u001b[1;33m]\u001b[0m\u001b[1;33m)\u001b[0m\u001b[1;33m)\u001b[0m\u001b[1;33m\u001b[0m\u001b[1;33m\u001b[0m\u001b[0m\n\u001b[1;32m---> 87\u001b[1;33m             \u001b[0ms\u001b[0m \u001b[1;33m+=\u001b[0m \u001b[0mgetCell\u001b[0m\u001b[1;33m(\u001b[0m\u001b[0mi\u001b[0m\u001b[1;33m+\u001b[0m\u001b[1;36m1\u001b[0m\u001b[1;33m,\u001b[0m \u001b[0mn1i\u001b[0m\u001b[1;33m,\u001b[0m \u001b[0mn2i\u001b[0m\u001b[1;33m,\u001b[0m \u001b[0mn3i\u001b[0m\u001b[1;33m,\u001b[0m \u001b[0mw1i\u001b[0m\u001b[1;33m,\u001b[0m \u001b[0mw2i\u001b[0m\u001b[1;33m,\u001b[0m \u001b[0mw3i\u001b[0m\u001b[1;33m)\u001b[0m\u001b[1;33m\u001b[0m\u001b[1;33m\u001b[0m\u001b[0m\n\u001b[0m\u001b[0;32m     88\u001b[0m             \u001b[0marr_res\u001b[0m\u001b[1;33m[\u001b[0m\u001b[0mi\u001b[0m\u001b[1;33m,\u001b[0m \u001b[0mn1i\u001b[0m\u001b[1;33m,\u001b[0m \u001b[0mn2i\u001b[0m\u001b[1;33m,\u001b[0m \u001b[0mn3i\u001b[0m\u001b[1;33m,\u001b[0m \u001b[0mw1i\u001b[0m\u001b[1;33m,\u001b[0m \u001b[0mw2i\u001b[0m\u001b[1;33m,\u001b[0m \u001b[0mw3i\u001b[0m\u001b[1;33m]\u001b[0m \u001b[1;33m=\u001b[0m \u001b[0ms\u001b[0m\u001b[1;33m\u001b[0m\u001b[1;33m\u001b[0m\u001b[0m\n\u001b[0;32m     89\u001b[0m             \u001b[1;32mreturn\u001b[0m \u001b[0ms\u001b[0m\u001b[1;33m\u001b[0m\u001b[1;33m\u001b[0m\u001b[0m\n",
      "\u001b[1;32m<ipython-input-48-16e1726bf2dc>\u001b[0m in \u001b[0;36mgetCell\u001b[1;34m(i, n1i, n2i, n3i, w1i, w2i, w3i)\u001b[0m\n\u001b[0;32m     85\u001b[0m             \u001b[0ms\u001b[0m \u001b[1;33m+=\u001b[0m \u001b[0mgetCell\u001b[0m\u001b[1;33m(\u001b[0m\u001b[0mi\u001b[0m\u001b[1;33m+\u001b[0m\u001b[1;36m1\u001b[0m\u001b[1;33m,\u001b[0m \u001b[0mn1i\u001b[0m\u001b[1;33m,\u001b[0m \u001b[0mn2i\u001b[0m \u001b[1;33m-\u001b[0m \u001b[1;36m1\u001b[0m\u001b[1;33m,\u001b[0m \u001b[0mn3i\u001b[0m\u001b[1;33m,\u001b[0m \u001b[0mw1i\u001b[0m\u001b[1;33m,\u001b[0m \u001b[0mw2i\u001b[0m \u001b[1;33m-\u001b[0m \u001b[0mint\u001b[0m\u001b[1;33m(\u001b[0m\u001b[0mw\u001b[0m\u001b[1;33m[\u001b[0m\u001b[0mi\u001b[0m\u001b[1;33m]\u001b[0m\u001b[1;33m)\u001b[0m\u001b[1;33m,\u001b[0m \u001b[0mw3i\u001b[0m\u001b[1;33m)\u001b[0m\u001b[1;33m\u001b[0m\u001b[1;33m\u001b[0m\u001b[0m\n\u001b[0;32m     86\u001b[0m             \u001b[0ms\u001b[0m \u001b[1;33m+=\u001b[0m \u001b[0mgetCell\u001b[0m\u001b[1;33m(\u001b[0m\u001b[0mi\u001b[0m\u001b[1;33m+\u001b[0m\u001b[1;36m1\u001b[0m\u001b[1;33m,\u001b[0m \u001b[0mn1i\u001b[0m\u001b[1;33m,\u001b[0m \u001b[0mn2i\u001b[0m\u001b[1;33m,\u001b[0m \u001b[0mn3i\u001b[0m \u001b[1;33m-\u001b[0m \u001b[1;36m1\u001b[0m\u001b[1;33m,\u001b[0m \u001b[0mw1i\u001b[0m\u001b[1;33m,\u001b[0m \u001b[0mw2i\u001b[0m\u001b[1;33m,\u001b[0m \u001b[0mw3i\u001b[0m \u001b[1;33m-\u001b[0m \u001b[0mint\u001b[0m\u001b[1;33m(\u001b[0m\u001b[0mw\u001b[0m\u001b[1;33m[\u001b[0m\u001b[0mi\u001b[0m\u001b[1;33m]\u001b[0m\u001b[1;33m)\u001b[0m\u001b[1;33m)\u001b[0m\u001b[1;33m\u001b[0m\u001b[1;33m\u001b[0m\u001b[0m\n\u001b[1;32m---> 87\u001b[1;33m             \u001b[0ms\u001b[0m \u001b[1;33m+=\u001b[0m \u001b[0mgetCell\u001b[0m\u001b[1;33m(\u001b[0m\u001b[0mi\u001b[0m\u001b[1;33m+\u001b[0m\u001b[1;36m1\u001b[0m\u001b[1;33m,\u001b[0m \u001b[0mn1i\u001b[0m\u001b[1;33m,\u001b[0m \u001b[0mn2i\u001b[0m\u001b[1;33m,\u001b[0m \u001b[0mn3i\u001b[0m\u001b[1;33m,\u001b[0m \u001b[0mw1i\u001b[0m\u001b[1;33m,\u001b[0m \u001b[0mw2i\u001b[0m\u001b[1;33m,\u001b[0m \u001b[0mw3i\u001b[0m\u001b[1;33m)\u001b[0m\u001b[1;33m\u001b[0m\u001b[1;33m\u001b[0m\u001b[0m\n\u001b[0m\u001b[0;32m     88\u001b[0m             \u001b[0marr_res\u001b[0m\u001b[1;33m[\u001b[0m\u001b[0mi\u001b[0m\u001b[1;33m,\u001b[0m \u001b[0mn1i\u001b[0m\u001b[1;33m,\u001b[0m \u001b[0mn2i\u001b[0m\u001b[1;33m,\u001b[0m \u001b[0mn3i\u001b[0m\u001b[1;33m,\u001b[0m \u001b[0mw1i\u001b[0m\u001b[1;33m,\u001b[0m \u001b[0mw2i\u001b[0m\u001b[1;33m,\u001b[0m \u001b[0mw3i\u001b[0m\u001b[1;33m]\u001b[0m \u001b[1;33m=\u001b[0m \u001b[0ms\u001b[0m\u001b[1;33m\u001b[0m\u001b[1;33m\u001b[0m\u001b[0m\n\u001b[0;32m     89\u001b[0m             \u001b[1;32mreturn\u001b[0m \u001b[0ms\u001b[0m\u001b[1;33m\u001b[0m\u001b[1;33m\u001b[0m\u001b[0m\n",
      "\u001b[1;32m<ipython-input-48-16e1726bf2dc>\u001b[0m in \u001b[0;36mgetCell\u001b[1;34m(i, n1i, n2i, n3i, w1i, w2i, w3i)\u001b[0m\n\u001b[0;32m     84\u001b[0m             \u001b[0ms\u001b[0m \u001b[1;33m+=\u001b[0m \u001b[0mgetCell\u001b[0m\u001b[1;33m(\u001b[0m\u001b[0mi\u001b[0m\u001b[1;33m+\u001b[0m\u001b[1;36m1\u001b[0m\u001b[1;33m,\u001b[0m \u001b[0mn1i\u001b[0m \u001b[1;33m-\u001b[0m \u001b[1;36m1\u001b[0m\u001b[1;33m,\u001b[0m \u001b[0mn2i\u001b[0m\u001b[1;33m,\u001b[0m \u001b[0mn3i\u001b[0m\u001b[1;33m,\u001b[0m \u001b[0mw1i\u001b[0m \u001b[1;33m-\u001b[0m \u001b[0mint\u001b[0m\u001b[1;33m(\u001b[0m\u001b[0mw\u001b[0m\u001b[1;33m[\u001b[0m\u001b[0mi\u001b[0m\u001b[1;33m]\u001b[0m\u001b[1;33m)\u001b[0m\u001b[1;33m,\u001b[0m \u001b[0mw2i\u001b[0m\u001b[1;33m,\u001b[0m \u001b[0mw3i\u001b[0m\u001b[1;33m)\u001b[0m\u001b[1;33m\u001b[0m\u001b[1;33m\u001b[0m\u001b[0m\n\u001b[0;32m     85\u001b[0m             \u001b[0ms\u001b[0m \u001b[1;33m+=\u001b[0m \u001b[0mgetCell\u001b[0m\u001b[1;33m(\u001b[0m\u001b[0mi\u001b[0m\u001b[1;33m+\u001b[0m\u001b[1;36m1\u001b[0m\u001b[1;33m,\u001b[0m \u001b[0mn1i\u001b[0m\u001b[1;33m,\u001b[0m \u001b[0mn2i\u001b[0m \u001b[1;33m-\u001b[0m \u001b[1;36m1\u001b[0m\u001b[1;33m,\u001b[0m \u001b[0mn3i\u001b[0m\u001b[1;33m,\u001b[0m \u001b[0mw1i\u001b[0m\u001b[1;33m,\u001b[0m \u001b[0mw2i\u001b[0m \u001b[1;33m-\u001b[0m \u001b[0mint\u001b[0m\u001b[1;33m(\u001b[0m\u001b[0mw\u001b[0m\u001b[1;33m[\u001b[0m\u001b[0mi\u001b[0m\u001b[1;33m]\u001b[0m\u001b[1;33m)\u001b[0m\u001b[1;33m,\u001b[0m \u001b[0mw3i\u001b[0m\u001b[1;33m)\u001b[0m\u001b[1;33m\u001b[0m\u001b[1;33m\u001b[0m\u001b[0m\n\u001b[1;32m---> 86\u001b[1;33m             \u001b[0ms\u001b[0m \u001b[1;33m+=\u001b[0m \u001b[0mgetCell\u001b[0m\u001b[1;33m(\u001b[0m\u001b[0mi\u001b[0m\u001b[1;33m+\u001b[0m\u001b[1;36m1\u001b[0m\u001b[1;33m,\u001b[0m \u001b[0mn1i\u001b[0m\u001b[1;33m,\u001b[0m \u001b[0mn2i\u001b[0m\u001b[1;33m,\u001b[0m \u001b[0mn3i\u001b[0m \u001b[1;33m-\u001b[0m \u001b[1;36m1\u001b[0m\u001b[1;33m,\u001b[0m \u001b[0mw1i\u001b[0m\u001b[1;33m,\u001b[0m \u001b[0mw2i\u001b[0m\u001b[1;33m,\u001b[0m \u001b[0mw3i\u001b[0m \u001b[1;33m-\u001b[0m \u001b[0mint\u001b[0m\u001b[1;33m(\u001b[0m\u001b[0mw\u001b[0m\u001b[1;33m[\u001b[0m\u001b[0mi\u001b[0m\u001b[1;33m]\u001b[0m\u001b[1;33m)\u001b[0m\u001b[1;33m)\u001b[0m\u001b[1;33m\u001b[0m\u001b[1;33m\u001b[0m\u001b[0m\n\u001b[0m\u001b[0;32m     87\u001b[0m             \u001b[0ms\u001b[0m \u001b[1;33m+=\u001b[0m \u001b[0mgetCell\u001b[0m\u001b[1;33m(\u001b[0m\u001b[0mi\u001b[0m\u001b[1;33m+\u001b[0m\u001b[1;36m1\u001b[0m\u001b[1;33m,\u001b[0m \u001b[0mn1i\u001b[0m\u001b[1;33m,\u001b[0m \u001b[0mn2i\u001b[0m\u001b[1;33m,\u001b[0m \u001b[0mn3i\u001b[0m\u001b[1;33m,\u001b[0m \u001b[0mw1i\u001b[0m\u001b[1;33m,\u001b[0m \u001b[0mw2i\u001b[0m\u001b[1;33m,\u001b[0m \u001b[0mw3i\u001b[0m\u001b[1;33m)\u001b[0m\u001b[1;33m\u001b[0m\u001b[1;33m\u001b[0m\u001b[0m\n\u001b[0;32m     88\u001b[0m             \u001b[0marr_res\u001b[0m\u001b[1;33m[\u001b[0m\u001b[0mi\u001b[0m\u001b[1;33m,\u001b[0m \u001b[0mn1i\u001b[0m\u001b[1;33m,\u001b[0m \u001b[0mn2i\u001b[0m\u001b[1;33m,\u001b[0m \u001b[0mn3i\u001b[0m\u001b[1;33m,\u001b[0m \u001b[0mw1i\u001b[0m\u001b[1;33m,\u001b[0m \u001b[0mw2i\u001b[0m\u001b[1;33m,\u001b[0m \u001b[0mw3i\u001b[0m\u001b[1;33m]\u001b[0m \u001b[1;33m=\u001b[0m \u001b[0ms\u001b[0m\u001b[1;33m\u001b[0m\u001b[1;33m\u001b[0m\u001b[0m\n",
      "\u001b[1;32m<ipython-input-48-16e1726bf2dc>\u001b[0m in \u001b[0;36mgetCell\u001b[1;34m(i, n1i, n2i, n3i, w1i, w2i, w3i)\u001b[0m\n\u001b[0;32m     78\u001b[0m         \u001b[1;32mif\u001b[0m \u001b[0mi\u001b[0m \u001b[1;33m==\u001b[0m \u001b[0mn\u001b[0m\u001b[1;33m:\u001b[0m\u001b[1;33m\u001b[0m\u001b[1;33m\u001b[0m\u001b[0m\n\u001b[0;32m     79\u001b[0m             \u001b[1;32mreturn\u001b[0m \u001b[1;36m0\u001b[0m\u001b[1;33m\u001b[0m\u001b[1;33m\u001b[0m\u001b[0m\n\u001b[1;32m---> 80\u001b[1;33m         \u001b[1;32mif\u001b[0m \u001b[0marr_res\u001b[0m\u001b[1;33m[\u001b[0m\u001b[0mi\u001b[0m\u001b[1;33m,\u001b[0m \u001b[0mn1i\u001b[0m\u001b[1;33m,\u001b[0m \u001b[0mn2i\u001b[0m\u001b[1;33m,\u001b[0m \u001b[0mn3i\u001b[0m\u001b[1;33m,\u001b[0m \u001b[0mw1i\u001b[0m\u001b[1;33m,\u001b[0m \u001b[0mw2i\u001b[0m\u001b[1;33m,\u001b[0m \u001b[0mw3i\u001b[0m\u001b[1;33m]\u001b[0m \u001b[1;33m>=\u001b[0m \u001b[1;36m0\u001b[0m\u001b[1;33m:\u001b[0m\u001b[1;33m\u001b[0m\u001b[1;33m\u001b[0m\u001b[0m\n\u001b[0m\u001b[0;32m     81\u001b[0m             \u001b[1;32mreturn\u001b[0m \u001b[0marr_res\u001b[0m\u001b[1;33m[\u001b[0m\u001b[0mi\u001b[0m\u001b[1;33m,\u001b[0m \u001b[0mn1i\u001b[0m\u001b[1;33m,\u001b[0m \u001b[0mn2i\u001b[0m\u001b[1;33m,\u001b[0m \u001b[0mn3i\u001b[0m\u001b[1;33m,\u001b[0m \u001b[0mw1i\u001b[0m\u001b[1;33m,\u001b[0m \u001b[0mw2i\u001b[0m\u001b[1;33m,\u001b[0m \u001b[0mw3i\u001b[0m\u001b[1;33m]\u001b[0m\u001b[1;33m\u001b[0m\u001b[1;33m\u001b[0m\u001b[0m\n\u001b[0;32m     82\u001b[0m         \u001b[1;32melse\u001b[0m\u001b[1;33m:\u001b[0m\u001b[1;33m\u001b[0m\u001b[1;33m\u001b[0m\u001b[0m\n",
      "\u001b[1;31mKeyboardInterrupt\u001b[0m: "
     ]
    }
   ],
   "source": [
    "getPowersLD([1]*10+[2,2,3], 0.5, 0.5)"
   ]
  },
  {
   "cell_type": "markdown",
   "metadata": {},
   "source": [
    "# Experiments"
   ]
  },
  {
   "cell_type": "markdown",
   "metadata": {},
   "source": [
    "## PV-$\\alpha$"
   ]
  },
  {
   "cell_type": "code",
   "execution_count": 63,
   "metadata": {
    "ExecuteTime": {
     "end_time": "2022-10-18T10:23:58.089942Z",
     "start_time": "2022-10-18T10:23:11.221423Z"
    }
   },
   "outputs": [
    {
     "name": "stderr",
     "output_type": "stream",
     "text": [
      "20it [00:46,  2.34s/it]\n"
     ]
    }
   ],
   "source": [
    "n_voters = 20\n",
    "tab_n = range(1, n_voters+1)\n",
    "len_tab = len(tab_n)\n",
    "tab_res = np.zeros((2, len_tab))\n",
    "\n",
    "for i, n in tqdm(enumerate(tab_n)):\n",
    "    p_v, p_d = getPowersPV_alpha([1]*(n_voters-n), [1]*(n), 0.5)\n",
    "    tab_res[0, i] = p_v[1]\n",
    "    if 1 in p_d:\n",
    "        tab_res[1, i] = p_d[1]"
   ]
  },
  {
   "cell_type": "code",
   "execution_count": 67,
   "metadata": {
    "ExecuteTime": {
     "end_time": "2022-10-18T10:24:36.124311Z",
     "start_time": "2022-10-18T10:24:35.700707Z"
    }
   },
   "outputs": [
    {
     "data": {
      "image/png": "[encoded data removed]",
      "text/plain": [
       "<Figure size 432x288 with 1 Axes>"
      ]
     },
     "metadata": {
      "needs_background": "light"
     },
     "output_type": "display_data"
    }
   ],
   "source": [
    "tab_res\n",
    "plt.plot([n for n in tab_n], tab_res[0], '-o', label = \"Avg Power in V_v\", color=\"g\")\n",
    "plt.plot([n for n in tab_n[:-1]], tab_res[1][:-1], '-o', label = \"Avg Power in V_d\", color=\"b\")\n",
    "plt.legend()\n",
    "plt.xlim(1,n_voters)\n",
    "plt.title(\"%i voters\"%n_voters)\n",
    "plt.xlabel(\"Number of voting voters\")\n",
    "plt.ylim(0,1)\n",
    "plt.ylabel(\"Power\")\n",
    "plt.show()"
   ]
  },
  {
   "cell_type": "markdown",
   "metadata": {},
   "source": [
    "## PV-$\\beta$"
   ]
  },
  {
   "cell_type": "code",
   "execution_count": 74,
   "metadata": {
    "ExecuteTime": {
     "end_time": "2022-10-18T10:33:02.616767Z",
     "start_time": "2022-10-18T10:32:16.210439Z"
    }
   },
   "outputs": [
    {
     "name": "stderr",
     "output_type": "stream",
     "text": [
      "20it [00:46,  2.32s/it]\n"
     ]
    }
   ],
   "source": [
    "n_voters = 20\n",
    "tab_n = range(1, n_voters+1)\n",
    "len_tab = len(tab_n)\n",
    "tab_res = np.zeros((2, len_tab))\n",
    "\n",
    "for i, n in tqdm(enumerate(tab_n)):\n",
    "    p_v, p_d = getPowersPV_beta([1]*(n_voters-n), [1]*(n), 0.5, 0.5)\n",
    "    tab_res[0, i] = p_v[1]\n",
    "    if 1 in p_d:\n",
    "        tab_res[1, i] = p_d[1]"
   ]
  },
  {
   "cell_type": "code",
   "execution_count": 75,
   "metadata": {
    "ExecuteTime": {
     "end_time": "2022-10-18T10:33:53.767828Z",
     "start_time": "2022-10-18T10:33:53.386843Z"
    }
   },
   "outputs": [
    {
     "data": {
      "image/png": "[encoded data removed]",
      "text/plain": [
       "<Figure size 432x288 with 1 Axes>"
      ]
     },
     "metadata": {
      "needs_background": "light"
     },
     "output_type": "display_data"
    }
   ],
   "source": [
    "tab_res\n",
    "plt.plot([n for n in tab_n], tab_res[0], '-o', label = \"Avg Power in V_v\", color=\"g\")\n",
    "plt.plot([n for n in tab_n[:-1]], tab_res[1][:-1], '-o', label = \"Avg Power in V_d\", color=\"b\")\n",
    "plt.legend()\n",
    "plt.xlim(1,n_voters)\n",
    "plt.title(\"%i voters\"%n_voters)\n",
    "plt.xlabel(\"Number of voting voters\")\n",
    "plt.ylim(0,1)\n",
    "plt.ylabel(\"Power\")\n",
    "plt.show()"
   ]
  },
  {
   "cell_type": "code",
   "execution_count": 76,
   "metadata": {
    "ExecuteTime": {
     "end_time": "2022-10-18T10:35:44.745187Z",
     "start_time": "2022-10-18T10:35:08.502247Z"
    }
   },
   "outputs": [
    {
     "name": "stderr",
     "output_type": "stream",
     "text": [
      "11it [00:36,  3.29s/it]\n"
     ]
    }
   ],
   "source": [
    "n_voters = 20\n",
    "tab_n = np.linspace(0,1,11)\n",
    "len_tab = len(tab_n)\n",
    "tab_res = np.zeros((2, len_tab))\n",
    "\n",
    "for i, p_d in tqdm(enumerate(tab_n)):\n",
    "    p_v, p_d = getPowersPV_beta([1]*15, [1]*5, 0.5, p_d)\n",
    "    tab_res[0, i] = p_v[1]\n",
    "    if 1 in p_d:\n",
    "        tab_res[1, i] = p_d[1]"
   ]
  },
  {
   "cell_type": "code",
   "execution_count": 80,
   "metadata": {
    "ExecuteTime": {
     "end_time": "2022-10-18T10:36:07.952837Z",
     "start_time": "2022-10-18T10:36:07.548401Z"
    }
   },
   "outputs": [
    {
     "data": {
      "image/png": "[encoded data removed]",
      "text/plain": [
       "<Figure size 432x288 with 1 Axes>"
      ]
     },
     "metadata": {
      "needs_background": "light"
     },
     "output_type": "display_data"
    }
   ],
   "source": [
    "tab_res\n",
    "plt.plot([n for n in tab_n], tab_res[0], '-o', label = \"Avg Power in V_v\", color=\"g\")\n",
    "plt.plot([n for n in tab_n], tab_res[1], '-o', label = \"Avg Power in V_d\", color=\"b\")\n",
    "plt.legend()\n",
    "plt.xlim(0,1)\n",
    "plt.title(\"20 voters (5 representants)\")\n",
    "plt.xlabel(\"p_d\")\n",
    "plt.ylabel(\"Power\")\n",
    "plt.show()"
   ]
  },
  {
   "cell_type": "markdown",
   "metadata": {},
   "source": [
    "## LD"
   ]
  },
  {
   "cell_type": "code",
   "execution_count": 89,
   "metadata": {
    "ExecuteTime": {
     "end_time": "2022-10-18T10:41:12.596080Z",
     "start_time": "2022-10-18T10:40:05.483963Z"
    }
   },
   "outputs": [
    {
     "name": "stderr",
     "output_type": "stream",
     "text": [
      "11it [01:07,  6.10s/it]\n"
     ]
    }
   ],
   "source": [
    "n_voters = 20\n",
    "tab_n = np.linspace(0,1,11)\n",
    "len_tab = len(tab_n)\n",
    "tab_res = np.zeros(len_tab)\n",
    "\n",
    "for i, p_d in tqdm(enumerate(tab_n)):\n",
    "    p_v = getPowersLD([1]*10, 0.5, p_d)\n",
    "    tab_res[i] = p_v[1]"
   ]
  },
  {
   "cell_type": "code",
   "execution_count": 92,
   "metadata": {
    "ExecuteTime": {
     "end_time": "2022-10-18T10:42:14.059824Z",
     "start_time": "2022-10-18T10:42:13.696746Z"
    }
   },
   "outputs": [
    {
     "data": {
      "image/png": "[encoded data removed]",
      "text/plain": [
       "<Figure size 432x288 with 1 Axes>"
      ]
     },
     "metadata": {
      "needs_background": "light"
     },
     "output_type": "display_data"
    }
   ],
   "source": [
    "tab_res\n",
    "plt.plot([n for n in tab_n], tab_res, '-o', label = \"Power\", color=\"g\")\n",
    "plt.legend()\n",
    "plt.xlim(0,1)\n",
    "plt.ylim(0,1)\n",
    "plt.title(\"10 voters\")\n",
    "plt.xlabel(\"p_d\")\n",
    "plt.ylabel(\"Power\")\n",
    "plt.show()"
   ]
  },
  {
   "cell_type": "code",
   "execution_count": 94,
   "metadata": {
    "ExecuteTime": {
     "end_time": "2022-10-18T10:50:20.680945Z",
     "start_time": "2022-10-18T10:44:42.039024Z"
    }
   },
   "outputs": [
    {
     "name": "stderr",
     "output_type": "stream",
     "text": [
      "11it [05:38, 30.78s/it]\n"
     ]
    }
   ],
   "source": [
    "n_voters = 10\n",
    "tab_n = np.linspace(0,1,11)\n",
    "len_tab = len(tab_n)\n",
    "tab_res = np.zeros((2,len_tab))\n",
    "\n",
    "for i, p_d in tqdm(enumerate(tab_n)):\n",
    "    p_v = getPowersLD([1]*6+[2]*4, 0.5, p_d)\n",
    "    tab_res[0,i] = p_v[1]\n",
    "    tab_res[1,i] = p_v[2]"
   ]
  },
  {
   "cell_type": "code",
   "execution_count": 96,
   "metadata": {
    "ExecuteTime": {
     "end_time": "2022-10-18T10:50:29.930251Z",
     "start_time": "2022-10-18T10:50:29.587254Z"
    }
   },
   "outputs": [
    {
     "data": {
      "image/png": "[encoded data removed]",
      "text/plain": [
       "<Figure size 432x288 with 1 Axes>"
      ]
     },
     "metadata": {
      "needs_background": "light"
     },
     "output_type": "display_data"
    }
   ],
   "source": [
    "tab_res\n",
    "plt.plot([n for n in tab_n], tab_res[0], '-o', label = \"Power of w1\", color=\"g\")\n",
    "plt.plot([n for n in tab_n], tab_res[1], '-o', label = \"Power of w2\", color=\"b\")\n",
    "plt.legend()\n",
    "plt.xlim(0,1)\n",
    "plt.ylim(0,1)\n",
    "plt.title(\"10 voters (6 w1, 4 w2)\")\n",
    "plt.xlabel(\"p_d\")\n",
    "plt.ylabel(\"Power\")\n",
    "plt.show()"
   ]
  }
 ],
 "metadata": {
  "kernelspec": {
   "display_name": "Python 3",
   "language": "python",
   "name": "python3"
  },
  "language_info": {
   "codemirror_mode": {
    "name": "ipython",
    "version": 3
   },
   "file_extension": ".py",
   "mimetype": "text/x-python",
   "name": "python",
   "nbconvert_exporter": "python",
   "pygments_lexer": "ipython3",
   "version": "3.7.3"
  }
 },
 "nbformat": 4,
 "nbformat_minor": 2
}
